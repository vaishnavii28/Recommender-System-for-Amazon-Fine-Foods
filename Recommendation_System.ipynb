{
 "cells": [
  {
   "cell_type": "code",
   "execution_count": 3,
   "metadata": {},
   "outputs": [],
   "source": [
    "import numpy as np\n",
    "import pandas as pd\n",
    "import matplotlib.pyplot as plt\n",
    "%matplotlib inline\n",
    "import nltk\n",
    "\n",
    "from sklearn.neighbors import NearestNeighbors\n",
    "from sklearn import neighbors\n",
    "from scipy.spatial.distance import cosine\n",
    "from sklearn.metrics import classification_report\n",
    "from sklearn.metrics import accuracy_score\n",
    "\n",
    "\n",
    "from sklearn.feature_selection import SelectKBest\n",
    "from sklearn.feature_extraction.text import CountVectorizer, TfidfTransformer\n",
    "\n",
    "import re\n",
    "import string\n",
    "from wordcloud import WordCloud, STOPWORDS"
   ]
  },
  {
   "cell_type": "code",
   "execution_count": 2,
   "metadata": {},
   "outputs": [
    {
     "name": "stdout",
     "output_type": "stream",
     "text": [
      "Collecting wordcloud\n",
      "  Downloading wordcloud-1.8.1.tar.gz (220 kB)\n",
      "\u001b[K     |████████████████████████████████| 220 kB 4.5 MB/s eta 0:00:01\n",
      "\u001b[?25hRequirement already satisfied: numpy>=1.6.1 in /Users/vaishnaviiparamashivam/opt/anaconda2/lib/python3.7/site-packages (from wordcloud) (1.18.1)\n",
      "Requirement already satisfied: pillow in /Users/vaishnaviiparamashivam/opt/anaconda2/lib/python3.7/site-packages (from wordcloud) (7.1.2)\n",
      "Requirement already satisfied: matplotlib in /Users/vaishnaviiparamashivam/opt/anaconda2/lib/python3.7/site-packages (from wordcloud) (3.1.3)\n",
      "Requirement already satisfied: python-dateutil>=2.1 in /Users/vaishnaviiparamashivam/opt/anaconda2/lib/python3.7/site-packages (from matplotlib->wordcloud) (2.8.1)\n",
      "Requirement already satisfied: cycler>=0.10 in /Users/vaishnaviiparamashivam/opt/anaconda2/lib/python3.7/site-packages (from matplotlib->wordcloud) (0.10.0)\n",
      "Requirement already satisfied: kiwisolver>=1.0.1 in /Users/vaishnaviiparamashivam/opt/anaconda2/lib/python3.7/site-packages (from matplotlib->wordcloud) (1.2.0)\n",
      "Requirement already satisfied: pyparsing!=2.0.4,!=2.1.2,!=2.1.6,>=2.0.1 in /Users/vaishnaviiparamashivam/opt/anaconda2/lib/python3.7/site-packages (from matplotlib->wordcloud) (2.4.2)\n",
      "Requirement already satisfied: six>=1.5 in /Users/vaishnaviiparamashivam/opt/anaconda2/lib/python3.7/site-packages (from python-dateutil>=2.1->matplotlib->wordcloud) (1.15.0)\n",
      "Building wheels for collected packages: wordcloud\n",
      "  Building wheel for wordcloud (setup.py) ... \u001b[?25ldone\n",
      "\u001b[?25h  Created wheel for wordcloud: filename=wordcloud-1.8.1-cp37-cp37m-macosx_10_9_x86_64.whl size=160323 sha256=bbe4bb599eecf1f9eccf97d325f83db55b24aabe53e7387989d624d805e28cdb\n",
      "  Stored in directory: /Users/vaishnaviiparamashivam/Library/Caches/pip/wheels/f8/f6/55/6bd394c32a844a621ca0fe5dbf563c8d71d71edaf095656991\n",
      "Successfully built wordcloud\n",
      "Installing collected packages: wordcloud\n",
      "Successfully installed wordcloud-1.8.1\n",
      "\u001b[33mWARNING: You are using pip version 20.2.3; however, version 21.0.1 is available.\n",
      "You should consider upgrading via the '/Users/vaishnaviiparamashivam/opt/anaconda2/bin/python3 -m pip install --upgrade pip' command.\u001b[0m\n"
     ]
    }
   ],
   "source": [
    "!pip install wordcloud"
   ]
  },
  {
   "cell_type": "code",
   "execution_count": null,
   "metadata": {},
   "outputs": [],
   "source": []
  },
  {
   "cell_type": "code",
   "execution_count": 4,
   "metadata": {},
   "outputs": [],
   "source": [
    "#import data\n",
    "df = pd.read_csv(\"/Users/vaishnaviiparamashivam/Downloads/Reviews.csv\")"
   ]
  },
  {
   "cell_type": "code",
   "execution_count": 5,
   "metadata": {},
   "outputs": [
    {
     "data": {
      "text/html": [
       "<div>\n",
       "<style scoped>\n",
       "    .dataframe tbody tr th:only-of-type {\n",
       "        vertical-align: middle;\n",
       "    }\n",
       "\n",
       "    .dataframe tbody tr th {\n",
       "        vertical-align: top;\n",
       "    }\n",
       "\n",
       "    .dataframe thead th {\n",
       "        text-align: right;\n",
       "    }\n",
       "</style>\n",
       "<table border=\"1\" class=\"dataframe\">\n",
       "  <thead>\n",
       "    <tr style=\"text-align: right;\">\n",
       "      <th></th>\n",
       "      <th>Id</th>\n",
       "      <th>ProductId</th>\n",
       "      <th>UserId</th>\n",
       "      <th>ProfileName</th>\n",
       "      <th>HelpfulnessNumerator</th>\n",
       "      <th>HelpfulnessDenominator</th>\n",
       "      <th>Score</th>\n",
       "      <th>Time</th>\n",
       "      <th>Summary</th>\n",
       "      <th>Text</th>\n",
       "    </tr>\n",
       "  </thead>\n",
       "  <tbody>\n",
       "    <tr>\n",
       "      <th>0</th>\n",
       "      <td>1</td>\n",
       "      <td>B001E4KFG0</td>\n",
       "      <td>A3SGXH7AUHU8GW</td>\n",
       "      <td>delmartian</td>\n",
       "      <td>1</td>\n",
       "      <td>1</td>\n",
       "      <td>5</td>\n",
       "      <td>1303862400</td>\n",
       "      <td>Good Quality Dog Food</td>\n",
       "      <td>I have bought several of the Vitality canned d...</td>\n",
       "    </tr>\n",
       "    <tr>\n",
       "      <th>1</th>\n",
       "      <td>2</td>\n",
       "      <td>B00813GRG4</td>\n",
       "      <td>A1D87F6ZCVE5NK</td>\n",
       "      <td>dll pa</td>\n",
       "      <td>0</td>\n",
       "      <td>0</td>\n",
       "      <td>1</td>\n",
       "      <td>1346976000</td>\n",
       "      <td>Not as Advertised</td>\n",
       "      <td>Product arrived labeled as Jumbo Salted Peanut...</td>\n",
       "    </tr>\n",
       "    <tr>\n",
       "      <th>2</th>\n",
       "      <td>3</td>\n",
       "      <td>B000LQOCH0</td>\n",
       "      <td>ABXLMWJIXXAIN</td>\n",
       "      <td>Natalia Corres \"Natalia Corres\"</td>\n",
       "      <td>1</td>\n",
       "      <td>1</td>\n",
       "      <td>4</td>\n",
       "      <td>1219017600</td>\n",
       "      <td>\"Delight\" says it all</td>\n",
       "      <td>This is a confection that has been around a fe...</td>\n",
       "    </tr>\n",
       "    <tr>\n",
       "      <th>3</th>\n",
       "      <td>4</td>\n",
       "      <td>B000UA0QIQ</td>\n",
       "      <td>A395BORC6FGVXV</td>\n",
       "      <td>Karl</td>\n",
       "      <td>3</td>\n",
       "      <td>3</td>\n",
       "      <td>2</td>\n",
       "      <td>1307923200</td>\n",
       "      <td>Cough Medicine</td>\n",
       "      <td>If you are looking for the secret ingredient i...</td>\n",
       "    </tr>\n",
       "    <tr>\n",
       "      <th>4</th>\n",
       "      <td>5</td>\n",
       "      <td>B006K2ZZ7K</td>\n",
       "      <td>A1UQRSCLF8GW1T</td>\n",
       "      <td>Michael D. Bigham \"M. Wassir\"</td>\n",
       "      <td>0</td>\n",
       "      <td>0</td>\n",
       "      <td>5</td>\n",
       "      <td>1350777600</td>\n",
       "      <td>Great taffy</td>\n",
       "      <td>Great taffy at a great price.  There was a wid...</td>\n",
       "    </tr>\n",
       "    <tr>\n",
       "      <th>...</th>\n",
       "      <td>...</td>\n",
       "      <td>...</td>\n",
       "      <td>...</td>\n",
       "      <td>...</td>\n",
       "      <td>...</td>\n",
       "      <td>...</td>\n",
       "      <td>...</td>\n",
       "      <td>...</td>\n",
       "      <td>...</td>\n",
       "      <td>...</td>\n",
       "    </tr>\n",
       "    <tr>\n",
       "      <th>568449</th>\n",
       "      <td>568450</td>\n",
       "      <td>B001EO7N10</td>\n",
       "      <td>A28KG5XORO54AY</td>\n",
       "      <td>Lettie D. Carter</td>\n",
       "      <td>0</td>\n",
       "      <td>0</td>\n",
       "      <td>5</td>\n",
       "      <td>1299628800</td>\n",
       "      <td>Will not do without</td>\n",
       "      <td>Great for sesame chicken..this is a good if no...</td>\n",
       "    </tr>\n",
       "    <tr>\n",
       "      <th>568450</th>\n",
       "      <td>568451</td>\n",
       "      <td>B003S1WTCU</td>\n",
       "      <td>A3I8AFVPEE8KI5</td>\n",
       "      <td>R. Sawyer</td>\n",
       "      <td>0</td>\n",
       "      <td>0</td>\n",
       "      <td>2</td>\n",
       "      <td>1331251200</td>\n",
       "      <td>disappointed</td>\n",
       "      <td>I'm disappointed with the flavor. The chocolat...</td>\n",
       "    </tr>\n",
       "    <tr>\n",
       "      <th>568451</th>\n",
       "      <td>568452</td>\n",
       "      <td>B004I613EE</td>\n",
       "      <td>A121AA1GQV751Z</td>\n",
       "      <td>pksd \"pk_007\"</td>\n",
       "      <td>2</td>\n",
       "      <td>2</td>\n",
       "      <td>5</td>\n",
       "      <td>1329782400</td>\n",
       "      <td>Perfect for our maltipoo</td>\n",
       "      <td>These stars are small, so you can give 10-15 o...</td>\n",
       "    </tr>\n",
       "    <tr>\n",
       "      <th>568452</th>\n",
       "      <td>568453</td>\n",
       "      <td>B004I613EE</td>\n",
       "      <td>A3IBEVCTXKNOH</td>\n",
       "      <td>Kathy A. Welch \"katwel\"</td>\n",
       "      <td>1</td>\n",
       "      <td>1</td>\n",
       "      <td>5</td>\n",
       "      <td>1331596800</td>\n",
       "      <td>Favorite Training and reward treat</td>\n",
       "      <td>These are the BEST treats for training and rew...</td>\n",
       "    </tr>\n",
       "    <tr>\n",
       "      <th>568453</th>\n",
       "      <td>568454</td>\n",
       "      <td>B001LR2CU2</td>\n",
       "      <td>A3LGQPJCZVL9UC</td>\n",
       "      <td>srfell17</td>\n",
       "      <td>0</td>\n",
       "      <td>0</td>\n",
       "      <td>5</td>\n",
       "      <td>1338422400</td>\n",
       "      <td>Great Honey</td>\n",
       "      <td>I am very satisfied ,product is as advertised,...</td>\n",
       "    </tr>\n",
       "  </tbody>\n",
       "</table>\n",
       "<p>568454 rows × 10 columns</p>\n",
       "</div>"
      ],
      "text/plain": [
       "            Id   ProductId          UserId                      ProfileName  \\\n",
       "0            1  B001E4KFG0  A3SGXH7AUHU8GW                       delmartian   \n",
       "1            2  B00813GRG4  A1D87F6ZCVE5NK                           dll pa   \n",
       "2            3  B000LQOCH0   ABXLMWJIXXAIN  Natalia Corres \"Natalia Corres\"   \n",
       "3            4  B000UA0QIQ  A395BORC6FGVXV                             Karl   \n",
       "4            5  B006K2ZZ7K  A1UQRSCLF8GW1T    Michael D. Bigham \"M. Wassir\"   \n",
       "...        ...         ...             ...                              ...   \n",
       "568449  568450  B001EO7N10  A28KG5XORO54AY                 Lettie D. Carter   \n",
       "568450  568451  B003S1WTCU  A3I8AFVPEE8KI5                        R. Sawyer   \n",
       "568451  568452  B004I613EE  A121AA1GQV751Z                    pksd \"pk_007\"   \n",
       "568452  568453  B004I613EE   A3IBEVCTXKNOH          Kathy A. Welch \"katwel\"   \n",
       "568453  568454  B001LR2CU2  A3LGQPJCZVL9UC                         srfell17   \n",
       "\n",
       "        HelpfulnessNumerator  HelpfulnessDenominator  Score        Time  \\\n",
       "0                          1                       1      5  1303862400   \n",
       "1                          0                       0      1  1346976000   \n",
       "2                          1                       1      4  1219017600   \n",
       "3                          3                       3      2  1307923200   \n",
       "4                          0                       0      5  1350777600   \n",
       "...                      ...                     ...    ...         ...   \n",
       "568449                     0                       0      5  1299628800   \n",
       "568450                     0                       0      2  1331251200   \n",
       "568451                     2                       2      5  1329782400   \n",
       "568452                     1                       1      5  1331596800   \n",
       "568453                     0                       0      5  1338422400   \n",
       "\n",
       "                                   Summary  \\\n",
       "0                    Good Quality Dog Food   \n",
       "1                        Not as Advertised   \n",
       "2                    \"Delight\" says it all   \n",
       "3                           Cough Medicine   \n",
       "4                              Great taffy   \n",
       "...                                    ...   \n",
       "568449                 Will not do without   \n",
       "568450                        disappointed   \n",
       "568451            Perfect for our maltipoo   \n",
       "568452  Favorite Training and reward treat   \n",
       "568453                         Great Honey   \n",
       "\n",
       "                                                     Text  \n",
       "0       I have bought several of the Vitality canned d...  \n",
       "1       Product arrived labeled as Jumbo Salted Peanut...  \n",
       "2       This is a confection that has been around a fe...  \n",
       "3       If you are looking for the secret ingredient i...  \n",
       "4       Great taffy at a great price.  There was a wid...  \n",
       "...                                                   ...  \n",
       "568449  Great for sesame chicken..this is a good if no...  \n",
       "568450  I'm disappointed with the flavor. The chocolat...  \n",
       "568451  These stars are small, so you can give 10-15 o...  \n",
       "568452  These are the BEST treats for training and rew...  \n",
       "568453  I am very satisfied ,product is as advertised,...  \n",
       "\n",
       "[568454 rows x 10 columns]"
      ]
     },
     "execution_count": 5,
     "metadata": {},
     "output_type": "execute_result"
    }
   ],
   "source": [
    "df"
   ]
  },
  {
   "cell_type": "code",
   "execution_count": 156,
   "metadata": {},
   "outputs": [
    {
     "name": "stdout",
     "output_type": "stream",
     "text": [
      "Index(['Id', 'ProductId', 'UserId', 'ProfileName', 'HelpfulnessNumerator',\n",
      "       'HelpfulnessDenominator', 'Score', 'Time', 'Summary', 'Text'],\n",
      "      dtype='object')\n",
      "(568454, 10)\n"
     ]
    }
   ],
   "source": [
    "#Basic Information shape and columns\n",
    "print(df.columns)\n",
    "print(df.shape)"
   ]
  },
  {
   "cell_type": "code",
   "execution_count": 6,
   "metadata": {},
   "outputs": [],
   "source": [
    "#compute the count and mean value as group by the products\n",
    "count = df.groupby(\"ProductId\", as_index=False).count()\n",
    "mean = df.groupby(\"ProductId\", as_index=False).mean()\n",
    "\n",
    "#merge two dataset create df1\n",
    "df1 = pd.merge(df, count, how='right', on=['ProductId'])\n",
    "\n",
    " "
   ]
  },
  {
   "cell_type": "code",
   "execution_count": 7,
   "metadata": {},
   "outputs": [
    {
     "data": {
      "text/html": [
       "<div>\n",
       "<style scoped>\n",
       "    .dataframe tbody tr th:only-of-type {\n",
       "        vertical-align: middle;\n",
       "    }\n",
       "\n",
       "    .dataframe tbody tr th {\n",
       "        vertical-align: top;\n",
       "    }\n",
       "\n",
       "    .dataframe thead th {\n",
       "        text-align: right;\n",
       "    }\n",
       "</style>\n",
       "<table border=\"1\" class=\"dataframe\">\n",
       "  <thead>\n",
       "    <tr style=\"text-align: right;\">\n",
       "      <th></th>\n",
       "      <th>Id_x</th>\n",
       "      <th>ProductId</th>\n",
       "      <th>UserId_x</th>\n",
       "      <th>ProfileName_x</th>\n",
       "      <th>HelpfulnessNumerator_x</th>\n",
       "      <th>HelpfulnessDenominator_x</th>\n",
       "      <th>Score_x</th>\n",
       "      <th>Time_x</th>\n",
       "      <th>Summary_x</th>\n",
       "      <th>Text_x</th>\n",
       "      <th>Id_y</th>\n",
       "      <th>UserId_y</th>\n",
       "      <th>ProfileName_y</th>\n",
       "      <th>HelpfulnessNumerator_y</th>\n",
       "      <th>HelpfulnessDenominator_y</th>\n",
       "      <th>Score_y</th>\n",
       "      <th>Time_y</th>\n",
       "      <th>Summary_y</th>\n",
       "      <th>Text_y</th>\n",
       "    </tr>\n",
       "  </thead>\n",
       "  <tbody>\n",
       "    <tr>\n",
       "      <th>0</th>\n",
       "      <td>1</td>\n",
       "      <td>B001E4KFG0</td>\n",
       "      <td>A3SGXH7AUHU8GW</td>\n",
       "      <td>delmartian</td>\n",
       "      <td>1</td>\n",
       "      <td>1</td>\n",
       "      <td>5</td>\n",
       "      <td>1303862400</td>\n",
       "      <td>Good Quality Dog Food</td>\n",
       "      <td>I have bought several of the Vitality canned d...</td>\n",
       "      <td>1</td>\n",
       "      <td>1</td>\n",
       "      <td>1</td>\n",
       "      <td>1</td>\n",
       "      <td>1</td>\n",
       "      <td>1</td>\n",
       "      <td>1</td>\n",
       "      <td>1</td>\n",
       "      <td>1</td>\n",
       "    </tr>\n",
       "    <tr>\n",
       "      <th>1</th>\n",
       "      <td>2</td>\n",
       "      <td>B00813GRG4</td>\n",
       "      <td>A1D87F6ZCVE5NK</td>\n",
       "      <td>dll pa</td>\n",
       "      <td>0</td>\n",
       "      <td>0</td>\n",
       "      <td>1</td>\n",
       "      <td>1346976000</td>\n",
       "      <td>Not as Advertised</td>\n",
       "      <td>Product arrived labeled as Jumbo Salted Peanut...</td>\n",
       "      <td>1</td>\n",
       "      <td>1</td>\n",
       "      <td>1</td>\n",
       "      <td>1</td>\n",
       "      <td>1</td>\n",
       "      <td>1</td>\n",
       "      <td>1</td>\n",
       "      <td>1</td>\n",
       "      <td>1</td>\n",
       "    </tr>\n",
       "    <tr>\n",
       "      <th>2</th>\n",
       "      <td>3</td>\n",
       "      <td>B000LQOCH0</td>\n",
       "      <td>ABXLMWJIXXAIN</td>\n",
       "      <td>Natalia Corres \"Natalia Corres\"</td>\n",
       "      <td>1</td>\n",
       "      <td>1</td>\n",
       "      <td>4</td>\n",
       "      <td>1219017600</td>\n",
       "      <td>\"Delight\" says it all</td>\n",
       "      <td>This is a confection that has been around a fe...</td>\n",
       "      <td>1</td>\n",
       "      <td>1</td>\n",
       "      <td>1</td>\n",
       "      <td>1</td>\n",
       "      <td>1</td>\n",
       "      <td>1</td>\n",
       "      <td>1</td>\n",
       "      <td>1</td>\n",
       "      <td>1</td>\n",
       "    </tr>\n",
       "    <tr>\n",
       "      <th>3</th>\n",
       "      <td>4</td>\n",
       "      <td>B000UA0QIQ</td>\n",
       "      <td>A395BORC6FGVXV</td>\n",
       "      <td>Karl</td>\n",
       "      <td>3</td>\n",
       "      <td>3</td>\n",
       "      <td>2</td>\n",
       "      <td>1307923200</td>\n",
       "      <td>Cough Medicine</td>\n",
       "      <td>If you are looking for the secret ingredient i...</td>\n",
       "      <td>1</td>\n",
       "      <td>1</td>\n",
       "      <td>1</td>\n",
       "      <td>1</td>\n",
       "      <td>1</td>\n",
       "      <td>1</td>\n",
       "      <td>1</td>\n",
       "      <td>1</td>\n",
       "      <td>1</td>\n",
       "    </tr>\n",
       "    <tr>\n",
       "      <th>4</th>\n",
       "      <td>5</td>\n",
       "      <td>B006K2ZZ7K</td>\n",
       "      <td>A1UQRSCLF8GW1T</td>\n",
       "      <td>Michael D. Bigham \"M. Wassir\"</td>\n",
       "      <td>0</td>\n",
       "      <td>0</td>\n",
       "      <td>5</td>\n",
       "      <td>1350777600</td>\n",
       "      <td>Great taffy</td>\n",
       "      <td>Great taffy at a great price.  There was a wid...</td>\n",
       "      <td>4</td>\n",
       "      <td>4</td>\n",
       "      <td>4</td>\n",
       "      <td>4</td>\n",
       "      <td>4</td>\n",
       "      <td>4</td>\n",
       "      <td>4</td>\n",
       "      <td>4</td>\n",
       "      <td>4</td>\n",
       "    </tr>\n",
       "    <tr>\n",
       "      <th>...</th>\n",
       "      <td>...</td>\n",
       "      <td>...</td>\n",
       "      <td>...</td>\n",
       "      <td>...</td>\n",
       "      <td>...</td>\n",
       "      <td>...</td>\n",
       "      <td>...</td>\n",
       "      <td>...</td>\n",
       "      <td>...</td>\n",
       "      <td>...</td>\n",
       "      <td>...</td>\n",
       "      <td>...</td>\n",
       "      <td>...</td>\n",
       "      <td>...</td>\n",
       "      <td>...</td>\n",
       "      <td>...</td>\n",
       "      <td>...</td>\n",
       "      <td>...</td>\n",
       "      <td>...</td>\n",
       "    </tr>\n",
       "    <tr>\n",
       "      <th>568449</th>\n",
       "      <td>568450</td>\n",
       "      <td>B001EO7N10</td>\n",
       "      <td>A28KG5XORO54AY</td>\n",
       "      <td>Lettie D. Carter</td>\n",
       "      <td>0</td>\n",
       "      <td>0</td>\n",
       "      <td>5</td>\n",
       "      <td>1299628800</td>\n",
       "      <td>Will not do without</td>\n",
       "      <td>Great for sesame chicken..this is a good if no...</td>\n",
       "      <td>6</td>\n",
       "      <td>6</td>\n",
       "      <td>6</td>\n",
       "      <td>6</td>\n",
       "      <td>6</td>\n",
       "      <td>6</td>\n",
       "      <td>6</td>\n",
       "      <td>6</td>\n",
       "      <td>6</td>\n",
       "    </tr>\n",
       "    <tr>\n",
       "      <th>568450</th>\n",
       "      <td>568451</td>\n",
       "      <td>B003S1WTCU</td>\n",
       "      <td>A3I8AFVPEE8KI5</td>\n",
       "      <td>R. Sawyer</td>\n",
       "      <td>0</td>\n",
       "      <td>0</td>\n",
       "      <td>2</td>\n",
       "      <td>1331251200</td>\n",
       "      <td>disappointed</td>\n",
       "      <td>I'm disappointed with the flavor. The chocolat...</td>\n",
       "      <td>1</td>\n",
       "      <td>1</td>\n",
       "      <td>1</td>\n",
       "      <td>1</td>\n",
       "      <td>1</td>\n",
       "      <td>1</td>\n",
       "      <td>1</td>\n",
       "      <td>1</td>\n",
       "      <td>1</td>\n",
       "    </tr>\n",
       "    <tr>\n",
       "      <th>568451</th>\n",
       "      <td>568452</td>\n",
       "      <td>B004I613EE</td>\n",
       "      <td>A121AA1GQV751Z</td>\n",
       "      <td>pksd \"pk_007\"</td>\n",
       "      <td>2</td>\n",
       "      <td>2</td>\n",
       "      <td>5</td>\n",
       "      <td>1329782400</td>\n",
       "      <td>Perfect for our maltipoo</td>\n",
       "      <td>These stars are small, so you can give 10-15 o...</td>\n",
       "      <td>2</td>\n",
       "      <td>2</td>\n",
       "      <td>2</td>\n",
       "      <td>2</td>\n",
       "      <td>2</td>\n",
       "      <td>2</td>\n",
       "      <td>2</td>\n",
       "      <td>2</td>\n",
       "      <td>2</td>\n",
       "    </tr>\n",
       "    <tr>\n",
       "      <th>568452</th>\n",
       "      <td>568453</td>\n",
       "      <td>B004I613EE</td>\n",
       "      <td>A3IBEVCTXKNOH</td>\n",
       "      <td>Kathy A. Welch \"katwel\"</td>\n",
       "      <td>1</td>\n",
       "      <td>1</td>\n",
       "      <td>5</td>\n",
       "      <td>1331596800</td>\n",
       "      <td>Favorite Training and reward treat</td>\n",
       "      <td>These are the BEST treats for training and rew...</td>\n",
       "      <td>2</td>\n",
       "      <td>2</td>\n",
       "      <td>2</td>\n",
       "      <td>2</td>\n",
       "      <td>2</td>\n",
       "      <td>2</td>\n",
       "      <td>2</td>\n",
       "      <td>2</td>\n",
       "      <td>2</td>\n",
       "    </tr>\n",
       "    <tr>\n",
       "      <th>568453</th>\n",
       "      <td>568454</td>\n",
       "      <td>B001LR2CU2</td>\n",
       "      <td>A3LGQPJCZVL9UC</td>\n",
       "      <td>srfell17</td>\n",
       "      <td>0</td>\n",
       "      <td>0</td>\n",
       "      <td>5</td>\n",
       "      <td>1338422400</td>\n",
       "      <td>Great Honey</td>\n",
       "      <td>I am very satisfied ,product is as advertised,...</td>\n",
       "      <td>1</td>\n",
       "      <td>1</td>\n",
       "      <td>1</td>\n",
       "      <td>1</td>\n",
       "      <td>1</td>\n",
       "      <td>1</td>\n",
       "      <td>1</td>\n",
       "      <td>1</td>\n",
       "      <td>1</td>\n",
       "    </tr>\n",
       "  </tbody>\n",
       "</table>\n",
       "<p>568454 rows × 19 columns</p>\n",
       "</div>"
      ],
      "text/plain": [
       "          Id_x   ProductId        UserId_x                    ProfileName_x  \\\n",
       "0            1  B001E4KFG0  A3SGXH7AUHU8GW                       delmartian   \n",
       "1            2  B00813GRG4  A1D87F6ZCVE5NK                           dll pa   \n",
       "2            3  B000LQOCH0   ABXLMWJIXXAIN  Natalia Corres \"Natalia Corres\"   \n",
       "3            4  B000UA0QIQ  A395BORC6FGVXV                             Karl   \n",
       "4            5  B006K2ZZ7K  A1UQRSCLF8GW1T    Michael D. Bigham \"M. Wassir\"   \n",
       "...        ...         ...             ...                              ...   \n",
       "568449  568450  B001EO7N10  A28KG5XORO54AY                 Lettie D. Carter   \n",
       "568450  568451  B003S1WTCU  A3I8AFVPEE8KI5                        R. Sawyer   \n",
       "568451  568452  B004I613EE  A121AA1GQV751Z                    pksd \"pk_007\"   \n",
       "568452  568453  B004I613EE   A3IBEVCTXKNOH          Kathy A. Welch \"katwel\"   \n",
       "568453  568454  B001LR2CU2  A3LGQPJCZVL9UC                         srfell17   \n",
       "\n",
       "        HelpfulnessNumerator_x  HelpfulnessDenominator_x  Score_x      Time_x  \\\n",
       "0                            1                         1        5  1303862400   \n",
       "1                            0                         0        1  1346976000   \n",
       "2                            1                         1        4  1219017600   \n",
       "3                            3                         3        2  1307923200   \n",
       "4                            0                         0        5  1350777600   \n",
       "...                        ...                       ...      ...         ...   \n",
       "568449                       0                         0        5  1299628800   \n",
       "568450                       0                         0        2  1331251200   \n",
       "568451                       2                         2        5  1329782400   \n",
       "568452                       1                         1        5  1331596800   \n",
       "568453                       0                         0        5  1338422400   \n",
       "\n",
       "                                 Summary_x  \\\n",
       "0                    Good Quality Dog Food   \n",
       "1                        Not as Advertised   \n",
       "2                    \"Delight\" says it all   \n",
       "3                           Cough Medicine   \n",
       "4                              Great taffy   \n",
       "...                                    ...   \n",
       "568449                 Will not do without   \n",
       "568450                        disappointed   \n",
       "568451            Perfect for our maltipoo   \n",
       "568452  Favorite Training and reward treat   \n",
       "568453                         Great Honey   \n",
       "\n",
       "                                                   Text_x  Id_y  UserId_y  \\\n",
       "0       I have bought several of the Vitality canned d...     1         1   \n",
       "1       Product arrived labeled as Jumbo Salted Peanut...     1         1   \n",
       "2       This is a confection that has been around a fe...     1         1   \n",
       "3       If you are looking for the secret ingredient i...     1         1   \n",
       "4       Great taffy at a great price.  There was a wid...     4         4   \n",
       "...                                                   ...   ...       ...   \n",
       "568449  Great for sesame chicken..this is a good if no...     6         6   \n",
       "568450  I'm disappointed with the flavor. The chocolat...     1         1   \n",
       "568451  These stars are small, so you can give 10-15 o...     2         2   \n",
       "568452  These are the BEST treats for training and rew...     2         2   \n",
       "568453  I am very satisfied ,product is as advertised,...     1         1   \n",
       "\n",
       "        ProfileName_y  HelpfulnessNumerator_y  HelpfulnessDenominator_y  \\\n",
       "0                   1                       1                         1   \n",
       "1                   1                       1                         1   \n",
       "2                   1                       1                         1   \n",
       "3                   1                       1                         1   \n",
       "4                   4                       4                         4   \n",
       "...               ...                     ...                       ...   \n",
       "568449              6                       6                         6   \n",
       "568450              1                       1                         1   \n",
       "568451              2                       2                         2   \n",
       "568452              2                       2                         2   \n",
       "568453              1                       1                         1   \n",
       "\n",
       "        Score_y  Time_y  Summary_y  Text_y  \n",
       "0             1       1          1       1  \n",
       "1             1       1          1       1  \n",
       "2             1       1          1       1  \n",
       "3             1       1          1       1  \n",
       "4             4       4          4       4  \n",
       "...         ...     ...        ...     ...  \n",
       "568449        6       6          6       6  \n",
       "568450        1       1          1       1  \n",
       "568451        2       2          2       2  \n",
       "568452        2       2          2       2  \n",
       "568453        1       1          1       1  \n",
       "\n",
       "[568454 rows x 19 columns]"
      ]
     },
     "execution_count": 7,
     "metadata": {},
     "output_type": "execute_result"
    }
   ],
   "source": [
    "df1"
   ]
  },
  {
   "cell_type": "code",
   "execution_count": 8,
   "metadata": {},
   "outputs": [],
   "source": [
    "#rename column\n",
    "df1[\"Count\"] = df1[\"UserId_y\"]\n",
    "df1[\"Score\"] = df1[\"Score_x\"]\n",
    "df1[\"Summary\"] = df1[\"Summary_x\"]\n",
    "\n",
    "#Create New datafram with selected variables\n",
    "df1 = df1[['ProductId','Summary','Score',\"Count\"]]"
   ]
  },
  {
   "cell_type": "code",
   "execution_count": 9,
   "metadata": {
    "scrolled": true
   },
   "outputs": [
    {
     "data": {
      "text/html": [
       "<div>\n",
       "<style scoped>\n",
       "    .dataframe tbody tr th:only-of-type {\n",
       "        vertical-align: middle;\n",
       "    }\n",
       "\n",
       "    .dataframe tbody tr th {\n",
       "        vertical-align: top;\n",
       "    }\n",
       "\n",
       "    .dataframe thead th {\n",
       "        text-align: right;\n",
       "    }\n",
       "</style>\n",
       "<table border=\"1\" class=\"dataframe\">\n",
       "  <thead>\n",
       "    <tr style=\"text-align: right;\">\n",
       "      <th></th>\n",
       "      <th>ProductId</th>\n",
       "      <th>Summary</th>\n",
       "      <th>Score</th>\n",
       "      <th>Count</th>\n",
       "    </tr>\n",
       "  </thead>\n",
       "  <tbody>\n",
       "    <tr>\n",
       "      <th>0</th>\n",
       "      <td>B001E4KFG0</td>\n",
       "      <td>Good Quality Dog Food</td>\n",
       "      <td>5</td>\n",
       "      <td>1</td>\n",
       "    </tr>\n",
       "    <tr>\n",
       "      <th>1</th>\n",
       "      <td>B00813GRG4</td>\n",
       "      <td>Not as Advertised</td>\n",
       "      <td>1</td>\n",
       "      <td>1</td>\n",
       "    </tr>\n",
       "    <tr>\n",
       "      <th>2</th>\n",
       "      <td>B000LQOCH0</td>\n",
       "      <td>\"Delight\" says it all</td>\n",
       "      <td>4</td>\n",
       "      <td>1</td>\n",
       "    </tr>\n",
       "    <tr>\n",
       "      <th>3</th>\n",
       "      <td>B000UA0QIQ</td>\n",
       "      <td>Cough Medicine</td>\n",
       "      <td>2</td>\n",
       "      <td>1</td>\n",
       "    </tr>\n",
       "    <tr>\n",
       "      <th>4</th>\n",
       "      <td>B006K2ZZ7K</td>\n",
       "      <td>Great taffy</td>\n",
       "      <td>5</td>\n",
       "      <td>4</td>\n",
       "    </tr>\n",
       "    <tr>\n",
       "      <th>...</th>\n",
       "      <td>...</td>\n",
       "      <td>...</td>\n",
       "      <td>...</td>\n",
       "      <td>...</td>\n",
       "    </tr>\n",
       "    <tr>\n",
       "      <th>568449</th>\n",
       "      <td>B001EO7N10</td>\n",
       "      <td>Will not do without</td>\n",
       "      <td>5</td>\n",
       "      <td>6</td>\n",
       "    </tr>\n",
       "    <tr>\n",
       "      <th>568450</th>\n",
       "      <td>B003S1WTCU</td>\n",
       "      <td>disappointed</td>\n",
       "      <td>2</td>\n",
       "      <td>1</td>\n",
       "    </tr>\n",
       "    <tr>\n",
       "      <th>568451</th>\n",
       "      <td>B004I613EE</td>\n",
       "      <td>Perfect for our maltipoo</td>\n",
       "      <td>5</td>\n",
       "      <td>2</td>\n",
       "    </tr>\n",
       "    <tr>\n",
       "      <th>568452</th>\n",
       "      <td>B004I613EE</td>\n",
       "      <td>Favorite Training and reward treat</td>\n",
       "      <td>5</td>\n",
       "      <td>2</td>\n",
       "    </tr>\n",
       "    <tr>\n",
       "      <th>568453</th>\n",
       "      <td>B001LR2CU2</td>\n",
       "      <td>Great Honey</td>\n",
       "      <td>5</td>\n",
       "      <td>1</td>\n",
       "    </tr>\n",
       "  </tbody>\n",
       "</table>\n",
       "<p>568454 rows × 4 columns</p>\n",
       "</div>"
      ],
      "text/plain": [
       "         ProductId                             Summary  Score  Count\n",
       "0       B001E4KFG0               Good Quality Dog Food      5      1\n",
       "1       B00813GRG4                   Not as Advertised      1      1\n",
       "2       B000LQOCH0               \"Delight\" says it all      4      1\n",
       "3       B000UA0QIQ                      Cough Medicine      2      1\n",
       "4       B006K2ZZ7K                         Great taffy      5      4\n",
       "...            ...                                 ...    ...    ...\n",
       "568449  B001EO7N10                 Will not do without      5      6\n",
       "568450  B003S1WTCU                        disappointed      2      1\n",
       "568451  B004I613EE            Perfect for our maltipoo      5      2\n",
       "568452  B004I613EE  Favorite Training and reward treat      5      2\n",
       "568453  B001LR2CU2                         Great Honey      5      1\n",
       "\n",
       "[568454 rows x 4 columns]"
      ]
     },
     "execution_count": 9,
     "metadata": {},
     "output_type": "execute_result"
    }
   ],
   "source": [
    "df1"
   ]
  },
  {
   "cell_type": "code",
   "execution_count": 10,
   "metadata": {},
   "outputs": [],
   "source": [
    "#choose only products have over 100 reviews\n",
    "df1 = df1.sort_values(by='Count', ascending=False)\n",
    "df2 = df1[df1.Count >= 100]"
   ]
  },
  {
   "cell_type": "code",
   "execution_count": 11,
   "metadata": {
    "scrolled": true
   },
   "outputs": [
    {
     "data": {
      "text/html": [
       "<div>\n",
       "<style scoped>\n",
       "    .dataframe tbody tr th:only-of-type {\n",
       "        vertical-align: middle;\n",
       "    }\n",
       "\n",
       "    .dataframe tbody tr th {\n",
       "        vertical-align: top;\n",
       "    }\n",
       "\n",
       "    .dataframe thead th {\n",
       "        text-align: right;\n",
       "    }\n",
       "</style>\n",
       "<table border=\"1\" class=\"dataframe\">\n",
       "  <thead>\n",
       "    <tr style=\"text-align: right;\">\n",
       "      <th></th>\n",
       "      <th>ProductId</th>\n",
       "      <th>Summary</th>\n",
       "      <th>Score</th>\n",
       "      <th>Count</th>\n",
       "    </tr>\n",
       "  </thead>\n",
       "  <tbody>\n",
       "    <tr>\n",
       "      <th>563881</th>\n",
       "      <td>B007JFMH8M</td>\n",
       "      <td>yummy</td>\n",
       "      <td>5</td>\n",
       "      <td>913</td>\n",
       "    </tr>\n",
       "    <tr>\n",
       "      <th>563615</th>\n",
       "      <td>B007JFMH8M</td>\n",
       "      <td>Healthy and yummy too</td>\n",
       "      <td>5</td>\n",
       "      <td>913</td>\n",
       "    </tr>\n",
       "    <tr>\n",
       "      <th>563629</th>\n",
       "      <td>B007JFMH8M</td>\n",
       "      <td>Soft and chewy but a bit too sweet!</td>\n",
       "      <td>4</td>\n",
       "      <td>913</td>\n",
       "    </tr>\n",
       "    <tr>\n",
       "      <th>563628</th>\n",
       "      <td>B007JFMH8M</td>\n",
       "      <td>Pretty Good Cookie</td>\n",
       "      <td>4</td>\n",
       "      <td>913</td>\n",
       "    </tr>\n",
       "    <tr>\n",
       "      <th>563627</th>\n",
       "      <td>B007JFMH8M</td>\n",
       "      <td>Good Taste and Flavor But a Little on the Dry ...</td>\n",
       "      <td>3</td>\n",
       "      <td>913</td>\n",
       "    </tr>\n",
       "    <tr>\n",
       "      <th>...</th>\n",
       "      <td>...</td>\n",
       "      <td>...</td>\n",
       "      <td>...</td>\n",
       "      <td>...</td>\n",
       "    </tr>\n",
       "    <tr>\n",
       "      <th>528752</th>\n",
       "      <td>B000EVMNMI</td>\n",
       "      <td>Great Value!</td>\n",
       "      <td>4</td>\n",
       "      <td>100</td>\n",
       "    </tr>\n",
       "    <tr>\n",
       "      <th>11802</th>\n",
       "      <td>B004P4TL8E</td>\n",
       "      <td>This is not necessarily a \"space saver\"</td>\n",
       "      <td>4</td>\n",
       "      <td>100</td>\n",
       "    </tr>\n",
       "    <tr>\n",
       "      <th>528755</th>\n",
       "      <td>B000EVMNMI</td>\n",
       "      <td>Super Yummy Cola Taste!</td>\n",
       "      <td>5</td>\n",
       "      <td>100</td>\n",
       "    </tr>\n",
       "    <tr>\n",
       "      <th>11800</th>\n",
       "      <td>B004P4TL8E</td>\n",
       "      <td>Great tray for storing various K-cup varieties</td>\n",
       "      <td>4</td>\n",
       "      <td>100</td>\n",
       "    </tr>\n",
       "    <tr>\n",
       "      <th>11801</th>\n",
       "      <td>B004P4TL8E</td>\n",
       "      <td>Unhappy With Purchase</td>\n",
       "      <td>1</td>\n",
       "      <td>100</td>\n",
       "    </tr>\n",
       "  </tbody>\n",
       "</table>\n",
       "<p>176025 rows × 4 columns</p>\n",
       "</div>"
      ],
      "text/plain": [
       "         ProductId                                            Summary  Score  \\\n",
       "563881  B007JFMH8M                                              yummy      5   \n",
       "563615  B007JFMH8M                              Healthy and yummy too      5   \n",
       "563629  B007JFMH8M                Soft and chewy but a bit too sweet!      4   \n",
       "563628  B007JFMH8M                                 Pretty Good Cookie      4   \n",
       "563627  B007JFMH8M  Good Taste and Flavor But a Little on the Dry ...      3   \n",
       "...            ...                                                ...    ...   \n",
       "528752  B000EVMNMI                                       Great Value!      4   \n",
       "11802   B004P4TL8E            This is not necessarily a \"space saver\"      4   \n",
       "528755  B000EVMNMI                            Super Yummy Cola Taste!      5   \n",
       "11800   B004P4TL8E     Great tray for storing various K-cup varieties      4   \n",
       "11801   B004P4TL8E                              Unhappy With Purchase      1   \n",
       "\n",
       "        Count  \n",
       "563881    913  \n",
       "563615    913  \n",
       "563629    913  \n",
       "563628    913  \n",
       "563627    913  \n",
       "...       ...  \n",
       "528752    100  \n",
       "11802     100  \n",
       "528755    100  \n",
       "11800     100  \n",
       "11801     100  \n",
       "\n",
       "[176025 rows x 4 columns]"
      ]
     },
     "execution_count": 11,
     "metadata": {},
     "output_type": "execute_result"
    }
   ],
   "source": [
    "df2"
   ]
  },
  {
   "cell_type": "code",
   "execution_count": 12,
   "metadata": {},
   "outputs": [],
   "source": [
    "#create new dataframe as combining all summary with same product Id\n",
    "df4 = df.groupby(\"ProductId\", as_index=False).mean()\n",
    "combine_summary = df2.groupby(\"ProductId\")[\"Summary\"].apply(list)\n"
   ]
  },
  {
   "cell_type": "code",
   "execution_count": 13,
   "metadata": {},
   "outputs": [
    {
     "data": {
      "text/plain": [
       "ProductId\n",
       "7310172001    [The Only Treat My Dog Will Eat!, Great for Di...\n",
       "7310172101    [very good, Dogs Love These!, Great for travel...\n",
       "B00004CI84    [Blueray:  Great movie.  Blue-Ray-Okay, Beetle...\n",
       "B00004CXX9    [Great Movie...But NOT Given DELUXE Treatment,...\n",
       "B00004RAMY    [It worked!, Finally, a trap that works, It wo...\n",
       "                                    ...                        \n",
       "B00954NY46    [Excellent Product, My weekend decadent pleasu...\n",
       "B00954NYVY    [Actually Bold, I like it for my little wife, ...\n",
       "B0098WV8F2    [FANTASTIC!!!!, Amazing Product!, delicious am...\n",
       "B009E7YC54    [A wonderful product, I love PB2, LOVE, Amazin...\n",
       "B009RB4GO4    [YUM!, Terrible! The cups were empty!, Autum w...\n",
       "Name: Summary, Length: 866, dtype: object"
      ]
     },
     "execution_count": 13,
     "metadata": {},
     "output_type": "execute_result"
    }
   ],
   "source": [
    "combine_summary"
   ]
  },
  {
   "cell_type": "code",
   "execution_count": 14,
   "metadata": {},
   "outputs": [],
   "source": [
    "combine_summary = pd.DataFrame(combine_summary)\n",
    "combine_summary.to_csv(\"/Users/vaishnaviiparamashivam/Downloads/amazon_fine_foods/combine_summary.csv\")"
   ]
  },
  {
   "cell_type": "code",
   "execution_count": 15,
   "metadata": {},
   "outputs": [
    {
     "data": {
      "text/html": [
       "<div>\n",
       "<style scoped>\n",
       "    .dataframe tbody tr th:only-of-type {\n",
       "        vertical-align: middle;\n",
       "    }\n",
       "\n",
       "    .dataframe tbody tr th {\n",
       "        vertical-align: top;\n",
       "    }\n",
       "\n",
       "    .dataframe thead th {\n",
       "        text-align: right;\n",
       "    }\n",
       "</style>\n",
       "<table border=\"1\" class=\"dataframe\">\n",
       "  <thead>\n",
       "    <tr style=\"text-align: right;\">\n",
       "      <th></th>\n",
       "      <th>ProductId</th>\n",
       "      <th>Id</th>\n",
       "      <th>HelpfulnessNumerator</th>\n",
       "      <th>HelpfulnessDenominator</th>\n",
       "      <th>Score</th>\n",
       "      <th>Time</th>\n",
       "    </tr>\n",
       "  </thead>\n",
       "  <tbody>\n",
       "    <tr>\n",
       "      <th>0</th>\n",
       "      <td>0006641040</td>\n",
       "      <td>150511.0</td>\n",
       "      <td>3.027027</td>\n",
       "      <td>3.378378</td>\n",
       "      <td>4.351351</td>\n",
       "      <td>1.195771e+09</td>\n",
       "    </tr>\n",
       "    <tr>\n",
       "      <th>1</th>\n",
       "      <td>141278509X</td>\n",
       "      <td>515426.0</td>\n",
       "      <td>1.000000</td>\n",
       "      <td>1.000000</td>\n",
       "      <td>5.000000</td>\n",
       "      <td>1.332547e+09</td>\n",
       "    </tr>\n",
       "    <tr>\n",
       "      <th>2</th>\n",
       "      <td>2734888454</td>\n",
       "      <td>24750.5</td>\n",
       "      <td>0.500000</td>\n",
       "      <td>0.500000</td>\n",
       "      <td>3.500000</td>\n",
       "      <td>1.194005e+09</td>\n",
       "    </tr>\n",
       "    <tr>\n",
       "      <th>3</th>\n",
       "      <td>2841233731</td>\n",
       "      <td>308077.0</td>\n",
       "      <td>0.000000</td>\n",
       "      <td>0.000000</td>\n",
       "      <td>5.000000</td>\n",
       "      <td>1.345853e+09</td>\n",
       "    </tr>\n",
       "    <tr>\n",
       "      <th>4</th>\n",
       "      <td>7310172001</td>\n",
       "      <td>171190.0</td>\n",
       "      <td>0.809249</td>\n",
       "      <td>1.219653</td>\n",
       "      <td>4.751445</td>\n",
       "      <td>1.281072e+09</td>\n",
       "    </tr>\n",
       "    <tr>\n",
       "      <th>...</th>\n",
       "      <td>...</td>\n",
       "      <td>...</td>\n",
       "      <td>...</td>\n",
       "      <td>...</td>\n",
       "      <td>...</td>\n",
       "      <td>...</td>\n",
       "    </tr>\n",
       "    <tr>\n",
       "      <th>74253</th>\n",
       "      <td>B009UOFTUI</td>\n",
       "      <td>191721.0</td>\n",
       "      <td>0.000000</td>\n",
       "      <td>0.000000</td>\n",
       "      <td>1.000000</td>\n",
       "      <td>1.345853e+09</td>\n",
       "    </tr>\n",
       "    <tr>\n",
       "      <th>74254</th>\n",
       "      <td>B009UOFU20</td>\n",
       "      <td>1478.0</td>\n",
       "      <td>0.000000</td>\n",
       "      <td>0.000000</td>\n",
       "      <td>1.000000</td>\n",
       "      <td>1.345853e+09</td>\n",
       "    </tr>\n",
       "    <tr>\n",
       "      <th>74255</th>\n",
       "      <td>B009UUS05I</td>\n",
       "      <td>328482.0</td>\n",
       "      <td>0.000000</td>\n",
       "      <td>0.000000</td>\n",
       "      <td>5.000000</td>\n",
       "      <td>1.331856e+09</td>\n",
       "    </tr>\n",
       "    <tr>\n",
       "      <th>74256</th>\n",
       "      <td>B009WSNWC4</td>\n",
       "      <td>5703.0</td>\n",
       "      <td>0.000000</td>\n",
       "      <td>0.000000</td>\n",
       "      <td>5.000000</td>\n",
       "      <td>1.351210e+09</td>\n",
       "    </tr>\n",
       "    <tr>\n",
       "      <th>74257</th>\n",
       "      <td>B009WVB40S</td>\n",
       "      <td>327601.0</td>\n",
       "      <td>0.000000</td>\n",
       "      <td>0.000000</td>\n",
       "      <td>5.000000</td>\n",
       "      <td>1.351123e+09</td>\n",
       "    </tr>\n",
       "  </tbody>\n",
       "</table>\n",
       "<p>74258 rows × 6 columns</p>\n",
       "</div>"
      ],
      "text/plain": [
       "        ProductId        Id  HelpfulnessNumerator  HelpfulnessDenominator  \\\n",
       "0      0006641040  150511.0              3.027027                3.378378   \n",
       "1      141278509X  515426.0              1.000000                1.000000   \n",
       "2      2734888454   24750.5              0.500000                0.500000   \n",
       "3      2841233731  308077.0              0.000000                0.000000   \n",
       "4      7310172001  171190.0              0.809249                1.219653   \n",
       "...           ...       ...                   ...                     ...   \n",
       "74253  B009UOFTUI  191721.0              0.000000                0.000000   \n",
       "74254  B009UOFU20    1478.0              0.000000                0.000000   \n",
       "74255  B009UUS05I  328482.0              0.000000                0.000000   \n",
       "74256  B009WSNWC4    5703.0              0.000000                0.000000   \n",
       "74257  B009WVB40S  327601.0              0.000000                0.000000   \n",
       "\n",
       "          Score          Time  \n",
       "0      4.351351  1.195771e+09  \n",
       "1      5.000000  1.332547e+09  \n",
       "2      3.500000  1.194005e+09  \n",
       "3      5.000000  1.345853e+09  \n",
       "4      4.751445  1.281072e+09  \n",
       "...         ...           ...  \n",
       "74253  1.000000  1.345853e+09  \n",
       "74254  1.000000  1.345853e+09  \n",
       "74255  5.000000  1.331856e+09  \n",
       "74256  5.000000  1.351210e+09  \n",
       "74257  5.000000  1.351123e+09  \n",
       "\n",
       "[74258 rows x 6 columns]"
      ]
     },
     "execution_count": 15,
     "metadata": {},
     "output_type": "execute_result"
    }
   ],
   "source": [
    "df4"
   ]
  },
  {
   "cell_type": "code",
   "execution_count": 16,
   "metadata": {},
   "outputs": [],
   "source": [
    "# create with certain columns\n",
    "df3 = pd.read_csv(\"/Users/vaishnaviiparamashivam/Downloads/amazon_fine_foods/combine_summary.csv\")\n",
    "df3 = pd.merge(df3, df4, on=\"ProductId\", how='inner')\n",
    "df3 = df3[['ProductId','Summary','Score']]"
   ]
  },
  {
   "cell_type": "code",
   "execution_count": 17,
   "metadata": {},
   "outputs": [
    {
     "data": {
      "text/html": [
       "<div>\n",
       "<style scoped>\n",
       "    .dataframe tbody tr th:only-of-type {\n",
       "        vertical-align: middle;\n",
       "    }\n",
       "\n",
       "    .dataframe tbody tr th {\n",
       "        vertical-align: top;\n",
       "    }\n",
       "\n",
       "    .dataframe thead th {\n",
       "        text-align: right;\n",
       "    }\n",
       "</style>\n",
       "<table border=\"1\" class=\"dataframe\">\n",
       "  <thead>\n",
       "    <tr style=\"text-align: right;\">\n",
       "      <th></th>\n",
       "      <th>ProductId</th>\n",
       "      <th>Summary</th>\n",
       "      <th>Score</th>\n",
       "    </tr>\n",
       "  </thead>\n",
       "  <tbody>\n",
       "    <tr>\n",
       "      <th>0</th>\n",
       "      <td>7310172001</td>\n",
       "      <td>['The Only Treat My Dog Will Eat!', 'Great for...</td>\n",
       "      <td>4.751445</td>\n",
       "    </tr>\n",
       "    <tr>\n",
       "      <th>1</th>\n",
       "      <td>7310172101</td>\n",
       "      <td>['very good', 'Dogs Love These!', 'Great for t...</td>\n",
       "      <td>4.751445</td>\n",
       "    </tr>\n",
       "    <tr>\n",
       "      <th>2</th>\n",
       "      <td>B00004CI84</td>\n",
       "      <td>['Blueray:  Great movie.  Blue-Ray-Okay', 'Bee...</td>\n",
       "      <td>4.486772</td>\n",
       "    </tr>\n",
       "    <tr>\n",
       "      <th>3</th>\n",
       "      <td>B00004CXX9</td>\n",
       "      <td>['Great Movie...But NOT Given DELUXE Treatment...</td>\n",
       "      <td>4.405128</td>\n",
       "    </tr>\n",
       "    <tr>\n",
       "      <th>4</th>\n",
       "      <td>B00004RAMY</td>\n",
       "      <td>['It worked!', 'Finally, a trap that works', '...</td>\n",
       "      <td>4.104651</td>\n",
       "    </tr>\n",
       "    <tr>\n",
       "      <th>...</th>\n",
       "      <td>...</td>\n",
       "      <td>...</td>\n",
       "      <td>...</td>\n",
       "    </tr>\n",
       "    <tr>\n",
       "      <th>861</th>\n",
       "      <td>B00954NY46</td>\n",
       "      <td>['Excellent Product', 'My weekend decadent ple...</td>\n",
       "      <td>4.561798</td>\n",
       "    </tr>\n",
       "    <tr>\n",
       "      <th>862</th>\n",
       "      <td>B00954NYVY</td>\n",
       "      <td>['Actually Bold', 'I like it for my little wif...</td>\n",
       "      <td>4.561798</td>\n",
       "    </tr>\n",
       "    <tr>\n",
       "      <th>863</th>\n",
       "      <td>B0098WV8F2</td>\n",
       "      <td>['FANTASTIC!!!!', 'Amazing Product!', 'delicio...</td>\n",
       "      <td>4.390698</td>\n",
       "    </tr>\n",
       "    <tr>\n",
       "      <th>864</th>\n",
       "      <td>B009E7YC54</td>\n",
       "      <td>['A wonderful product', 'I love PB2', 'LOVE', ...</td>\n",
       "      <td>4.642857</td>\n",
       "    </tr>\n",
       "    <tr>\n",
       "      <th>865</th>\n",
       "      <td>B009RB4GO4</td>\n",
       "      <td>['YUM!', 'Terrible! The cups were empty!', 'Au...</td>\n",
       "      <td>3.143426</td>\n",
       "    </tr>\n",
       "  </tbody>\n",
       "</table>\n",
       "<p>866 rows × 3 columns</p>\n",
       "</div>"
      ],
      "text/plain": [
       "      ProductId                                            Summary     Score\n",
       "0    7310172001  ['The Only Treat My Dog Will Eat!', 'Great for...  4.751445\n",
       "1    7310172101  ['very good', 'Dogs Love These!', 'Great for t...  4.751445\n",
       "2    B00004CI84  ['Blueray:  Great movie.  Blue-Ray-Okay', 'Bee...  4.486772\n",
       "3    B00004CXX9  ['Great Movie...But NOT Given DELUXE Treatment...  4.405128\n",
       "4    B00004RAMY  ['It worked!', 'Finally, a trap that works', '...  4.104651\n",
       "..          ...                                                ...       ...\n",
       "861  B00954NY46  ['Excellent Product', 'My weekend decadent ple...  4.561798\n",
       "862  B00954NYVY  ['Actually Bold', 'I like it for my little wif...  4.561798\n",
       "863  B0098WV8F2  ['FANTASTIC!!!!', 'Amazing Product!', 'delicio...  4.390698\n",
       "864  B009E7YC54  ['A wonderful product', 'I love PB2', 'LOVE', ...  4.642857\n",
       "865  B009RB4GO4  ['YUM!', 'Terrible! The cups were empty!', 'Au...  3.143426\n",
       "\n",
       "[866 rows x 3 columns]"
      ]
     },
     "execution_count": 17,
     "metadata": {},
     "output_type": "execute_result"
    }
   ],
   "source": [
    "df3"
   ]
  },
  {
   "cell_type": "markdown",
   "metadata": {},
   "source": [
    "# Text Clean process - Summary column"
   ]
  },
  {
   "cell_type": "code",
   "execution_count": 18,
   "metadata": {},
   "outputs": [],
   "source": [
    "#function for tokenizing summary\n",
    "cleanup_re = re.compile('[^a-z]+')\n",
    "def cleanup(sentence):\n",
    "    sentence = sentence.lower()\n",
    "    sentence = cleanup_re.sub(' ', sentence).strip()\n",
    "    sentence = \" \".join(nltk.word_tokenize(sentence))\n",
    "    return sentence"
   ]
  },
  {
   "cell_type": "code",
   "execution_count": 19,
   "metadata": {},
   "outputs": [],
   "source": [
    "#reset index and drop duplicate rows\n",
    "df3[\"Summary_Clean\"] = df3[\"Summary\"].apply(cleanup)\n",
    "df3 = df3.drop_duplicates(['Score'], keep='last')\n",
    "df3 = df3.reset_index()"
   ]
  },
  {
   "cell_type": "code",
   "execution_count": 20,
   "metadata": {},
   "outputs": [
    {
     "data": {
      "text/html": [
       "<div>\n",
       "<style scoped>\n",
       "    .dataframe tbody tr th:only-of-type {\n",
       "        vertical-align: middle;\n",
       "    }\n",
       "\n",
       "    .dataframe tbody tr th {\n",
       "        vertical-align: top;\n",
       "    }\n",
       "\n",
       "    .dataframe thead th {\n",
       "        text-align: right;\n",
       "    }\n",
       "</style>\n",
       "<table border=\"1\" class=\"dataframe\">\n",
       "  <thead>\n",
       "    <tr style=\"text-align: right;\">\n",
       "      <th></th>\n",
       "      <th>index</th>\n",
       "      <th>ProductId</th>\n",
       "      <th>Summary</th>\n",
       "      <th>Score</th>\n",
       "      <th>Summary_Clean</th>\n",
       "    </tr>\n",
       "  </thead>\n",
       "  <tbody>\n",
       "    <tr>\n",
       "      <th>0</th>\n",
       "      <td>3</td>\n",
       "      <td>B00004CXX9</td>\n",
       "      <td>['Great Movie...But NOT Given DELUXE Treatment...</td>\n",
       "      <td>4.405128</td>\n",
       "      <td>great movie but not given deluxe treatment my ...</td>\n",
       "    </tr>\n",
       "    <tr>\n",
       "      <th>1</th>\n",
       "      <td>4</td>\n",
       "      <td>B00004RAMY</td>\n",
       "      <td>['It worked!', 'Finally, a trap that works', '...</td>\n",
       "      <td>4.104651</td>\n",
       "      <td>it worked finally a trap that works it works b...</td>\n",
       "    </tr>\n",
       "    <tr>\n",
       "      <th>2</th>\n",
       "      <td>5</td>\n",
       "      <td>B00004RYGX</td>\n",
       "      <td>['Great Movie', 'One of the best movies ever!'...</td>\n",
       "      <td>4.486772</td>\n",
       "      <td>great movie one of the best movies ever fabulo...</td>\n",
       "    </tr>\n",
       "    <tr>\n",
       "      <th>3</th>\n",
       "      <td>6</td>\n",
       "      <td>B000084E6V</td>\n",
       "      <td>['The new favorite', 'Lasts', 'We all love fra...</td>\n",
       "      <td>4.107345</td>\n",
       "      <td>the new favorite lasts we all love frank dog l...</td>\n",
       "    </tr>\n",
       "    <tr>\n",
       "      <th>4</th>\n",
       "      <td>10</td>\n",
       "      <td>B0000V8IOE</td>\n",
       "      <td>[\"Incredible at any price; the best coffee I'v...</td>\n",
       "      <td>3.927419</td>\n",
       "      <td>incredible at any price the best coffee i ve t...</td>\n",
       "    </tr>\n",
       "    <tr>\n",
       "      <th>...</th>\n",
       "      <td>...</td>\n",
       "      <td>...</td>\n",
       "      <td>...</td>\n",
       "      <td>...</td>\n",
       "      <td>...</td>\n",
       "    </tr>\n",
       "    <tr>\n",
       "      <th>356</th>\n",
       "      <td>860</td>\n",
       "      <td>B0090X8IPM</td>\n",
       "      <td>['A real taste pleasure', 'If you like Starbuc...</td>\n",
       "      <td>3.813208</td>\n",
       "      <td>a real taste pleasure if you like starbucks a ...</td>\n",
       "    </tr>\n",
       "    <tr>\n",
       "      <th>357</th>\n",
       "      <td>862</td>\n",
       "      <td>B00954NYVY</td>\n",
       "      <td>['Actually Bold', 'I like it for my little wif...</td>\n",
       "      <td>4.561798</td>\n",
       "      <td>actually bold i like it for my little wife str...</td>\n",
       "    </tr>\n",
       "    <tr>\n",
       "      <th>358</th>\n",
       "      <td>863</td>\n",
       "      <td>B0098WV8F2</td>\n",
       "      <td>['FANTASTIC!!!!', 'Amazing Product!', 'delicio...</td>\n",
       "      <td>4.390698</td>\n",
       "      <td>fantastic amazing product delicious amd yummy ...</td>\n",
       "    </tr>\n",
       "    <tr>\n",
       "      <th>359</th>\n",
       "      <td>864</td>\n",
       "      <td>B009E7YC54</td>\n",
       "      <td>['A wonderful product', 'I love PB2', 'LOVE', ...</td>\n",
       "      <td>4.642857</td>\n",
       "      <td>a wonderful product i love pb love amazing pro...</td>\n",
       "    </tr>\n",
       "    <tr>\n",
       "      <th>360</th>\n",
       "      <td>865</td>\n",
       "      <td>B009RB4GO4</td>\n",
       "      <td>['YUM!', 'Terrible! The cups were empty!', 'Au...</td>\n",
       "      <td>3.143426</td>\n",
       "      <td>yum terrible the cups were empty autum warm up...</td>\n",
       "    </tr>\n",
       "  </tbody>\n",
       "</table>\n",
       "<p>361 rows × 5 columns</p>\n",
       "</div>"
      ],
      "text/plain": [
       "     index   ProductId                                            Summary  \\\n",
       "0        3  B00004CXX9  ['Great Movie...But NOT Given DELUXE Treatment...   \n",
       "1        4  B00004RAMY  ['It worked!', 'Finally, a trap that works', '...   \n",
       "2        5  B00004RYGX  ['Great Movie', 'One of the best movies ever!'...   \n",
       "3        6  B000084E6V  ['The new favorite', 'Lasts', 'We all love fra...   \n",
       "4       10  B0000V8IOE  [\"Incredible at any price; the best coffee I'v...   \n",
       "..     ...         ...                                                ...   \n",
       "356    860  B0090X8IPM  ['A real taste pleasure', 'If you like Starbuc...   \n",
       "357    862  B00954NYVY  ['Actually Bold', 'I like it for my little wif...   \n",
       "358    863  B0098WV8F2  ['FANTASTIC!!!!', 'Amazing Product!', 'delicio...   \n",
       "359    864  B009E7YC54  ['A wonderful product', 'I love PB2', 'LOVE', ...   \n",
       "360    865  B009RB4GO4  ['YUM!', 'Terrible! The cups were empty!', 'Au...   \n",
       "\n",
       "        Score                                      Summary_Clean  \n",
       "0    4.405128  great movie but not given deluxe treatment my ...  \n",
       "1    4.104651  it worked finally a trap that works it works b...  \n",
       "2    4.486772  great movie one of the best movies ever fabulo...  \n",
       "3    4.107345  the new favorite lasts we all love frank dog l...  \n",
       "4    3.927419  incredible at any price the best coffee i ve t...  \n",
       "..        ...                                                ...  \n",
       "356  3.813208  a real taste pleasure if you like starbucks a ...  \n",
       "357  4.561798  actually bold i like it for my little wife str...  \n",
       "358  4.390698  fantastic amazing product delicious amd yummy ...  \n",
       "359  4.642857  a wonderful product i love pb love amazing pro...  \n",
       "360  3.143426  yum terrible the cups were empty autum warm up...  \n",
       "\n",
       "[361 rows x 5 columns]"
      ]
     },
     "execution_count": 20,
     "metadata": {},
     "output_type": "execute_result"
    }
   ],
   "source": [
    "df3"
   ]
  },
  {
   "cell_type": "code",
   "execution_count": 21,
   "metadata": {},
   "outputs": [],
   "source": [
    "from pandas import DataFrame \n",
    "\n",
    "docs = df3[\"Summary_Clean\"] \n",
    "vect = CountVectorizer(max_features = 100, stop_words='english') \n",
    "X = vect.fit_transform(docs) \n",
    "\n",
    "df5 = DataFrame(X.A, columns=vect.get_feature_names())\n",
    "df5 = df5.astype(int)"
   ]
  },
  {
   "cell_type": "code",
   "execution_count": 22,
   "metadata": {},
   "outputs": [
    {
     "data": {
      "text/html": [
       "<div>\n",
       "<style scoped>\n",
       "    .dataframe tbody tr th:only-of-type {\n",
       "        vertical-align: middle;\n",
       "    }\n",
       "\n",
       "    .dataframe tbody tr th {\n",
       "        vertical-align: top;\n",
       "    }\n",
       "\n",
       "    .dataframe thead th {\n",
       "        text-align: right;\n",
       "    }\n",
       "</style>\n",
       "<table border=\"1\" class=\"dataframe\">\n",
       "  <thead>\n",
       "    <tr style=\"text-align: right;\">\n",
       "      <th></th>\n",
       "      <th>alternative</th>\n",
       "      <th>amazing</th>\n",
       "      <th>awesome</th>\n",
       "      <th>baby</th>\n",
       "      <th>bad</th>\n",
       "      <th>bar</th>\n",
       "      <th>bars</th>\n",
       "      <th>best</th>\n",
       "      <th>better</th>\n",
       "      <th>big</th>\n",
       "      <th>...</th>\n",
       "      <th>value</th>\n",
       "      <th>vanilla</th>\n",
       "      <th>ve</th>\n",
       "      <th>water</th>\n",
       "      <th>way</th>\n",
       "      <th>wonderful</th>\n",
       "      <th>work</th>\n",
       "      <th>works</th>\n",
       "      <th>yum</th>\n",
       "      <th>yummy</th>\n",
       "    </tr>\n",
       "  </thead>\n",
       "  <tbody>\n",
       "    <tr>\n",
       "      <th>0</th>\n",
       "      <td>0</td>\n",
       "      <td>0</td>\n",
       "      <td>6</td>\n",
       "      <td>0</td>\n",
       "      <td>1</td>\n",
       "      <td>0</td>\n",
       "      <td>0</td>\n",
       "      <td>9</td>\n",
       "      <td>1</td>\n",
       "      <td>0</td>\n",
       "      <td>...</td>\n",
       "      <td>0</td>\n",
       "      <td>0</td>\n",
       "      <td>0</td>\n",
       "      <td>0</td>\n",
       "      <td>0</td>\n",
       "      <td>0</td>\n",
       "      <td>0</td>\n",
       "      <td>0</td>\n",
       "      <td>0</td>\n",
       "      <td>0</td>\n",
       "    </tr>\n",
       "    <tr>\n",
       "      <th>1</th>\n",
       "      <td>0</td>\n",
       "      <td>0</td>\n",
       "      <td>3</td>\n",
       "      <td>0</td>\n",
       "      <td>0</td>\n",
       "      <td>0</td>\n",
       "      <td>0</td>\n",
       "      <td>11</td>\n",
       "      <td>0</td>\n",
       "      <td>0</td>\n",
       "      <td>...</td>\n",
       "      <td>0</td>\n",
       "      <td>0</td>\n",
       "      <td>2</td>\n",
       "      <td>0</td>\n",
       "      <td>4</td>\n",
       "      <td>0</td>\n",
       "      <td>8</td>\n",
       "      <td>31</td>\n",
       "      <td>0</td>\n",
       "      <td>0</td>\n",
       "    </tr>\n",
       "    <tr>\n",
       "      <th>2</th>\n",
       "      <td>0</td>\n",
       "      <td>0</td>\n",
       "      <td>6</td>\n",
       "      <td>0</td>\n",
       "      <td>1</td>\n",
       "      <td>0</td>\n",
       "      <td>0</td>\n",
       "      <td>9</td>\n",
       "      <td>1</td>\n",
       "      <td>0</td>\n",
       "      <td>...</td>\n",
       "      <td>0</td>\n",
       "      <td>0</td>\n",
       "      <td>0</td>\n",
       "      <td>0</td>\n",
       "      <td>0</td>\n",
       "      <td>0</td>\n",
       "      <td>0</td>\n",
       "      <td>0</td>\n",
       "      <td>0</td>\n",
       "      <td>0</td>\n",
       "    </tr>\n",
       "    <tr>\n",
       "      <th>3</th>\n",
       "      <td>0</td>\n",
       "      <td>0</td>\n",
       "      <td>4</td>\n",
       "      <td>0</td>\n",
       "      <td>2</td>\n",
       "      <td>0</td>\n",
       "      <td>0</td>\n",
       "      <td>10</td>\n",
       "      <td>0</td>\n",
       "      <td>4</td>\n",
       "      <td>...</td>\n",
       "      <td>0</td>\n",
       "      <td>0</td>\n",
       "      <td>1</td>\n",
       "      <td>0</td>\n",
       "      <td>0</td>\n",
       "      <td>0</td>\n",
       "      <td>0</td>\n",
       "      <td>0</td>\n",
       "      <td>0</td>\n",
       "      <td>0</td>\n",
       "    </tr>\n",
       "    <tr>\n",
       "      <th>4</th>\n",
       "      <td>0</td>\n",
       "      <td>0</td>\n",
       "      <td>1</td>\n",
       "      <td>0</td>\n",
       "      <td>2</td>\n",
       "      <td>0</td>\n",
       "      <td>0</td>\n",
       "      <td>10</td>\n",
       "      <td>0</td>\n",
       "      <td>0</td>\n",
       "      <td>...</td>\n",
       "      <td>1</td>\n",
       "      <td>0</td>\n",
       "      <td>2</td>\n",
       "      <td>0</td>\n",
       "      <td>0</td>\n",
       "      <td>3</td>\n",
       "      <td>0</td>\n",
       "      <td>0</td>\n",
       "      <td>0</td>\n",
       "      <td>0</td>\n",
       "    </tr>\n",
       "    <tr>\n",
       "      <th>...</th>\n",
       "      <td>...</td>\n",
       "      <td>...</td>\n",
       "      <td>...</td>\n",
       "      <td>...</td>\n",
       "      <td>...</td>\n",
       "      <td>...</td>\n",
       "      <td>...</td>\n",
       "      <td>...</td>\n",
       "      <td>...</td>\n",
       "      <td>...</td>\n",
       "      <td>...</td>\n",
       "      <td>...</td>\n",
       "      <td>...</td>\n",
       "      <td>...</td>\n",
       "      <td>...</td>\n",
       "      <td>...</td>\n",
       "      <td>...</td>\n",
       "      <td>...</td>\n",
       "      <td>...</td>\n",
       "      <td>...</td>\n",
       "      <td>...</td>\n",
       "    </tr>\n",
       "    <tr>\n",
       "      <th>356</th>\n",
       "      <td>0</td>\n",
       "      <td>1</td>\n",
       "      <td>2</td>\n",
       "      <td>0</td>\n",
       "      <td>8</td>\n",
       "      <td>1</td>\n",
       "      <td>0</td>\n",
       "      <td>3</td>\n",
       "      <td>15</td>\n",
       "      <td>2</td>\n",
       "      <td>...</td>\n",
       "      <td>0</td>\n",
       "      <td>143</td>\n",
       "      <td>1</td>\n",
       "      <td>0</td>\n",
       "      <td>5</td>\n",
       "      <td>6</td>\n",
       "      <td>0</td>\n",
       "      <td>0</td>\n",
       "      <td>6</td>\n",
       "      <td>4</td>\n",
       "    </tr>\n",
       "    <tr>\n",
       "      <th>357</th>\n",
       "      <td>0</td>\n",
       "      <td>2</td>\n",
       "      <td>3</td>\n",
       "      <td>0</td>\n",
       "      <td>0</td>\n",
       "      <td>0</td>\n",
       "      <td>0</td>\n",
       "      <td>11</td>\n",
       "      <td>2</td>\n",
       "      <td>1</td>\n",
       "      <td>...</td>\n",
       "      <td>1</td>\n",
       "      <td>0</td>\n",
       "      <td>1</td>\n",
       "      <td>0</td>\n",
       "      <td>0</td>\n",
       "      <td>0</td>\n",
       "      <td>0</td>\n",
       "      <td>0</td>\n",
       "      <td>0</td>\n",
       "      <td>0</td>\n",
       "    </tr>\n",
       "    <tr>\n",
       "      <th>358</th>\n",
       "      <td>2</td>\n",
       "      <td>8</td>\n",
       "      <td>9</td>\n",
       "      <td>0</td>\n",
       "      <td>2</td>\n",
       "      <td>0</td>\n",
       "      <td>0</td>\n",
       "      <td>7</td>\n",
       "      <td>2</td>\n",
       "      <td>0</td>\n",
       "      <td>...</td>\n",
       "      <td>1</td>\n",
       "      <td>0</td>\n",
       "      <td>0</td>\n",
       "      <td>0</td>\n",
       "      <td>0</td>\n",
       "      <td>0</td>\n",
       "      <td>0</td>\n",
       "      <td>1</td>\n",
       "      <td>5</td>\n",
       "      <td>8</td>\n",
       "    </tr>\n",
       "    <tr>\n",
       "      <th>359</th>\n",
       "      <td>7</td>\n",
       "      <td>20</td>\n",
       "      <td>11</td>\n",
       "      <td>0</td>\n",
       "      <td>2</td>\n",
       "      <td>0</td>\n",
       "      <td>1</td>\n",
       "      <td>7</td>\n",
       "      <td>3</td>\n",
       "      <td>0</td>\n",
       "      <td>...</td>\n",
       "      <td>2</td>\n",
       "      <td>0</td>\n",
       "      <td>0</td>\n",
       "      <td>0</td>\n",
       "      <td>0</td>\n",
       "      <td>3</td>\n",
       "      <td>1</td>\n",
       "      <td>0</td>\n",
       "      <td>5</td>\n",
       "      <td>8</td>\n",
       "    </tr>\n",
       "    <tr>\n",
       "      <th>360</th>\n",
       "      <td>2</td>\n",
       "      <td>1</td>\n",
       "      <td>2</td>\n",
       "      <td>0</td>\n",
       "      <td>10</td>\n",
       "      <td>0</td>\n",
       "      <td>0</td>\n",
       "      <td>6</td>\n",
       "      <td>0</td>\n",
       "      <td>0</td>\n",
       "      <td>...</td>\n",
       "      <td>1</td>\n",
       "      <td>0</td>\n",
       "      <td>1</td>\n",
       "      <td>0</td>\n",
       "      <td>1</td>\n",
       "      <td>3</td>\n",
       "      <td>0</td>\n",
       "      <td>0</td>\n",
       "      <td>7</td>\n",
       "      <td>6</td>\n",
       "    </tr>\n",
       "  </tbody>\n",
       "</table>\n",
       "<p>361 rows × 100 columns</p>\n",
       "</div>"
      ],
      "text/plain": [
       "     alternative  amazing  awesome  baby  bad  bar  bars  best  better  big  \\\n",
       "0              0        0        6     0    1    0     0     9       1    0   \n",
       "1              0        0        3     0    0    0     0    11       0    0   \n",
       "2              0        0        6     0    1    0     0     9       1    0   \n",
       "3              0        0        4     0    2    0     0    10       0    4   \n",
       "4              0        0        1     0    2    0     0    10       0    0   \n",
       "..           ...      ...      ...   ...  ...  ...   ...   ...     ...  ...   \n",
       "356            0        1        2     0    8    1     0     3      15    2   \n",
       "357            0        2        3     0    0    0     0    11       2    1   \n",
       "358            2        8        9     0    2    0     0     7       2    0   \n",
       "359            7       20       11     0    2    0     1     7       3    0   \n",
       "360            2        1        2     0   10    0     0     6       0    0   \n",
       "\n",
       "     ...  value  vanilla  ve  water  way  wonderful  work  works  yum  yummy  \n",
       "0    ...      0        0   0      0    0          0     0      0    0      0  \n",
       "1    ...      0        0   2      0    4          0     8     31    0      0  \n",
       "2    ...      0        0   0      0    0          0     0      0    0      0  \n",
       "3    ...      0        0   1      0    0          0     0      0    0      0  \n",
       "4    ...      1        0   2      0    0          3     0      0    0      0  \n",
       "..   ...    ...      ...  ..    ...  ...        ...   ...    ...  ...    ...  \n",
       "356  ...      0      143   1      0    5          6     0      0    6      4  \n",
       "357  ...      1        0   1      0    0          0     0      0    0      0  \n",
       "358  ...      1        0   0      0    0          0     0      1    5      8  \n",
       "359  ...      2        0   0      0    0          3     1      0    5      8  \n",
       "360  ...      1        0   1      0    1          3     0      0    7      6  \n",
       "\n",
       "[361 rows x 100 columns]"
      ]
     },
     "execution_count": 22,
     "metadata": {},
     "output_type": "execute_result"
    }
   ],
   "source": [
    "df5"
   ]
  },
  {
   "cell_type": "code",
   "execution_count": 23,
   "metadata": {},
   "outputs": [
    {
     "data": {
      "text/plain": [
       "Index(['alternative', 'amazing', 'awesome', 'baby', 'bad', 'bar', 'bars',\n",
       "       'best', 'better', 'big', 'blend', 'bold', 'bread', 'breakfast', 'buy',\n",
       "       'cat', 'cats', 'cereal', 'chips', 'chocolate', 'coconut', 'coffee',\n",
       "       'cookie', 'cookies', 'cup', 'cups', 'dark', 'deal', 'delicious', 'dog',\n",
       "       'dogs', 'don', 'drink', 'easy', 'energy', 'excellent', 'fantastic',\n",
       "       'favorite', 'flavor', 'food', 'formula', 'free', 'ginger', 'gluten',\n",
       "       'good', 'great', 'green', 'happy', 'healthy', 'hot', 'just', 'like',\n",
       "       'little', 'love', 'loved', 'loves', 'low', 'mix', 'natural', 'new',\n",
       "       'nice', 'oil', 'ok', 'okay', 'organic', 'packaging', 'perfect',\n",
       "       'pretty', 'price', 'product', 'protein', 'quality', 'real', 'really',\n",
       "       'refreshing', 'smooth', 'snack', 'strong', 'stuff', 'sugar', 'sweet',\n",
       "       'taste', 'tastes', 'tasting', 'tasty', 'tea', 'time', 'treat', 'treats',\n",
       "       'use', 'value', 'vanilla', 've', 'water', 'way', 'wonderful', 'work',\n",
       "       'works', 'yum', 'yummy'],\n",
       "      dtype='object')"
      ]
     },
     "execution_count": 23,
     "metadata": {},
     "output_type": "execute_result"
    }
   ],
   "source": [
    "df5.columns"
   ]
  },
  {
   "cell_type": "code",
   "execution_count": null,
   "metadata": {},
   "outputs": [],
   "source": []
  },
  {
   "cell_type": "code",
   "execution_count": 24,
   "metadata": {},
   "outputs": [],
   "source": [
    "#save \n",
    "df5.to_csv(\"/Users/vaishnaviiparamashivam/Downloads/amazon_fine_foods/df5.csv\")"
   ]
  },
  {
   "cell_type": "code",
   "execution_count": 25,
   "metadata": {},
   "outputs": [],
   "source": [
    "# First let's create a dataset called X\n",
    "X = np.array(df5)\n",
    " # create train and test\n",
    "tpercent = 0.9\n",
    "tsize = int(np.floor(tpercent * len(df5)))\n",
    "df5_train = X[:tsize]\n",
    "df5_test = X[tsize:]\n",
    "#len of train and test\n",
    "lentrain = len(df5_train)\n",
    "lentest = len(df5_test)"
   ]
  },
  {
   "cell_type": "code",
   "execution_count": 29,
   "metadata": {},
   "outputs": [
    {
     "data": {
      "text/plain": [
       "array([[ 0,  0,  6, ...,  0,  0,  0],\n",
       "       [ 0,  0,  3, ..., 31,  0,  0],\n",
       "       [ 0,  0,  6, ...,  0,  0,  0],\n",
       "       ...,\n",
       "       [ 2,  8,  9, ...,  1,  5,  8],\n",
       "       [ 7, 20, 11, ...,  0,  5,  8],\n",
       "       [ 2,  1,  2, ...,  0,  7,  6]])"
      ]
     },
     "execution_count": 29,
     "metadata": {},
     "output_type": "execute_result"
    }
   ],
   "source": [
    "X"
   ]
  },
  {
   "cell_type": "code",
   "execution_count": 27,
   "metadata": {},
   "outputs": [
    {
     "data": {
      "text/plain": [
       "array([[ 0,  0,  6, ...,  0,  0,  0],\n",
       "       [ 0,  0,  3, ..., 31,  0,  0],\n",
       "       [ 0,  0,  6, ...,  0,  0,  0],\n",
       "       ...,\n",
       "       [ 0,  2,  0, ...,  8,  0,  0],\n",
       "       [ 0,  1,  2, ...,  7,  0,  0],\n",
       "       [ 5,  1,  4, ...,  2,  0,  0]])"
      ]
     },
     "execution_count": 27,
     "metadata": {},
     "output_type": "execute_result"
    }
   ],
   "source": [
    "df5_train"
   ]
  },
  {
   "cell_type": "code",
   "execution_count": 28,
   "metadata": {},
   "outputs": [
    {
     "data": {
      "text/plain": [
       "array([[ 5,  0,  6, ...,  1,  0,  0],\n",
       "       [ 5,  2,  3, ...,  3,  0,  1],\n",
       "       [ 0,  0,  1, ...,  0,  1,  2],\n",
       "       ...,\n",
       "       [ 2,  8,  9, ...,  1,  5,  8],\n",
       "       [ 7, 20, 11, ...,  0,  5,  8],\n",
       "       [ 2,  1,  2, ...,  0,  7,  6]])"
      ]
     },
     "execution_count": 28,
     "metadata": {},
     "output_type": "execute_result"
    }
   ],
   "source": [
    "df5_test"
   ]
  },
  {
   "cell_type": "markdown",
   "metadata": {},
   "source": [
    "# 1.b KNN classifier to find similar products"
   ]
  },
  {
   "cell_type": "code",
   "execution_count": 20,
   "metadata": {},
   "outputs": [],
   "source": [
    "# Next we will instantiate a nearest neighbor object, and call it nbrs. Then we will fit it to dataset X.\n",
    "nbrs = NearestNeighbors(n_neighbors=3, algorithm='ball_tree').fit(df5_train)\n",
    "\n",
    "# Let's find the k-neighbors of each point in object X. To do that we call the kneighbors() function on object X.\n",
    "distances, indices = nbrs.kneighbors(df5_train)"
   ]
  },
  {
   "cell_type": "code",
   "execution_count": 21,
   "metadata": {},
   "outputs": [
    {
     "name": "stdout",
     "output_type": "stream",
     "text": [
      "Based on product reviews, for  B007TGDXMU  and this average Score is  4.517006802721088\n",
      "The first similar product is  B005ZBZLPI  and this average Score is  4.0\n",
      "The second similar product is  B000SDKDM4  and this average Score is  4.08252427184466\n",
      "-----------------------------------------------------------\n",
      "Based on product reviews, for  B007TGDXNO  and this average Score is  4.3478260869565215\n",
      "The first similar product is  B007TGDXMK  and this average Score is  4.143540669856459\n",
      "The second similar product is  B00451WLYI  and this average Score is  4.517647058823529\n",
      "-----------------------------------------------------------\n",
      "Based on product reviews, for  B007TJGY5K  and this average Score is  4.119496855345912\n",
      "The first similar product is  B007L3NVKU  and this average Score is  4.355072463768116\n",
      "The second similar product is  B0027Z8VES  and this average Score is  4.341269841269841\n",
      "-----------------------------------------------------------\n",
      "Based on product reviews, for  B007TJGZ0Y  and this average Score is  4.384615384615385\n",
      "The first similar product is  B002QGK2V8  and this average Score is  3.4484848484848483\n",
      "The second similar product is  B0000V8IOE  and this average Score is  3.9274193548387095\n",
      "-----------------------------------------------------------\n",
      "Based on product reviews, for  B007TJGZ54  and this average Score is  4.243801652892562\n",
      "The first similar product is  B006N3I29E  and this average Score is  4.245689655172414\n",
      "The second similar product is  B002AQ0OL2  and this average Score is  4.058035714285714\n",
      "-----------------------------------------------------------\n",
      "Based on product reviews, for  B007TJGZ5E  and this average Score is  4.412790697674419\n",
      "The first similar product is  B005GXHKSG  and this average Score is  4.40625\n",
      "The second similar product is  B001E50THY  and this average Score is  4.044642857142857\n",
      "-----------------------------------------------------------\n",
      "Based on product reviews, for  B007Y59HVM  and this average Score is  4.363636363636363\n",
      "The first similar product is  B0013A0QXC  and this average Score is  4.343173431734317\n",
      "The second similar product is  B006N3IG4K  and this average Score is  3.934065934065934\n",
      "-----------------------------------------------------------\n",
      "Based on product reviews, for  B0081X097M  and this average Score is  4.766990291262136\n",
      "The first similar product is  B00507A02Q  and this average Score is  2.8412698412698414\n",
      "The second similar product is  B00012182G  and this average Score is  3.5826771653543306\n",
      "-----------------------------------------------------------\n",
      "Based on product reviews, for  B0081XIAUK  and this average Score is  3.549618320610687\n",
      "The first similar product is  B0009XSXZM  and this average Score is  3.7610619469026547\n",
      "The second similar product is  B001P3NU44  and this average Score is  4.1652892561983474\n",
      "-----------------------------------------------------------\n",
      "Based on product reviews, for  B0081XPTBS  and this average Score is  4.181518151815181\n",
      "The first similar product is  B0032CJPOK  and this average Score is  4.184210526315789\n",
      "The second similar product is  B002FJM9SU  and this average Score is  3.683333333333333\n",
      "-----------------------------------------------------------\n",
      "Based on product reviews, for  B0083QJU72  and this average Score is  4.696969696969697\n",
      "The first similar product is  B000VK08OC  and this average Score is  4.491379310344827\n",
      "The second similar product is  B005P0NLJ2  and this average Score is  4.445255474452555\n",
      "-----------------------------------------------------------\n",
      "Based on product reviews, for  B0083T5TAQ  and this average Score is  3.0454545454545454\n",
      "The first similar product is  B005HGAV8I  and this average Score is  3.7651821862348176\n",
      "The second similar product is  B005HUVI40  and this average Score is  3.9917355371900825\n",
      "-----------------------------------------------------------\n",
      "Based on product reviews, for  B0083T6HC0  and this average Score is  3.6123348017621146\n",
      "The first similar product is  B005HGAV8I  and this average Score is  3.7651821862348176\n",
      "The second similar product is  B001EQ5ERI  and this average Score is  4.215686274509804\n",
      "-----------------------------------------------------------\n",
      "Based on product reviews, for  B00866AM2G  and this average Score is  3.6621621621621623\n",
      "The first similar product is  B001HTJ2BQ  and this average Score is  3.3063063063063063\n",
      "The second similar product is  B00507A02Q  and this average Score is  2.8412698412698414\n",
      "-----------------------------------------------------------\n",
      "Based on product reviews, for  B0089SPENI  and this average Score is  4.181034482758621\n",
      "The first similar product is  B000CQIDJM  and this average Score is  3.966386554621849\n",
      "The second similar product is  B007RLRCLK  and this average Score is  4.251461988304094\n",
      "-----------------------------------------------------------\n",
      "Based on product reviews, for  B008ATDIDE  and this average Score is  3.8859649122807016\n",
      "The first similar product is  B006WLNUWG  and this average Score is  4.640350877192983\n",
      "The second similar product is  B000ED9L9E  and this average Score is  4.9734513274336285\n",
      "-----------------------------------------------------------\n",
      "Based on product reviews, for  B008CTBK7S  and this average Score is  4.455696202531645\n",
      "The first similar product is  B0016BAB42  and this average Score is  3.980769230769231\n",
      "The second similar product is  B001E5E0Y2  and this average Score is  4.578512396694215\n",
      "-----------------------------------------------------------\n",
      "Based on product reviews, for  B008EG5ADY  and this average Score is  4.314285714285714\n",
      "The first similar product is  B006BXV130  and this average Score is  3.528\n",
      "The second similar product is  B007POT6RM  and this average Score is  3.692982456140351\n",
      "-----------------------------------------------------------\n",
      "Based on product reviews, for  B008FHUCNU  and this average Score is  4.3931623931623935\n",
      "The first similar product is  B001CHJ01A  and this average Score is  4.364485981308412\n",
      "The second similar product is  B005HUVI40  and this average Score is  3.9917355371900825\n",
      "-----------------------------------------------------------\n",
      "Based on product reviews, for  B008FHUDW0  and this average Score is  4.3515625\n",
      "The first similar product is  B005HUVI40  and this average Score is  3.9917355371900825\n",
      "The second similar product is  B002TMV34E  and this average Score is  3.9\n",
      "-----------------------------------------------------------\n",
      "Based on product reviews, for  B008FHUFAU  and this average Score is  4.314465408805032\n",
      "The first similar product is  B001D0GV90  and this average Score is  4.437837837837838\n",
      "The second similar product is  B0045IO37Y  and this average Score is  4.054054054054054\n",
      "-----------------------------------------------------------\n",
      "Based on product reviews, for  B008FHUGNQ  and this average Score is  4.258205689277899\n",
      "The first similar product is  B006N3IG4K  and this average Score is  3.934065934065934\n",
      "The second similar product is  B005VOONM6  and this average Score is  3.8472222222222223\n",
      "-----------------------------------------------------------\n",
      "Based on product reviews, for  B008FHUKE6  and this average Score is  4.188976377952756\n",
      "The first similar product is  B007TGDXMK  and this average Score is  4.143540669856459\n",
      "The second similar product is  B005ZBZLPI  and this average Score is  4.0\n",
      "-----------------------------------------------------------\n",
      "Based on product reviews, for  B008GRIB0A  and this average Score is  3.88953488372093\n",
      "The first similar product is  B002QGK2V8  and this average Score is  3.4484848484848483\n",
      "The second similar product is  B005HUVI40  and this average Score is  3.9917355371900825\n",
      "-----------------------------------------------------------\n",
      "Based on product reviews, for  B008GRONV6  and this average Score is  4.598540145985401\n",
      "The first similar product is  B001P3PR54  and this average Score is  4.527272727272727\n",
      "The second similar product is  B001P3NU30  and this average Score is  4.138297872340425\n",
      "-----------------------------------------------------------\n",
      "Based on product reviews, for  B008I1XPKA  and this average Score is  3.7152317880794703\n",
      "The first similar product is  B005HUVI40  and this average Score is  3.9917355371900825\n",
      "The second similar product is  B0000V8IOE  and this average Score is  3.9274193548387095\n",
      "-----------------------------------------------------------\n",
      "Based on product reviews, for  B008J1HO4C  and this average Score is  4.682584269662922\n",
      "The first similar product is  B000EVOSE4  and this average Score is  4.414110429447852\n",
      "The second similar product is  B000H7LVKY  and this average Score is  4.55625\n",
      "-----------------------------------------------------------\n",
      "Based on product reviews, for  B008JKU2CO  and this average Score is  4.361038961038961\n",
      "The first similar product is  B0034EFIYC  and this average Score is  4.4879518072289155\n",
      "The second similar product is  B004GW6O9E  and this average Score is  4.410852713178294\n",
      "-----------------------------------------------------------\n",
      "Based on product reviews, for  B008O3G2K2  and this average Score is  3.5060240963855422\n",
      "The first similar product is  B001P3NU44  and this average Score is  4.1652892561983474\n",
      "The second similar product is  B001Q9EFW8  and this average Score is  3.908256880733945\n",
      "-----------------------------------------------------------\n",
      "Based on product reviews, for  B008RWUKXK  and this average Score is  4.15593220338983\n",
      "The first similar product is  B004BKLHOS  and this average Score is  4.274834437086093\n",
      "The second similar product is  B003XDH6M6  and this average Score is  4.023489932885906\n",
      "-----------------------------------------------------------\n",
      "Based on product reviews, for  B008YA1NWC  and this average Score is  4.458064516129032\n",
      "The first similar product is  B001CHJ01A  and this average Score is  4.364485981308412\n",
      "The second similar product is  B002QGK2V8  and this average Score is  3.4484848484848483\n",
      "-----------------------------------------------------------\n",
      "Based on product reviews, for  B008ZRKZSM  and this average Score is  4.467741935483871\n",
      "The first similar product is  B004CLCEDE  and this average Score is  3.509259259259259\n",
      "The second similar product is  B005PXZ6JM  and this average Score is  4.4113924050632916\n",
      "-----------------------------------------------------------\n",
      "Based on product reviews, for  B0090X8IPM  and this average Score is  3.8132075471698115\n",
      "The first similar product is  B005VOONM6  and this average Score is  3.8472222222222223\n",
      "The second similar product is  B006N3IG4K  and this average Score is  3.934065934065934\n",
      "-----------------------------------------------------------\n",
      "Based on product reviews, for  B00954NYVY  and this average Score is  4.561797752808989\n",
      "The first similar product is  B001D0GV90  and this average Score is  4.437837837837838\n",
      "The second similar product is  B002AQ0OS0  and this average Score is  3.911392405063291\n",
      "-----------------------------------------------------------\n",
      "Based on product reviews, for  B0098WV8F2  and this average Score is  4.390697674418605\n",
      "The first similar product is  B004CLCEDE  and this average Score is  3.509259259259259\n",
      "The second similar product is  B0006Z7NOK  and this average Score is  4.612676056338028\n",
      "-----------------------------------------------------------\n",
      "Based on product reviews, for  B009E7YC54  and this average Score is  4.642857142857143\n",
      "The first similar product is  B000VK08OC  and this average Score is  4.491379310344827\n",
      "The second similar product is  B001P74NXM  and this average Score is  4.431952662721893\n",
      "-----------------------------------------------------------\n",
      "Based on product reviews, for  B009RB4GO4  and this average Score is  3.143426294820717\n",
      "The first similar product is  B005A1LGIY  and this average Score is  3.9731182795698925\n",
      "The second similar product is  B000EVQWKC  and this average Score is  2.8803418803418803\n",
      "-----------------------------------------------------------\n"
     ]
    }
   ],
   "source": [
    "#find most related products\n",
    "for i in range(lentest):\n",
    "    a = nbrs.kneighbors([df5_test[i]])\n",
    "    related_product_list = a[1]\n",
    "    \n",
    "    first_related_product = [item[0] for item in related_product_list]\n",
    "    first_related_product = str(first_related_product).strip('[]')\n",
    "    first_related_product = int(first_related_product)\n",
    "    second_related_product = [item[1] for item in related_product_list]\n",
    "    second_related_product = str(second_related_product).strip('[]')\n",
    "    second_related_product = int(second_related_product)\n",
    "    \n",
    "    print (\"Based on product reviews, for \", df3[\"ProductId\"][lentrain + i] ,\" and this average Score is \",df3[\"Score\"][lentrain + i])\n",
    "    print (\"The first similar product is \", df3[\"ProductId\"][first_related_product] ,\" and this average Score is \",df3[\"Score\"][first_related_product])\n",
    "    print (\"The second similar product is \", df3[\"ProductId\"][second_related_product] ,\" and this average Score is \",df3[\"Score\"][second_related_product])\n",
    "    print (\"-----------------------------------------------------------\")"
   ]
  },
  {
   "cell_type": "markdown",
   "metadata": {},
   "source": [
    "# 1.c Predicting Review Score"
   ]
  },
  {
   "cell_type": "code",
   "execution_count": 22,
   "metadata": {},
   "outputs": [
    {
     "name": "stdout",
     "output_type": "stream",
     "text": [
      "[4 4 4 3 4 4 3 3 3 4 4 3 3 3 4 4 4 3 3 3 4 3 4 3 4 3 4 4 4 4 4 4 3 4 3 4 3]\n",
      "              precision    recall  f1-score   support\n",
      "\n",
      "           3       0.50      0.80      0.62        10\n",
      "           4       0.90      0.70      0.79        27\n",
      "\n",
      "    accuracy                           0.73        37\n",
      "   macro avg       0.70      0.75      0.70        37\n",
      "weighted avg       0.80      0.73      0.74        37\n",
      "\n",
      "0.7297297297297297\n"
     ]
    }
   ],
   "source": [
    "df5_train_target = df3[\"Score\"][:lentrain]\n",
    "df5_test_target = df3[\"Score\"][lentrain:lentrain+lentest]\n",
    "df5_train_target = df5_train_target.astype(int)\n",
    "df5_test_target = df5_test_target.astype(int)\n",
    "\n",
    "n_neighbors = 3\n",
    "knnclf = neighbors.KNeighborsClassifier(n_neighbors, weights='distance')\n",
    "knnclf.fit(df5_train, df5_train_target)\n",
    "knnpreds_test = knnclf.predict(df5_test)\n",
    "print (knnpreds_test)\n",
    "\n",
    "print(classification_report(df5_test_target, knnpreds_test))\n",
    "print (accuracy_score(df5_test_target, knnpreds_test))"
   ]
  },
  {
   "cell_type": "markdown",
   "metadata": {},
   "source": [
    "# 2. User based collaborative filtering "
   ]
  },
  {
   "cell_type": "code",
   "execution_count": 23,
   "metadata": {},
   "outputs": [],
   "source": [
    "count = df.groupby(\"UserId\", as_index=False).count()\n",
    "mean = df.groupby(\"UserId\", as_index=False).mean()\n",
    "\n",
    "#merge two dataset create df1\n",
    "df1 = pd.merge(df, count, how='right', on=[\"UserId\"])\n",
    "#rename column\n",
    "df1[\"Count\"] = df1[\"ProductId_y\"]\n",
    "df1[\"Score\"] = df1[\"Score_x\"]\n",
    "df1[\"Summary\"] = df1[\"Summary_x\"]\n",
    "\n",
    "#Create New datafram with selected variables\n",
    "df1 = df1[[\"UserId\",'Summary','Score',\"Count\"]]"
   ]
  },
  {
   "cell_type": "code",
   "execution_count": 24,
   "metadata": {},
   "outputs": [],
   "source": [
    "df1 = df1.sort_values(by='Count', ascending=False)\n",
    "df2 = df1[df1.Count >= 100]"
   ]
  },
  {
   "cell_type": "code",
   "execution_count": 26,
   "metadata": {},
   "outputs": [],
   "source": [
    "df4 = df.groupby(\"UserId\", as_index=False).mean()\n",
    "combine_summary = df2.groupby(\"UserId\")[\"Summary\"].apply(list)\n",
    "combine_summary = pd.DataFrame(combine_summary)\n",
    "combine_summary.to_csv(\"/Users/sujaikarunakaran/Downloads/amazon-fine-food-reviews/combine_summary2.csv\")"
   ]
  },
  {
   "cell_type": "code",
   "execution_count": 28,
   "metadata": {},
   "outputs": [],
   "source": [
    "df3 = pd.read_csv(\"/Users/sujaikarunakaran/Downloads/amazon-fine-food-reviews/combine_summary2.csv\")\n",
    "df3 = pd.merge(df3, df4, on=\"UserId\", how='inner')\n",
    "df3 = df3[['UserId','Summary','Score']]"
   ]
  },
  {
   "cell_type": "code",
   "execution_count": 29,
   "metadata": {},
   "outputs": [],
   "source": [
    "df3[\"Summary_Clean\"] = df3[\"Summary\"].apply(cleanup)"
   ]
  },
  {
   "cell_type": "code",
   "execution_count": 30,
   "metadata": {},
   "outputs": [],
   "source": [
    "df3 = df3.drop_duplicates(['Score'], keep='last')\n",
    "df3 = df3.reset_index()"
   ]
  },
  {
   "cell_type": "code",
   "execution_count": 31,
   "metadata": {},
   "outputs": [],
   "source": [
    "from pandas import DataFrame \n",
    "from sklearn.feature_extraction.text import CountVectorizer \n",
    "docs = df3[\"Summary_Clean\"] \n",
    "vect = CountVectorizer(max_features = 100, stop_words='english') \n",
    "X = vect.fit_transform(docs) \n",
    "#print(DataFrame(X.A, columns=vect.get_feature_names()).to_string()) \n",
    "df5 = DataFrame(X.A, columns=vect.get_feature_names())\n",
    "df5 = df5.astype(int)"
   ]
  },
  {
   "cell_type": "code",
   "execution_count": 32,
   "metadata": {},
   "outputs": [],
   "source": [
    "df5.to_csv(\"df5.csv\")\n",
    "kkk  = df.drop_duplicates(['Summary'], keep='last')\n",
    "kkk = kkk.reset_index()"
   ]
  },
  {
   "cell_type": "markdown",
   "metadata": {},
   "source": [
    "# 2.b KNN classifier to find similar user and find their interesting products "
   ]
  },
  {
   "cell_type": "code",
   "execution_count": 33,
   "metadata": {},
   "outputs": [],
   "source": [
    "# First let's create a dataset called X, with 6 records and 2 features each.\n",
    "X = np.array(df5)\n",
    "\n",
    "tpercent = 0.95\n",
    "tsize = int(np.floor(tpercent * len(df5)))\n",
    "df5_train = X[:tsize]\n",
    "df5_test = X[tsize:]\n",
    "\n",
    "lentrain = len(df5_train)\n",
    "lentest = len(df5_test)\n",
    "\n",
    "# Next we will instantiate a nearest neighbor object, and call it nbrs. Then we will fit it to dataset X.\n",
    "nbrs = NearestNeighbors(n_neighbors=3, algorithm='ball_tree').fit(df5_train)\n",
    "\n",
    "# Let's find the k-neighbors of each point in object X. To do that we call the kneighbors() function on object X.\n",
    "distances, indices = nbrs.kneighbors(df5_train)"
   ]
  },
  {
   "cell_type": "code",
   "execution_count": 154,
   "metadata": {},
   "outputs": [
    {
     "name": "stdout",
     "output_type": "stream",
     "text": [
      "Based on  reviews, for user is  AY12DBB0U420B\n",
      "The first similar user is  A3FKGKUCI3DG9U .\n",
      "They like the following products\n",
      "B007K449CE\n"
     ]
    },
    {
     "data": {
      "text/plain": [
       "(None,)"
      ]
     },
     "execution_count": 154,
     "metadata": {},
     "output_type": "execute_result"
    },
    {
     "name": "stdout",
     "output_type": "stream",
     "text": [
      "B000EPUPSS\n"
     ]
    },
    {
     "data": {
      "text/plain": [
       "(None,)"
      ]
     },
     "execution_count": 154,
     "metadata": {},
     "output_type": "execute_result"
    },
    {
     "name": "stdout",
     "output_type": "stream",
     "text": [
      "B000F4DKAS\n"
     ]
    },
    {
     "data": {
      "text/plain": [
       "(None,)"
      ]
     },
     "execution_count": 154,
     "metadata": {},
     "output_type": "execute_result"
    },
    {
     "name": "stdout",
     "output_type": "stream",
     "text": [
      "B001OCBT3U\n"
     ]
    },
    {
     "data": {
      "text/plain": [
       "(None,)"
      ]
     },
     "execution_count": 154,
     "metadata": {},
     "output_type": "execute_result"
    },
    {
     "name": "stdout",
     "output_type": "stream",
     "text": [
      "B000EMM9WG\n"
     ]
    },
    {
     "data": {
      "text/plain": [
       "(None,)"
      ]
     },
     "execution_count": 154,
     "metadata": {},
     "output_type": "execute_result"
    },
    {
     "name": "stdout",
     "output_type": "stream",
     "text": [
      "B0014X5O1C\n"
     ]
    },
    {
     "data": {
      "text/plain": [
       "(None,)"
      ]
     },
     "execution_count": 154,
     "metadata": {},
     "output_type": "execute_result"
    },
    {
     "name": "stdout",
     "output_type": "stream",
     "text": [
      "B004158VLU\n"
     ]
    },
    {
     "data": {
      "text/plain": [
       "(None,)"
      ]
     },
     "execution_count": 154,
     "metadata": {},
     "output_type": "execute_result"
    },
    {
     "name": "stdout",
     "output_type": "stream",
     "text": [
      "B0018SMUVA\n"
     ]
    },
    {
     "data": {
      "text/plain": [
       "(None,)"
      ]
     },
     "execution_count": 154,
     "metadata": {},
     "output_type": "execute_result"
    },
    {
     "name": "stdout",
     "output_type": "stream",
     "text": [
      "B004BKLHOS\n"
     ]
    },
    {
     "data": {
      "text/plain": [
       "(None,)"
      ]
     },
     "execution_count": 154,
     "metadata": {},
     "output_type": "execute_result"
    },
    {
     "name": "stdout",
     "output_type": "stream",
     "text": [
      "B000F4J76E\n"
     ]
    },
    {
     "data": {
      "text/plain": [
       "(None,)"
      ]
     },
     "execution_count": 154,
     "metadata": {},
     "output_type": "execute_result"
    },
    {
     "name": "stdout",
     "output_type": "stream",
     "text": [
      "B000YCJRIU\n"
     ]
    },
    {
     "data": {
      "text/plain": [
       "(None,)"
      ]
     },
     "execution_count": 154,
     "metadata": {},
     "output_type": "execute_result"
    },
    {
     "name": "stdout",
     "output_type": "stream",
     "text": [
      "B008RWUHA6\n"
     ]
    },
    {
     "data": {
      "text/plain": [
       "(None,)"
      ]
     },
     "execution_count": 154,
     "metadata": {},
     "output_type": "execute_result"
    },
    {
     "name": "stdout",
     "output_type": "stream",
     "text": [
      "B000MPQ4Q2\n"
     ]
    },
    {
     "data": {
      "text/plain": [
       "(None,)"
      ]
     },
     "execution_count": 154,
     "metadata": {},
     "output_type": "execute_result"
    },
    {
     "name": "stdout",
     "output_type": "stream",
     "text": [
      "B000ETVRQS\n"
     ]
    },
    {
     "data": {
      "text/plain": [
       "(None,)"
      ]
     },
     "execution_count": 154,
     "metadata": {},
     "output_type": "execute_result"
    },
    {
     "name": "stdout",
     "output_type": "stream",
     "text": [
      "B001E6IUMY\n"
     ]
    },
    {
     "data": {
      "text/plain": [
       "(None,)"
      ]
     },
     "execution_count": 154,
     "metadata": {},
     "output_type": "execute_result"
    },
    {
     "name": "stdout",
     "output_type": "stream",
     "text": [
      "B000EMK4CS\n"
     ]
    },
    {
     "data": {
      "text/plain": [
       "(None,)"
      ]
     },
     "execution_count": 154,
     "metadata": {},
     "output_type": "execute_result"
    },
    {
     "name": "stdout",
     "output_type": "stream",
     "text": [
      "B0027MIP9C\n"
     ]
    },
    {
     "data": {
      "text/plain": [
       "(None,)"
      ]
     },
     "execution_count": 154,
     "metadata": {},
     "output_type": "execute_result"
    },
    {
     "name": "stdout",
     "output_type": "stream",
     "text": [
      "B001OCKIBY\n"
     ]
    },
    {
     "data": {
      "text/plain": [
       "(None,)"
      ]
     },
     "execution_count": 154,
     "metadata": {},
     "output_type": "execute_result"
    },
    {
     "name": "stdout",
     "output_type": "stream",
     "text": [
      "B004FQU4CE\n"
     ]
    },
    {
     "data": {
      "text/plain": [
       "(None,)"
      ]
     },
     "execution_count": 154,
     "metadata": {},
     "output_type": "execute_result"
    },
    {
     "name": "stdout",
     "output_type": "stream",
     "text": [
      "B000JVCBO8\n"
     ]
    },
    {
     "data": {
      "text/plain": [
       "(None,)"
      ]
     },
     "execution_count": 154,
     "metadata": {},
     "output_type": "execute_result"
    },
    {
     "name": "stdout",
     "output_type": "stream",
     "text": [
      "B002LMXFCU\n"
     ]
    },
    {
     "data": {
      "text/plain": [
       "(None,)"
      ]
     },
     "execution_count": 154,
     "metadata": {},
     "output_type": "execute_result"
    },
    {
     "name": "stdout",
     "output_type": "stream",
     "text": [
      "B007JT7ARQ\n"
     ]
    },
    {
     "data": {
      "text/plain": [
       "(None,)"
      ]
     },
     "execution_count": 154,
     "metadata": {},
     "output_type": "execute_result"
    },
    {
     "name": "stdout",
     "output_type": "stream",
     "text": [
      "--------------------------------------------------------------------\n",
      "Based on  reviews, for user is  AY1EF0GOH80EK\n",
      "The first similar user is  AKMEY1BSHSDG7 .\n",
      "They like the following products\n",
      "B000E5AO8O\n"
     ]
    },
    {
     "data": {
      "text/plain": [
       "(None,)"
      ]
     },
     "execution_count": 154,
     "metadata": {},
     "output_type": "execute_result"
    },
    {
     "name": "stdout",
     "output_type": "stream",
     "text": [
      "B0001UZTJG\n"
     ]
    },
    {
     "data": {
      "text/plain": [
       "(None,)"
      ]
     },
     "execution_count": 154,
     "metadata": {},
     "output_type": "execute_result"
    },
    {
     "name": "stdout",
     "output_type": "stream",
     "text": [
      "B0009XQSAY\n"
     ]
    },
    {
     "data": {
      "text/plain": [
       "(None,)"
      ]
     },
     "execution_count": 154,
     "metadata": {},
     "output_type": "execute_result"
    },
    {
     "name": "stdout",
     "output_type": "stream",
     "text": [
      "B000GWHFZA\n"
     ]
    },
    {
     "data": {
      "text/plain": [
       "(None,)"
      ]
     },
     "execution_count": 154,
     "metadata": {},
     "output_type": "execute_result"
    },
    {
     "name": "stdout",
     "output_type": "stream",
     "text": [
      "B000WHPNI0\n"
     ]
    },
    {
     "data": {
      "text/plain": [
       "(None,)"
      ]
     },
     "execution_count": 154,
     "metadata": {},
     "output_type": "execute_result"
    },
    {
     "name": "stdout",
     "output_type": "stream",
     "text": [
      "B001EQ55RW\n"
     ]
    },
    {
     "data": {
      "text/plain": [
       "(None,)"
      ]
     },
     "execution_count": 154,
     "metadata": {},
     "output_type": "execute_result"
    },
    {
     "name": "stdout",
     "output_type": "stream",
     "text": [
      "B000EXMP74\n"
     ]
    },
    {
     "data": {
      "text/plain": [
       "(None,)"
      ]
     },
     "execution_count": 154,
     "metadata": {},
     "output_type": "execute_result"
    },
    {
     "name": "stdout",
     "output_type": "stream",
     "text": [
      "B000NQ6TRY\n"
     ]
    },
    {
     "data": {
      "text/plain": [
       "(None,)"
      ]
     },
     "execution_count": 154,
     "metadata": {},
     "output_type": "execute_result"
    },
    {
     "name": "stdout",
     "output_type": "stream",
     "text": [
      "B000FA38ZE\n"
     ]
    },
    {
     "data": {
      "text/plain": [
       "(None,)"
      ]
     },
     "execution_count": 154,
     "metadata": {},
     "output_type": "execute_result"
    },
    {
     "name": "stdout",
     "output_type": "stream",
     "text": [
      "B000BLNU6E\n"
     ]
    },
    {
     "data": {
      "text/plain": [
       "(None,)"
      ]
     },
     "execution_count": 154,
     "metadata": {},
     "output_type": "execute_result"
    },
    {
     "name": "stdout",
     "output_type": "stream",
     "text": [
      "B001EQ4J42\n"
     ]
    },
    {
     "data": {
      "text/plain": [
       "(None,)"
      ]
     },
     "execution_count": 154,
     "metadata": {},
     "output_type": "execute_result"
    },
    {
     "name": "stdout",
     "output_type": "stream",
     "text": [
      "B00469PHX6\n"
     ]
    },
    {
     "data": {
      "text/plain": [
       "(None,)"
      ]
     },
     "execution_count": 154,
     "metadata": {},
     "output_type": "execute_result"
    },
    {
     "name": "stdout",
     "output_type": "stream",
     "text": [
      "B000CQ4D3C\n"
     ]
    },
    {
     "data": {
      "text/plain": [
       "(None,)"
      ]
     },
     "execution_count": 154,
     "metadata": {},
     "output_type": "execute_result"
    },
    {
     "name": "stdout",
     "output_type": "stream",
     "text": [
      "B001OCKI5U\n"
     ]
    },
    {
     "data": {
      "text/plain": [
       "(None,)"
      ]
     },
     "execution_count": 154,
     "metadata": {},
     "output_type": "execute_result"
    },
    {
     "name": "stdout",
     "output_type": "stream",
     "text": [
      "B003ZXHB7E\n"
     ]
    },
    {
     "data": {
      "text/plain": [
       "(None,)"
      ]
     },
     "execution_count": 154,
     "metadata": {},
     "output_type": "execute_result"
    },
    {
     "name": "stdout",
     "output_type": "stream",
     "text": [
      "B000STZRTW\n"
     ]
    },
    {
     "data": {
      "text/plain": [
       "(None,)"
      ]
     },
     "execution_count": 154,
     "metadata": {},
     "output_type": "execute_result"
    },
    {
     "name": "stdout",
     "output_type": "stream",
     "text": [
      "B0007R9L4M\n"
     ]
    },
    {
     "data": {
      "text/plain": [
       "(None,)"
      ]
     },
     "execution_count": 154,
     "metadata": {},
     "output_type": "execute_result"
    },
    {
     "name": "stdout",
     "output_type": "stream",
     "text": [
      "B000CBR2FS\n"
     ]
    },
    {
     "data": {
      "text/plain": [
       "(None,)"
      ]
     },
     "execution_count": 154,
     "metadata": {},
     "output_type": "execute_result"
    },
    {
     "name": "stdout",
     "output_type": "stream",
     "text": [
      "B000E1FZJG\n"
     ]
    },
    {
     "data": {
      "text/plain": [
       "(None,)"
      ]
     },
     "execution_count": 154,
     "metadata": {},
     "output_type": "execute_result"
    },
    {
     "name": "stdout",
     "output_type": "stream",
     "text": [
      "B000EXKS14\n"
     ]
    },
    {
     "data": {
      "text/plain": [
       "(None,)"
      ]
     },
     "execution_count": 154,
     "metadata": {},
     "output_type": "execute_result"
    },
    {
     "name": "stdout",
     "output_type": "stream",
     "text": [
      "B0043OX51U\n"
     ]
    },
    {
     "data": {
      "text/plain": [
       "(None,)"
      ]
     },
     "execution_count": 154,
     "metadata": {},
     "output_type": "execute_result"
    },
    {
     "name": "stdout",
     "output_type": "stream",
     "text": [
      "B001E5E060\n"
     ]
    },
    {
     "data": {
      "text/plain": [
       "(None,)"
      ]
     },
     "execution_count": 154,
     "metadata": {},
     "output_type": "execute_result"
    },
    {
     "name": "stdout",
     "output_type": "stream",
     "text": [
      "B001EQ4HM6\n"
     ]
    },
    {
     "data": {
      "text/plain": [
       "(None,)"
      ]
     },
     "execution_count": 154,
     "metadata": {},
     "output_type": "execute_result"
    },
    {
     "name": "stdout",
     "output_type": "stream",
     "text": [
      "B000OBYNQW\n"
     ]
    },
    {
     "data": {
      "text/plain": [
       "(None,)"
      ]
     },
     "execution_count": 154,
     "metadata": {},
     "output_type": "execute_result"
    },
    {
     "name": "stdout",
     "output_type": "stream",
     "text": [
      "B000E1FZBY\n"
     ]
    },
    {
     "data": {
      "text/plain": [
       "(None,)"
      ]
     },
     "execution_count": 154,
     "metadata": {},
     "output_type": "execute_result"
    },
    {
     "name": "stdout",
     "output_type": "stream",
     "text": [
      "B007TGO1U8\n"
     ]
    },
    {
     "data": {
      "text/plain": [
       "(None,)"
      ]
     },
     "execution_count": 154,
     "metadata": {},
     "output_type": "execute_result"
    },
    {
     "name": "stdout",
     "output_type": "stream",
     "text": [
      "B000E67210\n"
     ]
    },
    {
     "data": {
      "text/plain": [
       "(None,)"
      ]
     },
     "execution_count": 154,
     "metadata": {},
     "output_type": "execute_result"
    },
    {
     "name": "stdout",
     "output_type": "stream",
     "text": [
      "B000KNHFKU\n"
     ]
    },
    {
     "data": {
      "text/plain": [
       "(None,)"
      ]
     },
     "execution_count": 154,
     "metadata": {},
     "output_type": "execute_result"
    },
    {
     "name": "stdout",
     "output_type": "stream",
     "text": [
      "B005G2FCNM\n"
     ]
    },
    {
     "data": {
      "text/plain": [
       "(None,)"
      ]
     },
     "execution_count": 154,
     "metadata": {},
     "output_type": "execute_result"
    },
    {
     "name": "stdout",
     "output_type": "stream",
     "text": [
      "B0014X5O1C\n"
     ]
    },
    {
     "data": {
      "text/plain": [
       "(None,)"
      ]
     },
     "execution_count": 154,
     "metadata": {},
     "output_type": "execute_result"
    },
    {
     "name": "stdout",
     "output_type": "stream",
     "text": [
      "B000YPMKY0\n"
     ]
    },
    {
     "data": {
      "text/plain": [
       "(None,)"
      ]
     },
     "execution_count": 154,
     "metadata": {},
     "output_type": "execute_result"
    },
    {
     "name": "stdout",
     "output_type": "stream",
     "text": [
      "B000YW7Q0Q\n"
     ]
    },
    {
     "data": {
      "text/plain": [
       "(None,)"
      ]
     },
     "execution_count": 154,
     "metadata": {},
     "output_type": "execute_result"
    },
    {
     "name": "stdout",
     "output_type": "stream",
     "text": [
      "B004BKLHOS\n"
     ]
    },
    {
     "data": {
      "text/plain": [
       "(None,)"
      ]
     },
     "execution_count": 154,
     "metadata": {},
     "output_type": "execute_result"
    },
    {
     "name": "stdout",
     "output_type": "stream",
     "text": [
      "B000I60JUW\n"
     ]
    },
    {
     "data": {
      "text/plain": [
       "(None,)"
      ]
     },
     "execution_count": 154,
     "metadata": {},
     "output_type": "execute_result"
    },
    {
     "name": "stdout",
     "output_type": "stream",
     "text": [
      "B001EQ4IKW\n"
     ]
    },
    {
     "data": {
      "text/plain": [
       "(None,)"
      ]
     },
     "execution_count": 154,
     "metadata": {},
     "output_type": "execute_result"
    },
    {
     "name": "stdout",
     "output_type": "stream",
     "text": [
      "B001FA1KLW\n"
     ]
    },
    {
     "data": {
      "text/plain": [
       "(None,)"
      ]
     },
     "execution_count": 154,
     "metadata": {},
     "output_type": "execute_result"
    },
    {
     "name": "stdout",
     "output_type": "stream",
     "text": [
      "B000FKQD5G\n"
     ]
    },
    {
     "data": {
      "text/plain": [
       "(None,)"
      ]
     },
     "execution_count": 154,
     "metadata": {},
     "output_type": "execute_result"
    },
    {
     "name": "stdout",
     "output_type": "stream",
     "text": [
      "B000LKXNG2\n"
     ]
    },
    {
     "data": {
      "text/plain": [
       "(None,)"
      ]
     },
     "execution_count": 154,
     "metadata": {},
     "output_type": "execute_result"
    },
    {
     "name": "stdout",
     "output_type": "stream",
     "text": [
      "B0014ET0OI\n"
     ]
    },
    {
     "data": {
      "text/plain": [
       "(None,)"
      ]
     },
     "execution_count": 154,
     "metadata": {},
     "output_type": "execute_result"
    },
    {
     "name": "stdout",
     "output_type": "stream",
     "text": [
      "B000CQ4D50\n"
     ]
    },
    {
     "data": {
      "text/plain": [
       "(None,)"
      ]
     },
     "execution_count": 154,
     "metadata": {},
     "output_type": "execute_result"
    },
    {
     "name": "stdout",
     "output_type": "stream",
     "text": [
      "B001M0A6C4\n"
     ]
    },
    {
     "data": {
      "text/plain": [
       "(None,)"
      ]
     },
     "execution_count": 154,
     "metadata": {},
     "output_type": "execute_result"
    },
    {
     "name": "stdout",
     "output_type": "stream",
     "text": [
      "B000EDDSE8\n"
     ]
    },
    {
     "data": {
      "text/plain": [
       "(None,)"
      ]
     },
     "execution_count": 154,
     "metadata": {},
     "output_type": "execute_result"
    },
    {
     "name": "stdout",
     "output_type": "stream",
     "text": [
      "B004FEN3GK\n"
     ]
    },
    {
     "data": {
      "text/plain": [
       "(None,)"
      ]
     },
     "execution_count": 154,
     "metadata": {},
     "output_type": "execute_result"
    },
    {
     "name": "stdout",
     "output_type": "stream",
     "text": [
      "B001M0AKSE\n"
     ]
    },
    {
     "data": {
      "text/plain": [
       "(None,)"
      ]
     },
     "execution_count": 154,
     "metadata": {},
     "output_type": "execute_result"
    },
    {
     "name": "stdout",
     "output_type": "stream",
     "text": [
      "B001D3Q4DA\n"
     ]
    },
    {
     "data": {
      "text/plain": [
       "(None,)"
      ]
     },
     "execution_count": 154,
     "metadata": {},
     "output_type": "execute_result"
    },
    {
     "name": "stdout",
     "output_type": "stream",
     "text": [
      "B005NIBIWS\n"
     ]
    },
    {
     "data": {
      "text/plain": [
       "(None,)"
      ]
     },
     "execution_count": 154,
     "metadata": {},
     "output_type": "execute_result"
    },
    {
     "name": "stdout",
     "output_type": "stream",
     "text": [
      "B000EMK56I\n"
     ]
    },
    {
     "data": {
      "text/plain": [
       "(None,)"
      ]
     },
     "execution_count": 154,
     "metadata": {},
     "output_type": "execute_result"
    },
    {
     "name": "stdout",
     "output_type": "stream",
     "text": [
      "B0006004C8\n"
     ]
    },
    {
     "data": {
      "text/plain": [
       "(None,)"
      ]
     },
     "execution_count": 154,
     "metadata": {},
     "output_type": "execute_result"
    },
    {
     "name": "stdout",
     "output_type": "stream",
     "text": [
      "B000FMZO90\n"
     ]
    },
    {
     "data": {
      "text/plain": [
       "(None,)"
      ]
     },
     "execution_count": 154,
     "metadata": {},
     "output_type": "execute_result"
    },
    {
     "name": "stdout",
     "output_type": "stream",
     "text": [
      "B001EQ4DUM\n"
     ]
    },
    {
     "data": {
      "text/plain": [
       "(None,)"
      ]
     },
     "execution_count": 154,
     "metadata": {},
     "output_type": "execute_result"
    },
    {
     "name": "stdout",
     "output_type": "stream",
     "text": [
      "B000MFJLZS\n"
     ]
    },
    {
     "data": {
      "text/plain": [
       "(None,)"
      ]
     },
     "execution_count": 154,
     "metadata": {},
     "output_type": "execute_result"
    },
    {
     "name": "stdout",
     "output_type": "stream",
     "text": [
      "B000MFJLZS\n"
     ]
    },
    {
     "data": {
      "text/plain": [
       "(None,)"
      ]
     },
     "execution_count": 154,
     "metadata": {},
     "output_type": "execute_result"
    },
    {
     "name": "stdout",
     "output_type": "stream",
     "text": [
      "B006VC0ZYM\n"
     ]
    },
    {
     "data": {
      "text/plain": [
       "(None,)"
      ]
     },
     "execution_count": 154,
     "metadata": {},
     "output_type": "execute_result"
    },
    {
     "name": "stdout",
     "output_type": "stream",
     "text": [
      "B000EPR1KI\n"
     ]
    },
    {
     "data": {
      "text/plain": [
       "(None,)"
      ]
     },
     "execution_count": 154,
     "metadata": {},
     "output_type": "execute_result"
    },
    {
     "name": "stdout",
     "output_type": "stream",
     "text": [
      "B000EPR1KI\n"
     ]
    },
    {
     "data": {
      "text/plain": [
       "(None,)"
      ]
     },
     "execution_count": 154,
     "metadata": {},
     "output_type": "execute_result"
    },
    {
     "name": "stdout",
     "output_type": "stream",
     "text": [
      "B000633Y40\n"
     ]
    },
    {
     "data": {
      "text/plain": [
       "(None,)"
      ]
     },
     "execution_count": 154,
     "metadata": {},
     "output_type": "execute_result"
    },
    {
     "name": "stdout",
     "output_type": "stream",
     "text": [
      "B000EUG1SG\n"
     ]
    },
    {
     "data": {
      "text/plain": [
       "(None,)"
      ]
     },
     "execution_count": 154,
     "metadata": {},
     "output_type": "execute_result"
    },
    {
     "name": "stdout",
     "output_type": "stream",
     "text": [
      "B000P54HZY\n"
     ]
    },
    {
     "data": {
      "text/plain": [
       "(None,)"
      ]
     },
     "execution_count": 154,
     "metadata": {},
     "output_type": "execute_result"
    },
    {
     "name": "stdout",
     "output_type": "stream",
     "text": [
      "B000E65OQA\n"
     ]
    },
    {
     "data": {
      "text/plain": [
       "(None,)"
      ]
     },
     "execution_count": 154,
     "metadata": {},
     "output_type": "execute_result"
    },
    {
     "name": "stdout",
     "output_type": "stream",
     "text": [
      "B000NU4VSO\n"
     ]
    },
    {
     "data": {
      "text/plain": [
       "(None,)"
      ]
     },
     "execution_count": 154,
     "metadata": {},
     "output_type": "execute_result"
    },
    {
     "name": "stdout",
     "output_type": "stream",
     "text": [
      "B000E63LDS\n"
     ]
    },
    {
     "data": {
      "text/plain": [
       "(None,)"
      ]
     },
     "execution_count": 154,
     "metadata": {},
     "output_type": "execute_result"
    },
    {
     "name": "stdout",
     "output_type": "stream",
     "text": [
      "B000KEPBBY\n"
     ]
    },
    {
     "data": {
      "text/plain": [
       "(None,)"
      ]
     },
     "execution_count": 154,
     "metadata": {},
     "output_type": "execute_result"
    },
    {
     "name": "stdout",
     "output_type": "stream",
     "text": [
      "B000P52FLW\n"
     ]
    },
    {
     "data": {
      "text/plain": [
       "(None,)"
      ]
     },
     "execution_count": 154,
     "metadata": {},
     "output_type": "execute_result"
    },
    {
     "name": "stdout",
     "output_type": "stream",
     "text": [
      "B002AQKYEE\n"
     ]
    },
    {
     "data": {
      "text/plain": [
       "(None,)"
      ]
     },
     "execution_count": 154,
     "metadata": {},
     "output_type": "execute_result"
    },
    {
     "name": "stdout",
     "output_type": "stream",
     "text": [
      "B000HBIHK2\n"
     ]
    },
    {
     "data": {
      "text/plain": [
       "(None,)"
      ]
     },
     "execution_count": 154,
     "metadata": {},
     "output_type": "execute_result"
    },
    {
     "name": "stdout",
     "output_type": "stream",
     "text": [
      "B001EO5W2M\n"
     ]
    },
    {
     "data": {
      "text/plain": [
       "(None,)"
      ]
     },
     "execution_count": 154,
     "metadata": {},
     "output_type": "execute_result"
    },
    {
     "name": "stdout",
     "output_type": "stream",
     "text": [
      "B004E4HUMY\n"
     ]
    },
    {
     "data": {
      "text/plain": [
       "(None,)"
      ]
     },
     "execution_count": 154,
     "metadata": {},
     "output_type": "execute_result"
    },
    {
     "name": "stdout",
     "output_type": "stream",
     "text": [
      "B000E1FXNY\n"
     ]
    },
    {
     "data": {
      "text/plain": [
       "(None,)"
      ]
     },
     "execution_count": 154,
     "metadata": {},
     "output_type": "execute_result"
    },
    {
     "name": "stdout",
     "output_type": "stream",
     "text": [
      "B003EYXUXS\n"
     ]
    },
    {
     "data": {
      "text/plain": [
       "(None,)"
      ]
     },
     "execution_count": 154,
     "metadata": {},
     "output_type": "execute_result"
    },
    {
     "name": "stdout",
     "output_type": "stream",
     "text": [
      "B001CTJOQY\n"
     ]
    },
    {
     "data": {
      "text/plain": [
       "(None,)"
      ]
     },
     "execution_count": 154,
     "metadata": {},
     "output_type": "execute_result"
    },
    {
     "name": "stdout",
     "output_type": "stream",
     "text": [
      "B003HKY4R0\n"
     ]
    },
    {
     "data": {
      "text/plain": [
       "(None,)"
      ]
     },
     "execution_count": 154,
     "metadata": {},
     "output_type": "execute_result"
    },
    {
     "name": "stdout",
     "output_type": "stream",
     "text": [
      "B000MRTSB8\n"
     ]
    },
    {
     "data": {
      "text/plain": [
       "(None,)"
      ]
     },
     "execution_count": 154,
     "metadata": {},
     "output_type": "execute_result"
    },
    {
     "name": "stdout",
     "output_type": "stream",
     "text": [
      "B003G1ZRTY\n"
     ]
    },
    {
     "data": {
      "text/plain": [
       "(None,)"
      ]
     },
     "execution_count": 154,
     "metadata": {},
     "output_type": "execute_result"
    },
    {
     "name": "stdout",
     "output_type": "stream",
     "text": [
      "B0032GHHRS\n"
     ]
    },
    {
     "data": {
      "text/plain": [
       "(None,)"
      ]
     },
     "execution_count": 154,
     "metadata": {},
     "output_type": "execute_result"
    },
    {
     "name": "stdout",
     "output_type": "stream",
     "text": [
      "B004YGQPAK\n"
     ]
    },
    {
     "data": {
      "text/plain": [
       "(None,)"
      ]
     },
     "execution_count": 154,
     "metadata": {},
     "output_type": "execute_result"
    },
    {
     "name": "stdout",
     "output_type": "stream",
     "text": [
      "B001E6K6F8\n"
     ]
    },
    {
     "data": {
      "text/plain": [
       "(None,)"
      ]
     },
     "execution_count": 154,
     "metadata": {},
     "output_type": "execute_result"
    },
    {
     "name": "stdout",
     "output_type": "stream",
     "text": [
      "B0069QQTWC\n"
     ]
    },
    {
     "data": {
      "text/plain": [
       "(None,)"
      ]
     },
     "execution_count": 154,
     "metadata": {},
     "output_type": "execute_result"
    },
    {
     "name": "stdout",
     "output_type": "stream",
     "text": [
      "B0031QKZP0\n"
     ]
    },
    {
     "data": {
      "text/plain": [
       "(None,)"
      ]
     },
     "execution_count": 154,
     "metadata": {},
     "output_type": "execute_result"
    },
    {
     "name": "stdout",
     "output_type": "stream",
     "text": [
      "B008ATDIDE\n"
     ]
    },
    {
     "data": {
      "text/plain": [
       "(None,)"
      ]
     },
     "execution_count": 154,
     "metadata": {},
     "output_type": "execute_result"
    },
    {
     "name": "stdout",
     "output_type": "stream",
     "text": [
      "B003VZBFTG\n"
     ]
    },
    {
     "data": {
      "text/plain": [
       "(None,)"
      ]
     },
     "execution_count": 154,
     "metadata": {},
     "output_type": "execute_result"
    },
    {
     "name": "stdout",
     "output_type": "stream",
     "text": [
      "B001E4Q5GO\n"
     ]
    },
    {
     "data": {
      "text/plain": [
       "(None,)"
      ]
     },
     "execution_count": 154,
     "metadata": {},
     "output_type": "execute_result"
    },
    {
     "name": "stdout",
     "output_type": "stream",
     "text": [
      "B00028Q8V0\n"
     ]
    },
    {
     "data": {
      "text/plain": [
       "(None,)"
      ]
     },
     "execution_count": 154,
     "metadata": {},
     "output_type": "execute_result"
    },
    {
     "name": "stdout",
     "output_type": "stream",
     "text": [
      "B001SAXPEO\n"
     ]
    },
    {
     "data": {
      "text/plain": [
       "(None,)"
      ]
     },
     "execution_count": 154,
     "metadata": {},
     "output_type": "execute_result"
    },
    {
     "name": "stdout",
     "output_type": "stream",
     "text": [
      "B00094D202\n"
     ]
    },
    {
     "data": {
      "text/plain": [
       "(None,)"
      ]
     },
     "execution_count": 154,
     "metadata": {},
     "output_type": "execute_result"
    },
    {
     "name": "stdout",
     "output_type": "stream",
     "text": [
      "B001EO5U3I\n"
     ]
    },
    {
     "data": {
      "text/plain": [
       "(None,)"
      ]
     },
     "execution_count": 154,
     "metadata": {},
     "output_type": "execute_result"
    },
    {
     "name": "stdout",
     "output_type": "stream",
     "text": [
      "--------------------------------------------------------------------\n",
      "Based on  reviews, for user is  AYB4ELCS5AM8P\n",
      "The first similar user is  A1IU7S4HCK1XK0 .\n",
      "They like the following products\n",
      "B000NY8ODS\n"
     ]
    },
    {
     "data": {
      "text/plain": [
       "(None,)"
      ]
     },
     "execution_count": 154,
     "metadata": {},
     "output_type": "execute_result"
    },
    {
     "name": "stdout",
     "output_type": "stream",
     "text": [
      "B000ED9LDU\n"
     ]
    },
    {
     "data": {
      "text/plain": [
       "(None,)"
      ]
     },
     "execution_count": 154,
     "metadata": {},
     "output_type": "execute_result"
    },
    {
     "name": "stdout",
     "output_type": "stream",
     "text": [
      "B00060PTLO\n"
     ]
    },
    {
     "data": {
      "text/plain": [
       "(None,)"
      ]
     },
     "execution_count": 154,
     "metadata": {},
     "output_type": "execute_result"
    },
    {
     "name": "stdout",
     "output_type": "stream",
     "text": [
      "B000RJARJS\n"
     ]
    },
    {
     "data": {
      "text/plain": [
       "(None,)"
      ]
     },
     "execution_count": 154,
     "metadata": {},
     "output_type": "execute_result"
    },
    {
     "name": "stdout",
     "output_type": "stream",
     "text": [
      "B005HGOIQ4\n"
     ]
    },
    {
     "data": {
      "text/plain": [
       "(None,)"
      ]
     },
     "execution_count": 154,
     "metadata": {},
     "output_type": "execute_result"
    },
    {
     "name": "stdout",
     "output_type": "stream",
     "text": [
      "B000EGZ9AG\n"
     ]
    },
    {
     "data": {
      "text/plain": [
       "(None,)"
      ]
     },
     "execution_count": 154,
     "metadata": {},
     "output_type": "execute_result"
    },
    {
     "name": "stdout",
     "output_type": "stream",
     "text": [
      "B000EVOSE4\n"
     ]
    },
    {
     "data": {
      "text/plain": [
       "(None,)"
      ]
     },
     "execution_count": 154,
     "metadata": {},
     "output_type": "execute_result"
    },
    {
     "name": "stdout",
     "output_type": "stream",
     "text": [
      "B002IEZJMA\n"
     ]
    },
    {
     "data": {
      "text/plain": [
       "(None,)"
      ]
     },
     "execution_count": 154,
     "metadata": {},
     "output_type": "execute_result"
    },
    {
     "name": "stdout",
     "output_type": "stream",
     "text": [
      "B000EVQWHU\n"
     ]
    },
    {
     "data": {
      "text/plain": [
       "(None,)"
      ]
     },
     "execution_count": 154,
     "metadata": {},
     "output_type": "execute_result"
    },
    {
     "name": "stdout",
     "output_type": "stream",
     "text": [
      "B0014WYXQK\n"
     ]
    },
    {
     "data": {
      "text/plain": [
       "(None,)"
      ]
     },
     "execution_count": 154,
     "metadata": {},
     "output_type": "execute_result"
    },
    {
     "name": "stdout",
     "output_type": "stream",
     "text": [
      "B003T068FO\n"
     ]
    },
    {
     "data": {
      "text/plain": [
       "(None,)"
      ]
     },
     "execution_count": 154,
     "metadata": {},
     "output_type": "execute_result"
    },
    {
     "name": "stdout",
     "output_type": "stream",
     "text": [
      "B0000CNU2Q\n"
     ]
    },
    {
     "data": {
      "text/plain": [
       "(None,)"
      ]
     },
     "execution_count": 154,
     "metadata": {},
     "output_type": "execute_result"
    },
    {
     "name": "stdout",
     "output_type": "stream",
     "text": [
      "B007NWH0NS\n"
     ]
    },
    {
     "data": {
      "text/plain": [
       "(None,)"
      ]
     },
     "execution_count": 154,
     "metadata": {},
     "output_type": "execute_result"
    },
    {
     "name": "stdout",
     "output_type": "stream",
     "text": [
      "B000FJEURA\n"
     ]
    },
    {
     "data": {
      "text/plain": [
       "(None,)"
      ]
     },
     "execution_count": 154,
     "metadata": {},
     "output_type": "execute_result"
    },
    {
     "name": "stdout",
     "output_type": "stream",
     "text": [
      "B000J3K9KO\n"
     ]
    },
    {
     "data": {
      "text/plain": [
       "(None,)"
      ]
     },
     "execution_count": 154,
     "metadata": {},
     "output_type": "execute_result"
    },
    {
     "name": "stdout",
     "output_type": "stream",
     "text": [
      "B000JSM1SM\n"
     ]
    },
    {
     "data": {
      "text/plain": [
       "(None,)"
      ]
     },
     "execution_count": 154,
     "metadata": {},
     "output_type": "execute_result"
    },
    {
     "name": "stdout",
     "output_type": "stream",
     "text": [
      "B001SAYK5W\n"
     ]
    },
    {
     "data": {
      "text/plain": [
       "(None,)"
      ]
     },
     "execution_count": 154,
     "metadata": {},
     "output_type": "execute_result"
    },
    {
     "name": "stdout",
     "output_type": "stream",
     "text": [
      "B000LKUYGE\n"
     ]
    },
    {
     "data": {
      "text/plain": [
       "(None,)"
      ]
     },
     "execution_count": 154,
     "metadata": {},
     "output_type": "execute_result"
    },
    {
     "name": "stdout",
     "output_type": "stream",
     "text": [
      "B0036VLZ3G\n"
     ]
    },
    {
     "data": {
      "text/plain": [
       "(None,)"
      ]
     },
     "execution_count": 154,
     "metadata": {},
     "output_type": "execute_result"
    },
    {
     "name": "stdout",
     "output_type": "stream",
     "text": [
      "B004R6BJ62\n"
     ]
    },
    {
     "data": {
      "text/plain": [
       "(None,)"
      ]
     },
     "execution_count": 154,
     "metadata": {},
     "output_type": "execute_result"
    },
    {
     "name": "stdout",
     "output_type": "stream",
     "text": [
      "B000L3Q46U\n"
     ]
    },
    {
     "data": {
      "text/plain": [
       "(None,)"
      ]
     },
     "execution_count": 154,
     "metadata": {},
     "output_type": "execute_result"
    },
    {
     "name": "stdout",
     "output_type": "stream",
     "text": [
      "B00004S1C6\n"
     ]
    },
    {
     "data": {
      "text/plain": [
       "(None,)"
      ]
     },
     "execution_count": 154,
     "metadata": {},
     "output_type": "execute_result"
    },
    {
     "name": "stdout",
     "output_type": "stream",
     "text": [
      "B002R8BTNK\n"
     ]
    },
    {
     "data": {
      "text/plain": [
       "(None,)"
      ]
     },
     "execution_count": 154,
     "metadata": {},
     "output_type": "execute_result"
    },
    {
     "name": "stdout",
     "output_type": "stream",
     "text": [
      "B0000CNU1X\n"
     ]
    },
    {
     "data": {
      "text/plain": [
       "(None,)"
      ]
     },
     "execution_count": 154,
     "metadata": {},
     "output_type": "execute_result"
    },
    {
     "name": "stdout",
     "output_type": "stream",
     "text": [
      "B000B7R6QI\n"
     ]
    },
    {
     "data": {
      "text/plain": [
       "(None,)"
      ]
     },
     "execution_count": 154,
     "metadata": {},
     "output_type": "execute_result"
    },
    {
     "name": "stdout",
     "output_type": "stream",
     "text": [
      "B0000D9N59\n"
     ]
    },
    {
     "data": {
      "text/plain": [
       "(None,)"
      ]
     },
     "execution_count": 154,
     "metadata": {},
     "output_type": "execute_result"
    },
    {
     "name": "stdout",
     "output_type": "stream",
     "text": [
      "B000E63L7O\n"
     ]
    },
    {
     "data": {
      "text/plain": [
       "(None,)"
      ]
     },
     "execution_count": 154,
     "metadata": {},
     "output_type": "execute_result"
    },
    {
     "name": "stdout",
     "output_type": "stream",
     "text": [
      "B007R900WA\n"
     ]
    },
    {
     "data": {
      "text/plain": [
       "(None,)"
      ]
     },
     "execution_count": 154,
     "metadata": {},
     "output_type": "execute_result"
    },
    {
     "name": "stdout",
     "output_type": "stream",
     "text": [
      "B00020UGNO\n"
     ]
    },
    {
     "data": {
      "text/plain": [
       "(None,)"
      ]
     },
     "execution_count": 154,
     "metadata": {},
     "output_type": "execute_result"
    },
    {
     "name": "stdout",
     "output_type": "stream",
     "text": [
      "B006XYUS5O\n"
     ]
    },
    {
     "data": {
      "text/plain": [
       "(None,)"
      ]
     },
     "execution_count": 154,
     "metadata": {},
     "output_type": "execute_result"
    },
    {
     "name": "stdout",
     "output_type": "stream",
     "text": [
      "B0013JQ1I2\n"
     ]
    },
    {
     "data": {
      "text/plain": [
       "(None,)"
      ]
     },
     "execution_count": 154,
     "metadata": {},
     "output_type": "execute_result"
    },
    {
     "name": "stdout",
     "output_type": "stream",
     "text": [
      "B0000DHWZH\n"
     ]
    },
    {
     "data": {
      "text/plain": [
       "(None,)"
      ]
     },
     "execution_count": 154,
     "metadata": {},
     "output_type": "execute_result"
    },
    {
     "name": "stdout",
     "output_type": "stream",
     "text": [
      "B0000D9N0Q\n"
     ]
    },
    {
     "data": {
      "text/plain": [
       "(None,)"
      ]
     },
     "execution_count": 154,
     "metadata": {},
     "output_type": "execute_result"
    },
    {
     "name": "stdout",
     "output_type": "stream",
     "text": [
      "B002DMXSUW\n"
     ]
    },
    {
     "data": {
      "text/plain": [
       "(None,)"
      ]
     },
     "execution_count": 154,
     "metadata": {},
     "output_type": "execute_result"
    },
    {
     "name": "stdout",
     "output_type": "stream",
     "text": [
      "B0000ZHZA8\n"
     ]
    },
    {
     "data": {
      "text/plain": [
       "(None,)"
      ]
     },
     "execution_count": 154,
     "metadata": {},
     "output_type": "execute_result"
    },
    {
     "name": "stdout",
     "output_type": "stream",
     "text": [
      "B000EDI2N0\n"
     ]
    },
    {
     "data": {
      "text/plain": [
       "(None,)"
      ]
     },
     "execution_count": 154,
     "metadata": {},
     "output_type": "execute_result"
    },
    {
     "name": "stdout",
     "output_type": "stream",
     "text": [
      "B0000DD8X6\n"
     ]
    },
    {
     "data": {
      "text/plain": [
       "(None,)"
      ]
     },
     "execution_count": 154,
     "metadata": {},
     "output_type": "execute_result"
    },
    {
     "name": "stdout",
     "output_type": "stream",
     "text": [
      "B008K9TIU6\n"
     ]
    },
    {
     "data": {
      "text/plain": [
       "(None,)"
      ]
     },
     "execution_count": 154,
     "metadata": {},
     "output_type": "execute_result"
    },
    {
     "name": "stdout",
     "output_type": "stream",
     "text": [
      "B000FI2VHM\n"
     ]
    },
    {
     "data": {
      "text/plain": [
       "(None,)"
      ]
     },
     "execution_count": 154,
     "metadata": {},
     "output_type": "execute_result"
    },
    {
     "name": "stdout",
     "output_type": "stream",
     "text": [
      "B000EVOSHG\n"
     ]
    },
    {
     "data": {
      "text/plain": [
       "(None,)"
      ]
     },
     "execution_count": 154,
     "metadata": {},
     "output_type": "execute_result"
    },
    {
     "name": "stdout",
     "output_type": "stream",
     "text": [
      "B000MD3O4O\n"
     ]
    },
    {
     "data": {
      "text/plain": [
       "(None,)"
      ]
     },
     "execution_count": 154,
     "metadata": {},
     "output_type": "execute_result"
    },
    {
     "name": "stdout",
     "output_type": "stream",
     "text": [
      "B001KWEZTO\n"
     ]
    },
    {
     "data": {
      "text/plain": [
       "(None,)"
      ]
     },
     "execution_count": 154,
     "metadata": {},
     "output_type": "execute_result"
    },
    {
     "name": "stdout",
     "output_type": "stream",
     "text": [
      "B007OY1UR2\n"
     ]
    },
    {
     "data": {
      "text/plain": [
       "(None,)"
      ]
     },
     "execution_count": 154,
     "metadata": {},
     "output_type": "execute_result"
    },
    {
     "name": "stdout",
     "output_type": "stream",
     "text": [
      "B000E65OJC\n"
     ]
    },
    {
     "data": {
      "text/plain": [
       "(None,)"
      ]
     },
     "execution_count": 154,
     "metadata": {},
     "output_type": "execute_result"
    },
    {
     "name": "stdout",
     "output_type": "stream",
     "text": [
      "B007NWJWCU\n"
     ]
    },
    {
     "data": {
      "text/plain": [
       "(None,)"
      ]
     },
     "execution_count": 154,
     "metadata": {},
     "output_type": "execute_result"
    },
    {
     "name": "stdout",
     "output_type": "stream",
     "text": [
      "B002IEU6NW\n"
     ]
    },
    {
     "data": {
      "text/plain": [
       "(None,)"
      ]
     },
     "execution_count": 154,
     "metadata": {},
     "output_type": "execute_result"
    },
    {
     "name": "stdout",
     "output_type": "stream",
     "text": [
      "B007NU5N1G\n"
     ]
    },
    {
     "data": {
      "text/plain": [
       "(None,)"
      ]
     },
     "execution_count": 154,
     "metadata": {},
     "output_type": "execute_result"
    },
    {
     "name": "stdout",
     "output_type": "stream",
     "text": [
      "B001M074LK\n"
     ]
    },
    {
     "data": {
      "text/plain": [
       "(None,)"
      ]
     },
     "execution_count": 154,
     "metadata": {},
     "output_type": "execute_result"
    },
    {
     "name": "stdout",
     "output_type": "stream",
     "text": [
      "B004GWSWCQ\n"
     ]
    },
    {
     "data": {
      "text/plain": [
       "(None,)"
      ]
     },
     "execution_count": 154,
     "metadata": {},
     "output_type": "execute_result"
    },
    {
     "name": "stdout",
     "output_type": "stream",
     "text": [
      "B004VLSUGK\n"
     ]
    },
    {
     "data": {
      "text/plain": [
       "(None,)"
      ]
     },
     "execution_count": 154,
     "metadata": {},
     "output_type": "execute_result"
    },
    {
     "name": "stdout",
     "output_type": "stream",
     "text": [
      "B0000DBN1O\n"
     ]
    },
    {
     "data": {
      "text/plain": [
       "(None,)"
      ]
     },
     "execution_count": 154,
     "metadata": {},
     "output_type": "execute_result"
    },
    {
     "name": "stdout",
     "output_type": "stream",
     "text": [
      "B0000DBN1H\n"
     ]
    },
    {
     "data": {
      "text/plain": [
       "(None,)"
      ]
     },
     "execution_count": 154,
     "metadata": {},
     "output_type": "execute_result"
    },
    {
     "name": "stdout",
     "output_type": "stream",
     "text": [
      "B0000TVUE6\n"
     ]
    },
    {
     "data": {
      "text/plain": [
       "(None,)"
      ]
     },
     "execution_count": 154,
     "metadata": {},
     "output_type": "execute_result"
    },
    {
     "name": "stdout",
     "output_type": "stream",
     "text": [
      "B001EO63A2\n"
     ]
    },
    {
     "data": {
      "text/plain": [
       "(None,)"
      ]
     },
     "execution_count": 154,
     "metadata": {},
     "output_type": "execute_result"
    },
    {
     "name": "stdout",
     "output_type": "stream",
     "text": [
      "B006FTBNF6\n"
     ]
    },
    {
     "data": {
      "text/plain": [
       "(None,)"
      ]
     },
     "execution_count": 154,
     "metadata": {},
     "output_type": "execute_result"
    },
    {
     "name": "stdout",
     "output_type": "stream",
     "text": [
      "B006XAU5C4\n"
     ]
    },
    {
     "data": {
      "text/plain": [
       "(None,)"
      ]
     },
     "execution_count": 154,
     "metadata": {},
     "output_type": "execute_result"
    },
    {
     "name": "stdout",
     "output_type": "stream",
     "text": [
      "B000BU5KHC\n"
     ]
    },
    {
     "data": {
      "text/plain": [
       "(None,)"
      ]
     },
     "execution_count": 154,
     "metadata": {},
     "output_type": "execute_result"
    },
    {
     "name": "stdout",
     "output_type": "stream",
     "text": [
      "B0070SGNS8\n"
     ]
    },
    {
     "data": {
      "text/plain": [
       "(None,)"
      ]
     },
     "execution_count": 154,
     "metadata": {},
     "output_type": "execute_result"
    },
    {
     "name": "stdout",
     "output_type": "stream",
     "text": [
      "B007NU7UEY\n"
     ]
    },
    {
     "data": {
      "text/plain": [
       "(None,)"
      ]
     },
     "execution_count": 154,
     "metadata": {},
     "output_type": "execute_result"
    },
    {
     "name": "stdout",
     "output_type": "stream",
     "text": [
      "B0019FEOJI\n"
     ]
    },
    {
     "data": {
      "text/plain": [
       "(None,)"
      ]
     },
     "execution_count": 154,
     "metadata": {},
     "output_type": "execute_result"
    },
    {
     "name": "stdout",
     "output_type": "stream",
     "text": [
      "B001FA1MOC\n"
     ]
    },
    {
     "data": {
      "text/plain": [
       "(None,)"
      ]
     },
     "execution_count": 154,
     "metadata": {},
     "output_type": "execute_result"
    },
    {
     "name": "stdout",
     "output_type": "stream",
     "text": [
      "B000EVOQNC\n"
     ]
    },
    {
     "data": {
      "text/plain": [
       "(None,)"
      ]
     },
     "execution_count": 154,
     "metadata": {},
     "output_type": "execute_result"
    },
    {
     "name": "stdout",
     "output_type": "stream",
     "text": [
      "B0021I6MWY\n"
     ]
    },
    {
     "data": {
      "text/plain": [
       "(None,)"
      ]
     },
     "execution_count": 154,
     "metadata": {},
     "output_type": "execute_result"
    },
    {
     "name": "stdout",
     "output_type": "stream",
     "text": [
      "B000AQJRWG\n"
     ]
    },
    {
     "data": {
      "text/plain": [
       "(None,)"
      ]
     },
     "execution_count": 154,
     "metadata": {},
     "output_type": "execute_result"
    },
    {
     "name": "stdout",
     "output_type": "stream",
     "text": [
      "B000EDBPQ6\n"
     ]
    },
    {
     "data": {
      "text/plain": [
       "(None,)"
      ]
     },
     "execution_count": 154,
     "metadata": {},
     "output_type": "execute_result"
    },
    {
     "name": "stdout",
     "output_type": "stream",
     "text": [
      "B004V3IO0U\n"
     ]
    },
    {
     "data": {
      "text/plain": [
       "(None,)"
      ]
     },
     "execution_count": 154,
     "metadata": {},
     "output_type": "execute_result"
    },
    {
     "name": "stdout",
     "output_type": "stream",
     "text": [
      "B007NU6MDO\n"
     ]
    },
    {
     "data": {
      "text/plain": [
       "(None,)"
      ]
     },
     "execution_count": 154,
     "metadata": {},
     "output_type": "execute_result"
    },
    {
     "name": "stdout",
     "output_type": "stream",
     "text": [
      "B000EDBQ6A\n"
     ]
    },
    {
     "data": {
      "text/plain": [
       "(None,)"
      ]
     },
     "execution_count": 154,
     "metadata": {},
     "output_type": "execute_result"
    },
    {
     "name": "stdout",
     "output_type": "stream",
     "text": [
      "B003R0MFSU\n"
     ]
    },
    {
     "data": {
      "text/plain": [
       "(None,)"
      ]
     },
     "execution_count": 154,
     "metadata": {},
     "output_type": "execute_result"
    },
    {
     "name": "stdout",
     "output_type": "stream",
     "text": [
      "B0068P605K\n"
     ]
    },
    {
     "data": {
      "text/plain": [
       "(None,)"
      ]
     },
     "execution_count": 154,
     "metadata": {},
     "output_type": "execute_result"
    },
    {
     "name": "stdout",
     "output_type": "stream",
     "text": [
      "B0000VZ0F4\n"
     ]
    },
    {
     "data": {
      "text/plain": [
       "(None,)"
      ]
     },
     "execution_count": 154,
     "metadata": {},
     "output_type": "execute_result"
    },
    {
     "name": "stdout",
     "output_type": "stream",
     "text": [
      "B001FA1LAC\n"
     ]
    },
    {
     "data": {
      "text/plain": [
       "(None,)"
      ]
     },
     "execution_count": 154,
     "metadata": {},
     "output_type": "execute_result"
    },
    {
     "name": "stdout",
     "output_type": "stream",
     "text": [
      "B00014VTNW\n"
     ]
    },
    {
     "data": {
      "text/plain": [
       "(None,)"
      ]
     },
     "execution_count": 154,
     "metadata": {},
     "output_type": "execute_result"
    },
    {
     "name": "stdout",
     "output_type": "stream",
     "text": [
      "B001G0MG00\n"
     ]
    },
    {
     "data": {
      "text/plain": [
       "(None,)"
      ]
     },
     "execution_count": 154,
     "metadata": {},
     "output_type": "execute_result"
    },
    {
     "name": "stdout",
     "output_type": "stream",
     "text": [
      "B000E671X4\n"
     ]
    },
    {
     "data": {
      "text/plain": [
       "(None,)"
      ]
     },
     "execution_count": 154,
     "metadata": {},
     "output_type": "execute_result"
    },
    {
     "name": "stdout",
     "output_type": "stream",
     "text": [
      "B00164X9SE\n"
     ]
    },
    {
     "data": {
      "text/plain": [
       "(None,)"
      ]
     },
     "execution_count": 154,
     "metadata": {},
     "output_type": "execute_result"
    },
    {
     "name": "stdout",
     "output_type": "stream",
     "text": [
      "B0005Z7PI0\n"
     ]
    },
    {
     "data": {
      "text/plain": [
       "(None,)"
      ]
     },
     "execution_count": 154,
     "metadata": {},
     "output_type": "execute_result"
    },
    {
     "name": "stdout",
     "output_type": "stream",
     "text": [
      "B001EO5U3I\n"
     ]
    },
    {
     "data": {
      "text/plain": [
       "(None,)"
      ]
     },
     "execution_count": 154,
     "metadata": {},
     "output_type": "execute_result"
    },
    {
     "name": "stdout",
     "output_type": "stream",
     "text": [
      "--------------------------------------------------------------------\n",
      "Based on  reviews, for user is  AZV26LP92E6WU\n",
      "The first similar user is  A2Y8IDC1FKGNJC .\n",
      "They like the following products\n",
      "B000F0BXCE\n"
     ]
    },
    {
     "data": {
      "text/plain": [
       "(None,)"
      ]
     },
     "execution_count": 154,
     "metadata": {},
     "output_type": "execute_result"
    },
    {
     "name": "stdout",
     "output_type": "stream",
     "text": [
      "B001EQ5L0I\n"
     ]
    },
    {
     "data": {
      "text/plain": [
       "(None,)"
      ]
     },
     "execution_count": 154,
     "metadata": {},
     "output_type": "execute_result"
    },
    {
     "name": "stdout",
     "output_type": "stream",
     "text": [
      "B000G82L62\n"
     ]
    },
    {
     "data": {
      "text/plain": [
       "(None,)"
      ]
     },
     "execution_count": 154,
     "metadata": {},
     "output_type": "execute_result"
    },
    {
     "name": "stdout",
     "output_type": "stream",
     "text": [
      "B000F0JOVG\n"
     ]
    },
    {
     "data": {
      "text/plain": [
       "(None,)"
      ]
     },
     "execution_count": 154,
     "metadata": {},
     "output_type": "execute_result"
    },
    {
     "name": "stdout",
     "output_type": "stream",
     "text": [
      "B000ILI60M\n"
     ]
    },
    {
     "data": {
      "text/plain": [
       "(None,)"
      ]
     },
     "execution_count": 154,
     "metadata": {},
     "output_type": "execute_result"
    },
    {
     "name": "stdout",
     "output_type": "stream",
     "text": [
      "B000K8XM2A\n"
     ]
    },
    {
     "data": {
      "text/plain": [
       "(None,)"
      ]
     },
     "execution_count": 154,
     "metadata": {},
     "output_type": "execute_result"
    },
    {
     "name": "stdout",
     "output_type": "stream",
     "text": [
      "B000EHZZPE\n"
     ]
    },
    {
     "data": {
      "text/plain": [
       "(None,)"
      ]
     },
     "execution_count": 154,
     "metadata": {},
     "output_type": "execute_result"
    },
    {
     "name": "stdout",
     "output_type": "stream",
     "text": [
      "B00141SPNI\n"
     ]
    },
    {
     "data": {
      "text/plain": [
       "(None,)"
      ]
     },
     "execution_count": 154,
     "metadata": {},
     "output_type": "execute_result"
    },
    {
     "name": "stdout",
     "output_type": "stream",
     "text": [
      "B000V9PGSG\n"
     ]
    },
    {
     "data": {
      "text/plain": [
       "(None,)"
      ]
     },
     "execution_count": 154,
     "metadata": {},
     "output_type": "execute_result"
    },
    {
     "name": "stdout",
     "output_type": "stream",
     "text": [
      "B000CQ01NS\n"
     ]
    },
    {
     "data": {
      "text/plain": [
       "(None,)"
      ]
     },
     "execution_count": 154,
     "metadata": {},
     "output_type": "execute_result"
    },
    {
     "name": "stdout",
     "output_type": "stream",
     "text": [
      "B000LKXJW0\n"
     ]
    },
    {
     "data": {
      "text/plain": [
       "(None,)"
      ]
     },
     "execution_count": 154,
     "metadata": {},
     "output_type": "execute_result"
    },
    {
     "name": "stdout",
     "output_type": "stream",
     "text": [
      "B001BM3KXU\n"
     ]
    },
    {
     "data": {
      "text/plain": [
       "(None,)"
      ]
     },
     "execution_count": 154,
     "metadata": {},
     "output_type": "execute_result"
    },
    {
     "name": "stdout",
     "output_type": "stream",
     "text": [
      "B001EQ5SGU\n"
     ]
    },
    {
     "data": {
      "text/plain": [
       "(None,)"
      ]
     },
     "execution_count": 154,
     "metadata": {},
     "output_type": "execute_result"
    },
    {
     "name": "stdout",
     "output_type": "stream",
     "text": [
      "B000NMJWZO\n"
     ]
    },
    {
     "data": {
      "text/plain": [
       "(None,)"
      ]
     },
     "execution_count": 154,
     "metadata": {},
     "output_type": "execute_result"
    },
    {
     "name": "stdout",
     "output_type": "stream",
     "text": [
      "B000UPALJ0\n"
     ]
    },
    {
     "data": {
      "text/plain": [
       "(None,)"
      ]
     },
     "execution_count": 154,
     "metadata": {},
     "output_type": "execute_result"
    },
    {
     "name": "stdout",
     "output_type": "stream",
     "text": [
      "B001EQ5CTS\n"
     ]
    },
    {
     "data": {
      "text/plain": [
       "(None,)"
      ]
     },
     "execution_count": 154,
     "metadata": {},
     "output_type": "execute_result"
    },
    {
     "name": "stdout",
     "output_type": "stream",
     "text": [
      "B001MUBY66\n"
     ]
    },
    {
     "data": {
      "text/plain": [
       "(None,)"
      ]
     },
     "execution_count": 154,
     "metadata": {},
     "output_type": "execute_result"
    },
    {
     "name": "stdout",
     "output_type": "stream",
     "text": [
      "B0012C0X3O\n"
     ]
    },
    {
     "data": {
      "text/plain": [
       "(None,)"
      ]
     },
     "execution_count": 154,
     "metadata": {},
     "output_type": "execute_result"
    },
    {
     "name": "stdout",
     "output_type": "stream",
     "text": [
      "B000SARZ46\n"
     ]
    },
    {
     "data": {
      "text/plain": [
       "(None,)"
      ]
     },
     "execution_count": 154,
     "metadata": {},
     "output_type": "execute_result"
    },
    {
     "name": "stdout",
     "output_type": "stream",
     "text": [
      "B001E5E1WS\n"
     ]
    },
    {
     "data": {
      "text/plain": [
       "(None,)"
      ]
     },
     "execution_count": 154,
     "metadata": {},
     "output_type": "execute_result"
    },
    {
     "name": "stdout",
     "output_type": "stream",
     "text": [
      "B000FMZMN8\n"
     ]
    },
    {
     "data": {
      "text/plain": [
       "(None,)"
      ]
     },
     "execution_count": 154,
     "metadata": {},
     "output_type": "execute_result"
    },
    {
     "name": "stdout",
     "output_type": "stream",
     "text": [
      "B00141OU50\n"
     ]
    },
    {
     "data": {
      "text/plain": [
       "(None,)"
      ]
     },
     "execution_count": 154,
     "metadata": {},
     "output_type": "execute_result"
    },
    {
     "name": "stdout",
     "output_type": "stream",
     "text": [
      "B000LKZLJY\n"
     ]
    },
    {
     "data": {
      "text/plain": [
       "(None,)"
      ]
     },
     "execution_count": 154,
     "metadata": {},
     "output_type": "execute_result"
    },
    {
     "name": "stdout",
     "output_type": "stream",
     "text": [
      "B001KUSLGY\n"
     ]
    },
    {
     "data": {
      "text/plain": [
       "(None,)"
      ]
     },
     "execution_count": 154,
     "metadata": {},
     "output_type": "execute_result"
    },
    {
     "name": "stdout",
     "output_type": "stream",
     "text": [
      "B0072EMLAO\n"
     ]
    },
    {
     "data": {
      "text/plain": [
       "(None,)"
      ]
     },
     "execution_count": 154,
     "metadata": {},
     "output_type": "execute_result"
    },
    {
     "name": "stdout",
     "output_type": "stream",
     "text": [
      "B001BM62T4\n"
     ]
    },
    {
     "data": {
      "text/plain": [
       "(None,)"
      ]
     },
     "execution_count": 154,
     "metadata": {},
     "output_type": "execute_result"
    },
    {
     "name": "stdout",
     "output_type": "stream",
     "text": [
      "B000VIOQNS\n"
     ]
    },
    {
     "data": {
      "text/plain": [
       "(None,)"
      ]
     },
     "execution_count": 154,
     "metadata": {},
     "output_type": "execute_result"
    },
    {
     "name": "stdout",
     "output_type": "stream",
     "text": [
      "B00141WFWK\n"
     ]
    },
    {
     "data": {
      "text/plain": [
       "(None,)"
      ]
     },
     "execution_count": 154,
     "metadata": {},
     "output_type": "execute_result"
    },
    {
     "name": "stdout",
     "output_type": "stream",
     "text": [
      "B00503DOWS\n"
     ]
    },
    {
     "data": {
      "text/plain": [
       "(None,)"
      ]
     },
     "execution_count": 154,
     "metadata": {},
     "output_type": "execute_result"
    },
    {
     "name": "stdout",
     "output_type": "stream",
     "text": [
      "B002AR158W\n"
     ]
    },
    {
     "data": {
      "text/plain": [
       "(None,)"
      ]
     },
     "execution_count": 154,
     "metadata": {},
     "output_type": "execute_result"
    },
    {
     "name": "stdout",
     "output_type": "stream",
     "text": [
      "B000G176AK\n"
     ]
    },
    {
     "data": {
      "text/plain": [
       "(None,)"
      ]
     },
     "execution_count": 154,
     "metadata": {},
     "output_type": "execute_result"
    },
    {
     "name": "stdout",
     "output_type": "stream",
     "text": [
      "B000LKTZNM\n"
     ]
    },
    {
     "data": {
      "text/plain": [
       "(None,)"
      ]
     },
     "execution_count": 154,
     "metadata": {},
     "output_type": "execute_result"
    },
    {
     "name": "stdout",
     "output_type": "stream",
     "text": [
      "B001CWU9E2\n"
     ]
    },
    {
     "data": {
      "text/plain": [
       "(None,)"
      ]
     },
     "execution_count": 154,
     "metadata": {},
     "output_type": "execute_result"
    },
    {
     "name": "stdout",
     "output_type": "stream",
     "text": [
      "B000GW67KY\n"
     ]
    },
    {
     "data": {
      "text/plain": [
       "(None,)"
      ]
     },
     "execution_count": 154,
     "metadata": {},
     "output_type": "execute_result"
    },
    {
     "name": "stdout",
     "output_type": "stream",
     "text": [
      "B001HTIS98\n"
     ]
    },
    {
     "data": {
      "text/plain": [
       "(None,)"
      ]
     },
     "execution_count": 154,
     "metadata": {},
     "output_type": "execute_result"
    },
    {
     "name": "stdout",
     "output_type": "stream",
     "text": [
      "B0017WG1J4\n"
     ]
    },
    {
     "data": {
      "text/plain": [
       "(None,)"
      ]
     },
     "execution_count": 154,
     "metadata": {},
     "output_type": "execute_result"
    },
    {
     "name": "stdout",
     "output_type": "stream",
     "text": [
      "B008ATDIDE\n"
     ]
    },
    {
     "data": {
      "text/plain": [
       "(None,)"
      ]
     },
     "execution_count": 154,
     "metadata": {},
     "output_type": "execute_result"
    },
    {
     "name": "stdout",
     "output_type": "stream",
     "text": [
      "B001E5E08I\n"
     ]
    },
    {
     "data": {
      "text/plain": [
       "(None,)"
      ]
     },
     "execution_count": 154,
     "metadata": {},
     "output_type": "execute_result"
    },
    {
     "name": "stdout",
     "output_type": "stream",
     "text": [
      "B000HDKZKU\n"
     ]
    },
    {
     "data": {
      "text/plain": [
       "(None,)"
      ]
     },
     "execution_count": 154,
     "metadata": {},
     "output_type": "execute_result"
    },
    {
     "name": "stdout",
     "output_type": "stream",
     "text": [
      "B001EQ4KGY\n"
     ]
    },
    {
     "data": {
      "text/plain": [
       "(None,)"
      ]
     },
     "execution_count": 154,
     "metadata": {},
     "output_type": "execute_result"
    },
    {
     "name": "stdout",
     "output_type": "stream",
     "text": [
      "B000EHNCZ4\n"
     ]
    },
    {
     "data": {
      "text/plain": [
       "(None,)"
      ]
     },
     "execution_count": 154,
     "metadata": {},
     "output_type": "execute_result"
    },
    {
     "name": "stdout",
     "output_type": "stream",
     "text": [
      "--------------------------------------------------------------------\n"
     ]
    }
   ],
   "source": [
    "#finding similar user and intereting products\n",
    "for i in range(lentest):\n",
    "    a = nbrs.kneighbors([df5_test[i]])\n",
    "    related_product_list = a[1]\n",
    "    \n",
    "    first_related_product = [item[0] for item in related_product_list]\n",
    "    first_related_product = str(first_related_product).strip('[]')\n",
    "    first_related_product = int(first_related_product)\n",
    "    second_related_product = [item[1] for item in related_product_list]\n",
    "    second_related_product = str(second_related_product).strip('[]')\n",
    "    second_related_product = int(second_related_product)\n",
    "    \n",
    "    print (\"Based on  reviews, for user is \", df3[\"UserId\"][lentrain + i])\n",
    "    print (\"The first similar user is \", df3[\"UserId\"][first_related_product], \".\") \n",
    "    print (\"They like the following products\")\n",
    "    for i in range(295743):\n",
    "        if (kkk[\"UserId\"][i] == df3[\"UserId\"][first_related_product]) & (kkk[\"Score\"][i] == 5):\n",
    "            aaa= kkk[\"ProductId\"][i]\n",
    "        \n",
    "            print (aaa),\n",
    "    print (\"--------------------------------------------------------------------\")"
   ]
  },
  {
   "cell_type": "markdown",
   "metadata": {},
   "source": [
    "# 2.c Predicting Review Score"
   ]
  },
  {
   "cell_type": "code",
   "execution_count": 35,
   "metadata": {},
   "outputs": [
    {
     "name": "stdout",
     "output_type": "stream",
     "text": [
      "Predicting review score for testset user are :  [3 4 4 4]\n",
      "              precision    recall  f1-score   support\n",
      "\n",
      "           3       0.00      0.00      0.00         0\n",
      "           4       1.00      0.75      0.86         4\n",
      "\n",
      "    accuracy                           0.75         4\n",
      "   macro avg       0.50      0.38      0.43         4\n",
      "weighted avg       1.00      0.75      0.86         4\n",
      "\n"
     ]
    },
    {
     "name": "stderr",
     "output_type": "stream",
     "text": [
      "/Users/sujaikarunakaran/anaconda3/lib/python3.7/site-packages/sklearn/metrics/classification.py:1439: UndefinedMetricWarning: Recall and F-score are ill-defined and being set to 0.0 in labels with no true samples.\n",
      "  'recall', 'true', average, warn_for)\n"
     ]
    }
   ],
   "source": [
    "df5_train_target = df3[\"Score\"][:lentrain]\n",
    "df5_test_target = df3[\"Score\"][lentrain:lentrain+lentest]\n",
    "df5_train_target = df5_train_target.astype(int)\n",
    "df5_test_target = df5_test_target.astype(int)\n",
    "\n",
    "n_neighbors = 3\n",
    "knnclf = neighbors.KNeighborsClassifier(n_neighbors, weights='distance')\n",
    "knnclf.fit(df5_train, df5_train_target)\n",
    "knnpreds_test = knnclf.predict(df5_test)\n",
    "print (\"Predicting review score for testset user are : \", knnpreds_test)\n",
    "\n",
    "print(classification_report(df5_test_target, knnpreds_test))"
   ]
  },
  {
   "cell_type": "markdown",
   "metadata": {},
   "source": [
    "# 3. Word correltation based on cluster"
   ]
  },
  {
   "cell_type": "code",
   "execution_count": 36,
   "metadata": {},
   "outputs": [],
   "source": [
    "cluster = df.groupby(\"Score\")[\"Summary\"].apply(list)"
   ]
  },
  {
   "cell_type": "code",
   "execution_count": 37,
   "metadata": {},
   "outputs": [],
   "source": [
    "cluster = pd.DataFrame(cluster)\n",
    "cluster.to_csv(\"cluster.csv\")\n",
    "cluster1 = pd.read_csv(\"cluster.csv\")"
   ]
  },
  {
   "cell_type": "code",
   "execution_count": 38,
   "metadata": {},
   "outputs": [],
   "source": [
    "cluster1[\"Summary_Clean\"] = cluster1[\"Summary\"].apply(cleanup)"
   ]
  },
  {
   "cell_type": "markdown",
   "metadata": {},
   "source": [
    "# 3.a World Clouding for Each Score Group"
   ]
  },
  {
   "cell_type": "code",
   "execution_count": 39,
   "metadata": {},
   "outputs": [],
   "source": [
    "stopwords = set(STOPWORDS)\n",
    "\n",
    "def show_wordcloud(data, title = None):\n",
    "    wordcloud = WordCloud(\n",
    "        background_color='white',\n",
    "        stopwords=stopwords,\n",
    "        max_words=500,\n",
    "        max_font_size=30, \n",
    "        scale=3,\n",
    "        random_state=1 # chosen at random by flipping a coin; it was heads\n",
    "    ).generate(str(data))\n",
    "    \n",
    "    fig = plt.figure(1, figsize=(8, 8))\n",
    "    plt.axis('off')\n",
    "    if title: \n",
    "        fig.suptitle(title, fontsize=20)\n",
    "        fig.subplots_adjust(top=2.3)\n",
    "\n",
    "    plt.imshow(wordcloud)\n",
    "    plt.show()"
   ]
  },
  {
   "cell_type": "code",
   "execution_count": 40,
   "metadata": {},
   "outputs": [
    {
     "data": {
      "image/png": "[encoded data removed]",
      "text/plain": [
       "<Figure size 576x576 with 1 Axes>"
      ]
     },
     "metadata": {
      "needs_background": "light"
     },
     "output_type": "display_data"
    }
   ],
   "source": [
    "show_wordcloud(cluster1[\"Summary_Clean\"][0], title = \"Review Score One\")"
   ]
  },
  {
   "cell_type": "markdown",
   "metadata": {},
   "source": [
    "# Somthing Different - Popularity based Recommendation"
   ]
  },
  {
   "cell_type": "code",
   "execution_count": 81,
   "metadata": {},
   "outputs": [
    {
     "name": "stderr",
     "output_type": "stream",
     "text": [
      "/Users/sujaikarunakaran/anaconda3/lib/python3.7/site-packages/sklearn/externals/joblib/__init__.py:15: DeprecationWarning: sklearn.externals.joblib is deprecated in 0.21 and will be removed in 0.23. Please import this functionality directly from joblib, which can be installed with: pip install joblib. If this warning is raised when loading pickled models, you may need to re-serialize those models with scikit-learn 0.21+.\n",
      "  warnings.warn(msg, category=DeprecationWarning)\n"
     ]
    }
   ],
   "source": [
    "\n",
    "import numpy as np # linear algebra\n",
    "import pandas as pd # data processing, CSV file I/O (e.g. pd.read_csv)\n",
    "import os\n",
    "from IPython.core.interactiveshell import InteractiveShell\n",
    "InteractiveShell.ast_node_interactivity = \"all\"\n",
    "import math\n",
    "import json\n",
    "import time\n",
    "import matplotlib.pyplot as plt\n",
    "import seaborn as sns\n",
    "from sklearn.metrics.pairwise import cosine_similarity\n",
    "from sklearn.model_selection import train_test_split\n",
    "from sklearn.neighbors import NearestNeighbors\n",
    "from sklearn.externals import joblib\n",
    "import scipy.sparse\n",
    "from scipy.sparse import csr_matrix\n",
    "from scipy.sparse.linalg import svds\n",
    "import warnings; warnings.simplefilter('ignore')\n",
    "%matplotlib inline\n",
    "\n",
    "for dirname, _, filenames in os.walk('/kaggle/input'):\n",
    "    for filename in filenames:\n",
    "        print(os.path.join(dirname, filename))\n",
    "\n",
    "# Any results you write to the current directory are saved as output."
   ]
  },
  {
   "cell_type": "code",
   "execution_count": 82,
   "metadata": {},
   "outputs": [
    {
     "data": {
      "text/plain": [
       "(568454, 10)"
      ]
     },
     "execution_count": 82,
     "metadata": {},
     "output_type": "execute_result"
    }
   ],
   "source": [
    "df.shape"
   ]
  },
  {
   "cell_type": "code",
   "execution_count": 84,
   "metadata": {},
   "outputs": [
    {
     "data": {
      "text/plain": [
       "count    568454.000000\n",
       "mean          4.183199\n",
       "std           1.310436\n",
       "min           1.000000\n",
       "25%           4.000000\n",
       "50%           5.000000\n",
       "75%           5.000000\n",
       "max           5.000000\n",
       "Name: Score, dtype: float64"
      ]
     },
     "execution_count": 84,
     "metadata": {},
     "output_type": "execute_result"
    }
   ],
   "source": [
    "#Five point summary \n",
    "\n",
    "df.describe()['Score'].T"
   ]
  },
  {
   "cell_type": "code",
   "execution_count": 87,
   "metadata": {},
   "outputs": [
    {
     "name": "stdout",
     "output_type": "stream",
     "text": [
      "Minimum rating is: 1\n",
      "Maximum rating is: 5\n"
     ]
    }
   ],
   "source": [
    "#Find the minimum and maximum ratings\n",
    "print('Minimum rating is: %d' %(df.Score.min()))\n",
    "print('Maximum rating is: %d' %(df.Score.max()))"
   ]
  },
  {
   "cell_type": "code",
   "execution_count": 96,
   "metadata": {},
   "outputs": [
    {
     "name": "stdout",
     "output_type": "stream",
     "text": [
      "Number of missing values across columns: \n",
      " Id           0\n",
      "ProductId    0\n",
      "UserId       0\n",
      "Score        0\n",
      "dtype: int64\n"
     ]
    }
   ],
   "source": [
    "#Check for missing values\n",
    "print('Number of missing values across columns: \\n',df.isnull().sum())"
   ]
  },
  {
   "cell_type": "code",
   "execution_count": 89,
   "metadata": {},
   "outputs": [
    {
     "name": "stderr",
     "output_type": "stream",
     "text": [
      "Matplotlib is building the font cache using fc-list. This may take a moment.\n"
     ]
    },
    {
     "data": {
      "text/plain": [
       "<seaborn.axisgrid.FacetGrid at 0x1a2ba63630>"
      ]
     },
     "execution_count": 89,
     "metadata": {},
     "output_type": "execute_result"
    },
    {
     "data": {
      "image/png": "[encoded data removed]",
      "text/plain": [
       "<Figure size 720x360 with 1 Axes>"
      ]
     },
     "metadata": {},
     "output_type": "display_data"
    }
   ],
   "source": [
    "# Check the distribution of the rating\n",
    "with sns.axes_style('white'):\n",
    "    g = sns.factorplot(\"Score\", data=df, aspect=2.0,kind='count')\n",
    "    g.set_ylabels(\"Total number of ratings\")"
   ]
  },
  {
   "cell_type": "code",
   "execution_count": 91,
   "metadata": {},
   "outputs": [
    {
     "name": "stdout",
     "output_type": "stream",
     "text": [
      "Total data \n",
      "--------------------------------------------------\n",
      "\n",
      "Total no of ratings : 568454\n",
      "Total No of Users   : 256059\n",
      "Total No of products  : 74258\n"
     ]
    }
   ],
   "source": [
    "print(\"Total data \")\n",
    "print(\"-\"*50)\n",
    "print(\"\\nTotal no of ratings :\",df.shape[0])\n",
    "print(\"Total No of Users   :\", len(np.unique(df.UserId)))\n",
    "print(\"Total No of products  :\", len(np.unique(df.ProductId)))"
   ]
  },
  {
   "cell_type": "code",
   "execution_count": 95,
   "metadata": {
    "scrolled": true
   },
   "outputs": [
    {
     "ename": "KeyError",
     "evalue": "\"['ProfileName' 'HelpfulnessNumerator' 'HelpfulnessDenominator' 'Time'\\n 'Summary' 'Text'] not found in axis\"",
     "output_type": "error",
     "traceback": [
      "\u001b[0;31m---------------------------------------------------------------------------\u001b[0m",
      "\u001b[0;31mKeyError\u001b[0m                                  Traceback (most recent call last)",
      "\u001b[0;32m<ipython-input-95-a1eddf6b8370>\u001b[0m in \u001b[0;36m<module>\u001b[0;34m\u001b[0m\n\u001b[1;32m      1\u001b[0m \u001b[0;31m#Dropping the Timestamp column\u001b[0m\u001b[0;34m\u001b[0m\u001b[0;34m\u001b[0m\u001b[0;34m\u001b[0m\u001b[0m\n\u001b[1;32m      2\u001b[0m \u001b[0;34m\u001b[0m\u001b[0m\n\u001b[0;32m----> 3\u001b[0;31m \u001b[0mdf\u001b[0m\u001b[0;34m.\u001b[0m\u001b[0mdrop\u001b[0m\u001b[0;34m(\u001b[0m\u001b[0;34m[\u001b[0m\u001b[0;34m'ProfileName'\u001b[0m\u001b[0;34m,\u001b[0m \u001b[0;34m'HelpfulnessNumerator'\u001b[0m\u001b[0;34m,\u001b[0m \u001b[0;34m'HelpfulnessDenominator'\u001b[0m\u001b[0;34m,\u001b[0m \u001b[0;34m'Time'\u001b[0m\u001b[0;34m,\u001b[0m \u001b[0;34m'Summary'\u001b[0m\u001b[0;34m,\u001b[0m \u001b[0;34m'Text'\u001b[0m\u001b[0;34m]\u001b[0m\u001b[0;34m,\u001b[0m \u001b[0maxis\u001b[0m\u001b[0;34m=\u001b[0m\u001b[0;36m1\u001b[0m\u001b[0;34m,\u001b[0m\u001b[0minplace\u001b[0m\u001b[0;34m=\u001b[0m\u001b[0;32mTrue\u001b[0m\u001b[0;34m)\u001b[0m\u001b[0;34m\u001b[0m\u001b[0;34m\u001b[0m\u001b[0m\n\u001b[0m",
      "\u001b[0;32m~/anaconda3/lib/python3.7/site-packages/pandas/core/frame.py\u001b[0m in \u001b[0;36mdrop\u001b[0;34m(self, labels, axis, index, columns, level, inplace, errors)\u001b[0m\n\u001b[1;32m   3938\u001b[0m                                            \u001b[0mindex\u001b[0m\u001b[0;34m=\u001b[0m\u001b[0mindex\u001b[0m\u001b[0;34m,\u001b[0m \u001b[0mcolumns\u001b[0m\u001b[0;34m=\u001b[0m\u001b[0mcolumns\u001b[0m\u001b[0;34m,\u001b[0m\u001b[0;34m\u001b[0m\u001b[0;34m\u001b[0m\u001b[0m\n\u001b[1;32m   3939\u001b[0m                                            \u001b[0mlevel\u001b[0m\u001b[0;34m=\u001b[0m\u001b[0mlevel\u001b[0m\u001b[0;34m,\u001b[0m \u001b[0minplace\u001b[0m\u001b[0;34m=\u001b[0m\u001b[0minplace\u001b[0m\u001b[0;34m,\u001b[0m\u001b[0;34m\u001b[0m\u001b[0;34m\u001b[0m\u001b[0m\n\u001b[0;32m-> 3940\u001b[0;31m                                            errors=errors)\n\u001b[0m\u001b[1;32m   3941\u001b[0m \u001b[0;34m\u001b[0m\u001b[0m\n\u001b[1;32m   3942\u001b[0m     @rewrite_axis_style_signature('mapper', [('copy', True),\n",
      "\u001b[0;32m~/anaconda3/lib/python3.7/site-packages/pandas/core/generic.py\u001b[0m in \u001b[0;36mdrop\u001b[0;34m(self, labels, axis, index, columns, level, inplace, errors)\u001b[0m\n\u001b[1;32m   3778\u001b[0m         \u001b[0;32mfor\u001b[0m \u001b[0maxis\u001b[0m\u001b[0;34m,\u001b[0m \u001b[0mlabels\u001b[0m \u001b[0;32min\u001b[0m \u001b[0maxes\u001b[0m\u001b[0;34m.\u001b[0m\u001b[0mitems\u001b[0m\u001b[0;34m(\u001b[0m\u001b[0;34m)\u001b[0m\u001b[0;34m:\u001b[0m\u001b[0;34m\u001b[0m\u001b[0;34m\u001b[0m\u001b[0m\n\u001b[1;32m   3779\u001b[0m             \u001b[0;32mif\u001b[0m \u001b[0mlabels\u001b[0m \u001b[0;32mis\u001b[0m \u001b[0;32mnot\u001b[0m \u001b[0;32mNone\u001b[0m\u001b[0;34m:\u001b[0m\u001b[0;34m\u001b[0m\u001b[0;34m\u001b[0m\u001b[0m\n\u001b[0;32m-> 3780\u001b[0;31m                 \u001b[0mobj\u001b[0m \u001b[0;34m=\u001b[0m \u001b[0mobj\u001b[0m\u001b[0;34m.\u001b[0m\u001b[0m_drop_axis\u001b[0m\u001b[0;34m(\u001b[0m\u001b[0mlabels\u001b[0m\u001b[0;34m,\u001b[0m \u001b[0maxis\u001b[0m\u001b[0;34m,\u001b[0m \u001b[0mlevel\u001b[0m\u001b[0;34m=\u001b[0m\u001b[0mlevel\u001b[0m\u001b[0;34m,\u001b[0m \u001b[0merrors\u001b[0m\u001b[0;34m=\u001b[0m\u001b[0merrors\u001b[0m\u001b[0;34m)\u001b[0m\u001b[0;34m\u001b[0m\u001b[0;34m\u001b[0m\u001b[0m\n\u001b[0m\u001b[1;32m   3781\u001b[0m \u001b[0;34m\u001b[0m\u001b[0m\n\u001b[1;32m   3782\u001b[0m         \u001b[0;32mif\u001b[0m \u001b[0minplace\u001b[0m\u001b[0;34m:\u001b[0m\u001b[0;34m\u001b[0m\u001b[0;34m\u001b[0m\u001b[0m\n",
      "\u001b[0;32m~/anaconda3/lib/python3.7/site-packages/pandas/core/generic.py\u001b[0m in \u001b[0;36m_drop_axis\u001b[0;34m(self, labels, axis, level, errors)\u001b[0m\n\u001b[1;32m   3810\u001b[0m                 \u001b[0mnew_axis\u001b[0m \u001b[0;34m=\u001b[0m \u001b[0maxis\u001b[0m\u001b[0;34m.\u001b[0m\u001b[0mdrop\u001b[0m\u001b[0;34m(\u001b[0m\u001b[0mlabels\u001b[0m\u001b[0;34m,\u001b[0m \u001b[0mlevel\u001b[0m\u001b[0;34m=\u001b[0m\u001b[0mlevel\u001b[0m\u001b[0;34m,\u001b[0m \u001b[0merrors\u001b[0m\u001b[0;34m=\u001b[0m\u001b[0merrors\u001b[0m\u001b[0;34m)\u001b[0m\u001b[0;34m\u001b[0m\u001b[0;34m\u001b[0m\u001b[0m\n\u001b[1;32m   3811\u001b[0m             \u001b[0;32melse\u001b[0m\u001b[0;34m:\u001b[0m\u001b[0;34m\u001b[0m\u001b[0;34m\u001b[0m\u001b[0m\n\u001b[0;32m-> 3812\u001b[0;31m                 \u001b[0mnew_axis\u001b[0m \u001b[0;34m=\u001b[0m \u001b[0maxis\u001b[0m\u001b[0;34m.\u001b[0m\u001b[0mdrop\u001b[0m\u001b[0;34m(\u001b[0m\u001b[0mlabels\u001b[0m\u001b[0;34m,\u001b[0m \u001b[0merrors\u001b[0m\u001b[0;34m=\u001b[0m\u001b[0merrors\u001b[0m\u001b[0;34m)\u001b[0m\u001b[0;34m\u001b[0m\u001b[0;34m\u001b[0m\u001b[0m\n\u001b[0m\u001b[1;32m   3813\u001b[0m             \u001b[0mresult\u001b[0m \u001b[0;34m=\u001b[0m \u001b[0mself\u001b[0m\u001b[0;34m.\u001b[0m\u001b[0mreindex\u001b[0m\u001b[0;34m(\u001b[0m\u001b[0;34m**\u001b[0m\u001b[0;34m{\u001b[0m\u001b[0maxis_name\u001b[0m\u001b[0;34m:\u001b[0m \u001b[0mnew_axis\u001b[0m\u001b[0;34m}\u001b[0m\u001b[0;34m)\u001b[0m\u001b[0;34m\u001b[0m\u001b[0;34m\u001b[0m\u001b[0m\n\u001b[1;32m   3814\u001b[0m \u001b[0;34m\u001b[0m\u001b[0m\n",
      "\u001b[0;32m~/anaconda3/lib/python3.7/site-packages/pandas/core/indexes/base.py\u001b[0m in \u001b[0;36mdrop\u001b[0;34m(self, labels, errors)\u001b[0m\n\u001b[1;32m   4963\u001b[0m             \u001b[0;32mif\u001b[0m \u001b[0merrors\u001b[0m \u001b[0;34m!=\u001b[0m \u001b[0;34m'ignore'\u001b[0m\u001b[0;34m:\u001b[0m\u001b[0;34m\u001b[0m\u001b[0;34m\u001b[0m\u001b[0m\n\u001b[1;32m   4964\u001b[0m                 raise KeyError(\n\u001b[0;32m-> 4965\u001b[0;31m                     '{} not found in axis'.format(labels[mask]))\n\u001b[0m\u001b[1;32m   4966\u001b[0m             \u001b[0mindexer\u001b[0m \u001b[0;34m=\u001b[0m \u001b[0mindexer\u001b[0m\u001b[0;34m[\u001b[0m\u001b[0;34m~\u001b[0m\u001b[0mmask\u001b[0m\u001b[0;34m]\u001b[0m\u001b[0;34m\u001b[0m\u001b[0;34m\u001b[0m\u001b[0m\n\u001b[1;32m   4967\u001b[0m         \u001b[0;32mreturn\u001b[0m \u001b[0mself\u001b[0m\u001b[0;34m.\u001b[0m\u001b[0mdelete\u001b[0m\u001b[0;34m(\u001b[0m\u001b[0mindexer\u001b[0m\u001b[0;34m)\u001b[0m\u001b[0;34m\u001b[0m\u001b[0;34m\u001b[0m\u001b[0m\n",
      "\u001b[0;31mKeyError\u001b[0m: \"['ProfileName' 'HelpfulnessNumerator' 'HelpfulnessDenominator' 'Time'\\n 'Summary' 'Text'] not found in axis\""
     ]
    }
   ],
   "source": [
    "#Dropping the Timestamp column\n",
    "\n",
    "df.drop(['ProfileName', 'HelpfulnessNumerator', 'HelpfulnessDenominator', 'Time', 'Summary', 'Text'], axis=1,inplace=True)"
   ]
  },
  {
   "cell_type": "code",
   "execution_count": 97,
   "metadata": {},
   "outputs": [
    {
     "data": {
      "text/plain": [
       "UserId\n",
       "A3OXHLG6DIBRW8    448\n",
       "A1YUL9PCJR3JTY    421\n",
       "AY12DBB0U420B     389\n",
       "A281NPSIMI1C2R    365\n",
       "A1Z54EM24Y40LL    256\n",
       "Name: Score, dtype: int64"
      ]
     },
     "execution_count": 97,
     "metadata": {},
     "output_type": "execute_result"
    }
   ],
   "source": [
    "#Analysis of rating given by the user \n",
    "\n",
    "no_of_rated_products_per_user = df.groupby(by='UserId')['Score'].count().sort_values(ascending=False)\n",
    "\n",
    "no_of_rated_products_per_user.head()"
   ]
  },
  {
   "cell_type": "code",
   "execution_count": 98,
   "metadata": {},
   "outputs": [
    {
     "data": {
      "text/plain": [
       "count    256059.000000\n",
       "mean          2.220012\n",
       "std           4.443361\n",
       "min           1.000000\n",
       "25%           1.000000\n",
       "50%           1.000000\n",
       "75%           2.000000\n",
       "max         448.000000\n",
       "Name: Score, dtype: float64"
      ]
     },
     "execution_count": 98,
     "metadata": {},
     "output_type": "execute_result"
    }
   ],
   "source": [
    "no_of_rated_products_per_user.describe()"
   ]
  },
  {
   "cell_type": "code",
   "execution_count": 99,
   "metadata": {},
   "outputs": [],
   "source": [
    "quantiles = no_of_rated_products_per_user.quantile(np.arange(0,1.01,0.01), interpolation='higher')"
   ]
  },
  {
   "cell_type": "code",
   "execution_count": 100,
   "metadata": {},
   "outputs": [
    {
     "data": {
      "text/plain": [
       "<Figure size 720x720 with 0 Axes>"
      ]
     },
     "execution_count": 100,
     "metadata": {},
     "output_type": "execute_result"
    },
    {
     "data": {
      "text/plain": [
       "Text(0.5, 1.0, 'Quantiles and their Values')"
      ]
     },
     "execution_count": 100,
     "metadata": {},
     "output_type": "execute_result"
    },
    {
     "data": {
      "text/plain": [
       "<matplotlib.axes._subplots.AxesSubplot at 0x1a4916a358>"
      ]
     },
     "execution_count": 100,
     "metadata": {},
     "output_type": "execute_result"
    },
    {
     "data": {
      "text/plain": [
       "<matplotlib.collections.PathCollection at 0x1a478954e0>"
      ]
     },
     "execution_count": 100,
     "metadata": {},
     "output_type": "execute_result"
    },
    {
     "data": {
      "text/plain": [
       "<matplotlib.collections.PathCollection at 0x1a47853b00>"
      ]
     },
     "execution_count": 100,
     "metadata": {},
     "output_type": "execute_result"
    },
    {
     "data": {
      "text/plain": [
       "Text(0, 0.5, 'No of ratings by user')"
      ]
     },
     "execution_count": 100,
     "metadata": {},
     "output_type": "execute_result"
    },
    {
     "data": {
      "text/plain": [
       "Text(0.5, 0, 'Value at the quantile')"
      ]
     },
     "execution_count": 100,
     "metadata": {},
     "output_type": "execute_result"
    },
    {
     "data": {
      "text/plain": [
       "<matplotlib.legend.Legend at 0x1a47853e80>"
      ]
     },
     "execution_count": 100,
     "metadata": {},
     "output_type": "execute_result"
    },
    {
     "data": {
      "image/png": "[encoded data removed]",
      "text/plain": [
       "<Figure size 720x720 with 1 Axes>"
      ]
     },
     "metadata": {
      "needs_background": "light"
     },
     "output_type": "display_data"
    }
   ],
   "source": [
    "plt.figure(figsize=(10,10))\n",
    "plt.title(\"Quantiles and their Values\")\n",
    "quantiles.plot()\n",
    "# quantiles with 0.05 difference\n",
    "plt.scatter(x=quantiles.index[::5], y=quantiles.values[::5], c='orange', label=\"quantiles with 0.05 intervals\")\n",
    "# quantiles with 0.25 difference\n",
    "plt.scatter(x=quantiles.index[::25], y=quantiles.values[::25], c='m', label = \"quantiles with 0.25 intervals\")\n",
    "plt.ylabel('No of ratings by user')\n",
    "plt.xlabel('Value at the quantile')\n",
    "plt.legend(loc='best')\n",
    "plt.show()"
   ]
  },
  {
   "cell_type": "code",
   "execution_count": 101,
   "metadata": {},
   "outputs": [
    {
     "name": "stdout",
     "output_type": "stream",
     "text": [
      "\n",
      " No of rated product more than 50 per user : 267\n",
      "\n"
     ]
    }
   ],
   "source": [
    "print('\\n No of rated product more than 50 per user : {}\\n'.format(sum(no_of_rated_products_per_user >= 50)) )"
   ]
  },
  {
   "cell_type": "code",
   "execution_count": 104,
   "metadata": {},
   "outputs": [],
   "source": [
    "#Getting the new dataframe which contains users who has given 50 or more ratings\n",
    "\n",
    "new_df=df.groupby(\"ProductId\").filter(lambda x:x['Score'].count() >=50)"
   ]
  },
  {
   "cell_type": "code",
   "execution_count": 105,
   "metadata": {},
   "outputs": [
    {
     "data": {
      "text/plain": [
       "[<matplotlib.lines.Line2D at 0x1a4766edd8>]"
      ]
     },
     "execution_count": 105,
     "metadata": {},
     "output_type": "execute_result"
    },
    {
     "data": {
      "text/plain": [
       "Text(0.5, 1.0, '# RATINGS per Product')"
      ]
     },
     "execution_count": 105,
     "metadata": {},
     "output_type": "execute_result"
    },
    {
     "data": {
      "text/plain": [
       "Text(0.5, 0, 'Product')"
      ]
     },
     "execution_count": 105,
     "metadata": {},
     "output_type": "execute_result"
    },
    {
     "data": {
      "text/plain": [
       "Text(0, 0.5, 'No of ratings per product')"
      ]
     },
     "execution_count": 105,
     "metadata": {},
     "output_type": "execute_result"
    },
    {
     "data": {
      "text/plain": [
       "[]"
      ]
     },
     "execution_count": 105,
     "metadata": {},
     "output_type": "execute_result"
    },
    {
     "data": {
      "image/png": "[encoded data removed]",
      "text/plain": [
       "<Figure size 576x288 with 1 Axes>"
      ]
     },
     "metadata": {
      "needs_background": "light"
     },
     "output_type": "display_data"
    }
   ],
   "source": [
    "no_of_ratings_per_product = new_df.groupby(by='ProductId')['Score'].count().sort_values(ascending=False)\n",
    "\n",
    "fig = plt.figure(figsize=plt.figaspect(.5))\n",
    "ax = plt.gca()\n",
    "plt.plot(no_of_ratings_per_product.values)\n",
    "plt.title('# RATINGS per Product')\n",
    "plt.xlabel('Product')\n",
    "plt.ylabel('No of ratings per product')\n",
    "ax.set_xticklabels([])\n",
    "\n",
    "plt.show()"
   ]
  },
  {
   "cell_type": "code",
   "execution_count": 106,
   "metadata": {},
   "outputs": [
    {
     "data": {
      "text/plain": [
       "ProductId\n",
       "7310172001    4.751445\n",
       "7310172101    4.751445\n",
       "B00004CI84    4.486772\n",
       "B00004CXX9    4.405128\n",
       "B00004RAMY    4.104651\n",
       "Name: Score, dtype: float64"
      ]
     },
     "execution_count": 106,
     "metadata": {},
     "output_type": "execute_result"
    }
   ],
   "source": [
    "#Average rating of the product \n",
    "\n",
    "new_df.groupby('ProductId')['Score'].mean().head()"
   ]
  },
  {
   "cell_type": "code",
   "execution_count": 107,
   "metadata": {},
   "outputs": [
    {
     "data": {
      "text/plain": [
       "ProductId\n",
       "B000ED9L9E    4.973451\n",
       "B000O5DI1E    4.906542\n",
       "B001E6GFKI    4.887500\n",
       "B000NMJWZO    4.881919\n",
       "B0044MTGHI    4.880000\n",
       "Name: Score, dtype: float64"
      ]
     },
     "execution_count": 107,
     "metadata": {},
     "output_type": "execute_result"
    }
   ],
   "source": [
    "new_df.groupby('ProductId')['Score'].mean().sort_values(ascending=False).head()"
   ]
  },
  {
   "cell_type": "code",
   "execution_count": 108,
   "metadata": {},
   "outputs": [
    {
     "data": {
      "text/plain": [
       "ProductId\n",
       "B007JFMH8M    913\n",
       "B0026RQTGE    632\n",
       "B002QWHJOU    632\n",
       "B002QWP89S    632\n",
       "B002QWP8H0    632\n",
       "Name: Score, dtype: int64"
      ]
     },
     "execution_count": 108,
     "metadata": {},
     "output_type": "execute_result"
    }
   ],
   "source": [
    "#Total no of rating for product\n",
    "\n",
    "new_df.groupby('ProductId')['Score'].count().sort_values(ascending=False).head()"
   ]
  },
  {
   "cell_type": "code",
   "execution_count": 109,
   "metadata": {},
   "outputs": [],
   "source": [
    "ratings_mean_count = pd.DataFrame(new_df.groupby('ProductId')['Score'].mean())"
   ]
  },
  {
   "cell_type": "code",
   "execution_count": 110,
   "metadata": {},
   "outputs": [],
   "source": [
    "ratings_mean_count['rating_counts'] = pd.DataFrame(new_df.groupby('ProductId')['Score'].count())"
   ]
  },
  {
   "cell_type": "code",
   "execution_count": 111,
   "metadata": {},
   "outputs": [
    {
     "data": {
      "text/html": [
       "<div>\n",
       "<style scoped>\n",
       "    .dataframe tbody tr th:only-of-type {\n",
       "        vertical-align: middle;\n",
       "    }\n",
       "\n",
       "    .dataframe tbody tr th {\n",
       "        vertical-align: top;\n",
       "    }\n",
       "\n",
       "    .dataframe thead th {\n",
       "        text-align: right;\n",
       "    }\n",
       "</style>\n",
       "<table border=\"1\" class=\"dataframe\">\n",
       "  <thead>\n",
       "    <tr style=\"text-align: right;\">\n",
       "      <th></th>\n",
       "      <th>Score</th>\n",
       "      <th>rating_counts</th>\n",
       "    </tr>\n",
       "    <tr>\n",
       "      <th>ProductId</th>\n",
       "      <th></th>\n",
       "      <th></th>\n",
       "    </tr>\n",
       "  </thead>\n",
       "  <tbody>\n",
       "    <tr>\n",
       "      <th>7310172001</th>\n",
       "      <td>4.751445</td>\n",
       "      <td>173</td>\n",
       "    </tr>\n",
       "    <tr>\n",
       "      <th>7310172101</th>\n",
       "      <td>4.751445</td>\n",
       "      <td>173</td>\n",
       "    </tr>\n",
       "    <tr>\n",
       "      <th>B00004CI84</th>\n",
       "      <td>4.486772</td>\n",
       "      <td>189</td>\n",
       "    </tr>\n",
       "    <tr>\n",
       "      <th>B00004CXX9</th>\n",
       "      <td>4.405128</td>\n",
       "      <td>195</td>\n",
       "    </tr>\n",
       "    <tr>\n",
       "      <th>B00004RAMY</th>\n",
       "      <td>4.104651</td>\n",
       "      <td>172</td>\n",
       "    </tr>\n",
       "  </tbody>\n",
       "</table>\n",
       "</div>"
      ],
      "text/plain": [
       "               Score  rating_counts\n",
       "ProductId                          \n",
       "7310172001  4.751445            173\n",
       "7310172101  4.751445            173\n",
       "B00004CI84  4.486772            189\n",
       "B00004CXX9  4.405128            195\n",
       "B00004RAMY  4.104651            172"
      ]
     },
     "execution_count": 111,
     "metadata": {},
     "output_type": "execute_result"
    }
   ],
   "source": [
    "ratings_mean_count.head()"
   ]
  },
  {
   "cell_type": "code",
   "execution_count": 112,
   "metadata": {},
   "outputs": [
    {
     "data": {
      "text/plain": [
       "<Figure size 576x432 with 0 Axes>"
      ]
     },
     "execution_count": 112,
     "metadata": {},
     "output_type": "execute_result"
    },
    {
     "data": {
      "text/plain": [
       "<matplotlib.axes._subplots.AxesSubplot at 0x1a28417da0>"
      ]
     },
     "execution_count": 112,
     "metadata": {},
     "output_type": "execute_result"
    },
    {
     "data": {
      "image/png": "[encoded data removed]",
      "text/plain": [
       "<Figure size 576x432 with 1 Axes>"
      ]
     },
     "metadata": {
      "needs_background": "light"
     },
     "output_type": "display_data"
    }
   ],
   "source": [
    "plt.figure(figsize=(8,6))\n",
    "plt.rcParams['patch.force_edgecolor'] = True\n",
    "ratings_mean_count['rating_counts'].hist(bins=50)"
   ]
  },
  {
   "cell_type": "code",
   "execution_count": 114,
   "metadata": {},
   "outputs": [
    {
     "data": {
      "text/plain": [
       "<Figure size 576x432 with 0 Axes>"
      ]
     },
     "execution_count": 114,
     "metadata": {},
     "output_type": "execute_result"
    },
    {
     "data": {
      "text/plain": [
       "<matplotlib.axes._subplots.AxesSubplot at 0x1a387a5d30>"
      ]
     },
     "execution_count": 114,
     "metadata": {},
     "output_type": "execute_result"
    },
    {
     "data": {
      "image/png": "[encoded data removed]",
      "text/plain": [
       "<Figure size 576x432 with 1 Axes>"
      ]
     },
     "metadata": {
      "needs_background": "light"
     },
     "output_type": "display_data"
    }
   ],
   "source": [
    "plt.figure(figsize=(8,6))\n",
    "plt.rcParams['patch.force_edgecolor'] = True\n",
    "ratings_mean_count['Score'].hist(bins=50)"
   ]
  },
  {
   "cell_type": "code",
   "execution_count": 116,
   "metadata": {},
   "outputs": [
    {
     "data": {
      "text/plain": [
       "<Figure size 576x432 with 0 Axes>"
      ]
     },
     "execution_count": 116,
     "metadata": {},
     "output_type": "execute_result"
    },
    {
     "data": {
      "text/plain": [
       "<seaborn.axisgrid.JointGrid at 0x1a19b557f0>"
      ]
     },
     "execution_count": 116,
     "metadata": {},
     "output_type": "execute_result"
    },
    {
     "data": {
      "text/plain": [
       "<Figure size 576x432 with 0 Axes>"
      ]
     },
     "metadata": {},
     "output_type": "display_data"
    },
    {
     "data": {
      "image/png": "[encoded data removed]",
      "text/plain": [
       "<Figure size 432x432 with 3 Axes>"
      ]
     },
     "metadata": {
      "needs_background": "light"
     },
     "output_type": "display_data"
    }
   ],
   "source": [
    "plt.figure(figsize=(8,6))\n",
    "plt.rcParams['patch.force_edgecolor'] = True\n",
    "sns.jointplot(x='Score', y='rating_counts', data=ratings_mean_count, alpha=0.4)"
   ]
  },
  {
   "cell_type": "code",
   "execution_count": 117,
   "metadata": {},
   "outputs": [
    {
     "data": {
      "text/plain": [
       "<matplotlib.axes._subplots.AxesSubplot at 0x1a48c34978>"
      ]
     },
     "execution_count": 117,
     "metadata": {},
     "output_type": "execute_result"
    },
    {
     "data": {
      "image/png": "[encoded data removed]",
      "text/plain": [
       "<Figure size 432x288 with 1 Axes>"
      ]
     },
     "metadata": {
      "needs_background": "light"
     },
     "output_type": "display_data"
    }
   ],
   "source": [
    "popular_products = pd.DataFrame(new_df.groupby('ProductId')['Score'].count())\n",
    "most_popular = popular_products.sort_values('Score', ascending=False)\n",
    "most_popular.head(30).plot(kind = \"bar\")"
   ]
  },
  {
   "cell_type": "markdown",
   "metadata": {},
   "source": [
    "# Model-based collaborative filtering system"
   ]
  },
  {
   "cell_type": "code",
   "execution_count": 121,
   "metadata": {},
   "outputs": [
    {
     "data": {
      "text/html": [
       "<div>\n",
       "<style scoped>\n",
       "    .dataframe tbody tr th:only-of-type {\n",
       "        vertical-align: middle;\n",
       "    }\n",
       "\n",
       "    .dataframe tbody tr th {\n",
       "        vertical-align: top;\n",
       "    }\n",
       "\n",
       "    .dataframe thead th {\n",
       "        text-align: right;\n",
       "    }\n",
       "</style>\n",
       "<table border=\"1\" class=\"dataframe\">\n",
       "  <thead>\n",
       "    <tr style=\"text-align: right;\">\n",
       "      <th>ProductId</th>\n",
       "      <th>7310172001</th>\n",
       "      <th>7310172101</th>\n",
       "      <th>B00004CI84</th>\n",
       "      <th>B00004CXX9</th>\n",
       "      <th>B00004RAMY</th>\n",
       "      <th>B00004RBDU</th>\n",
       "      <th>B00004RBDZ</th>\n",
       "      <th>B00004RYGX</th>\n",
       "      <th>B00004S1C6</th>\n",
       "      <th>B00005C2M2</th>\n",
       "      <th>...</th>\n",
       "      <th>B0095KATS4</th>\n",
       "      <th>B0096EZHM2</th>\n",
       "      <th>B0098WV8F2</th>\n",
       "      <th>B009AFH6Y4</th>\n",
       "      <th>B009AFJ3I6</th>\n",
       "      <th>B009B87SAC</th>\n",
       "      <th>B009E7YC54</th>\n",
       "      <th>B009GHI5Q4</th>\n",
       "      <th>B009M2LUEW</th>\n",
       "      <th>B009RB4GO4</th>\n",
       "    </tr>\n",
       "    <tr>\n",
       "      <th>UserId</th>\n",
       "      <th></th>\n",
       "      <th></th>\n",
       "      <th></th>\n",
       "      <th></th>\n",
       "      <th></th>\n",
       "      <th></th>\n",
       "      <th></th>\n",
       "      <th></th>\n",
       "      <th></th>\n",
       "      <th></th>\n",
       "      <th></th>\n",
       "      <th></th>\n",
       "      <th></th>\n",
       "      <th></th>\n",
       "      <th></th>\n",
       "      <th></th>\n",
       "      <th></th>\n",
       "      <th></th>\n",
       "      <th></th>\n",
       "      <th></th>\n",
       "      <th></th>\n",
       "    </tr>\n",
       "  </thead>\n",
       "  <tbody>\n",
       "    <tr>\n",
       "      <th>#oc-R103C0QSV1DF5E</th>\n",
       "      <td>0.0</td>\n",
       "      <td>0.0</td>\n",
       "      <td>0.0</td>\n",
       "      <td>0.0</td>\n",
       "      <td>0</td>\n",
       "      <td>0</td>\n",
       "      <td>0</td>\n",
       "      <td>0.0</td>\n",
       "      <td>0</td>\n",
       "      <td>0</td>\n",
       "      <td>...</td>\n",
       "      <td>0</td>\n",
       "      <td>0</td>\n",
       "      <td>0</td>\n",
       "      <td>0</td>\n",
       "      <td>0</td>\n",
       "      <td>0.0</td>\n",
       "      <td>0</td>\n",
       "      <td>0.0</td>\n",
       "      <td>0</td>\n",
       "      <td>0.0</td>\n",
       "    </tr>\n",
       "    <tr>\n",
       "      <th>#oc-R109MU5OBBZ59U</th>\n",
       "      <td>0.0</td>\n",
       "      <td>0.0</td>\n",
       "      <td>0.0</td>\n",
       "      <td>0.0</td>\n",
       "      <td>0</td>\n",
       "      <td>0</td>\n",
       "      <td>0</td>\n",
       "      <td>0.0</td>\n",
       "      <td>0</td>\n",
       "      <td>0</td>\n",
       "      <td>...</td>\n",
       "      <td>0</td>\n",
       "      <td>0</td>\n",
       "      <td>0</td>\n",
       "      <td>0</td>\n",
       "      <td>0</td>\n",
       "      <td>0.0</td>\n",
       "      <td>0</td>\n",
       "      <td>0.0</td>\n",
       "      <td>0</td>\n",
       "      <td>0.0</td>\n",
       "    </tr>\n",
       "    <tr>\n",
       "      <th>#oc-R10LFEMQEW6QGZ</th>\n",
       "      <td>0.0</td>\n",
       "      <td>0.0</td>\n",
       "      <td>0.0</td>\n",
       "      <td>0.0</td>\n",
       "      <td>0</td>\n",
       "      <td>0</td>\n",
       "      <td>0</td>\n",
       "      <td>0.0</td>\n",
       "      <td>0</td>\n",
       "      <td>0</td>\n",
       "      <td>...</td>\n",
       "      <td>0</td>\n",
       "      <td>0</td>\n",
       "      <td>0</td>\n",
       "      <td>0</td>\n",
       "      <td>0</td>\n",
       "      <td>0.0</td>\n",
       "      <td>0</td>\n",
       "      <td>0.0</td>\n",
       "      <td>0</td>\n",
       "      <td>0.0</td>\n",
       "    </tr>\n",
       "    <tr>\n",
       "      <th>#oc-R10UA029WVWIUI</th>\n",
       "      <td>0.0</td>\n",
       "      <td>0.0</td>\n",
       "      <td>0.0</td>\n",
       "      <td>0.0</td>\n",
       "      <td>0</td>\n",
       "      <td>0</td>\n",
       "      <td>0</td>\n",
       "      <td>0.0</td>\n",
       "      <td>0</td>\n",
       "      <td>0</td>\n",
       "      <td>...</td>\n",
       "      <td>0</td>\n",
       "      <td>0</td>\n",
       "      <td>0</td>\n",
       "      <td>0</td>\n",
       "      <td>0</td>\n",
       "      <td>0.0</td>\n",
       "      <td>0</td>\n",
       "      <td>0.0</td>\n",
       "      <td>0</td>\n",
       "      <td>0.0</td>\n",
       "    </tr>\n",
       "    <tr>\n",
       "      <th>#oc-R115TNMSPFT9I7</th>\n",
       "      <td>0.0</td>\n",
       "      <td>0.0</td>\n",
       "      <td>0.0</td>\n",
       "      <td>0.0</td>\n",
       "      <td>0</td>\n",
       "      <td>0</td>\n",
       "      <td>0</td>\n",
       "      <td>0.0</td>\n",
       "      <td>0</td>\n",
       "      <td>0</td>\n",
       "      <td>...</td>\n",
       "      <td>0</td>\n",
       "      <td>0</td>\n",
       "      <td>0</td>\n",
       "      <td>0</td>\n",
       "      <td>0</td>\n",
       "      <td>0.0</td>\n",
       "      <td>0</td>\n",
       "      <td>0.0</td>\n",
       "      <td>0</td>\n",
       "      <td>0.0</td>\n",
       "    </tr>\n",
       "  </tbody>\n",
       "</table>\n",
       "<p>5 rows × 1844 columns</p>\n",
       "</div>"
      ],
      "text/plain": [
       "ProductId           7310172001  7310172101  B00004CI84  B00004CXX9  \\\n",
       "UserId                                                               \n",
       "#oc-R103C0QSV1DF5E         0.0         0.0         0.0         0.0   \n",
       "#oc-R109MU5OBBZ59U         0.0         0.0         0.0         0.0   \n",
       "#oc-R10LFEMQEW6QGZ         0.0         0.0         0.0         0.0   \n",
       "#oc-R10UA029WVWIUI         0.0         0.0         0.0         0.0   \n",
       "#oc-R115TNMSPFT9I7         0.0         0.0         0.0         0.0   \n",
       "\n",
       "ProductId           B00004RAMY  B00004RBDU  B00004RBDZ  B00004RYGX  \\\n",
       "UserId                                                               \n",
       "#oc-R103C0QSV1DF5E           0           0           0         0.0   \n",
       "#oc-R109MU5OBBZ59U           0           0           0         0.0   \n",
       "#oc-R10LFEMQEW6QGZ           0           0           0         0.0   \n",
       "#oc-R10UA029WVWIUI           0           0           0         0.0   \n",
       "#oc-R115TNMSPFT9I7           0           0           0         0.0   \n",
       "\n",
       "ProductId           B00004S1C6  B00005C2M2  ...  B0095KATS4  B0096EZHM2  \\\n",
       "UserId                                      ...                           \n",
       "#oc-R103C0QSV1DF5E           0           0  ...           0           0   \n",
       "#oc-R109MU5OBBZ59U           0           0  ...           0           0   \n",
       "#oc-R10LFEMQEW6QGZ           0           0  ...           0           0   \n",
       "#oc-R10UA029WVWIUI           0           0  ...           0           0   \n",
       "#oc-R115TNMSPFT9I7           0           0  ...           0           0   \n",
       "\n",
       "ProductId           B0098WV8F2  B009AFH6Y4  B009AFJ3I6  B009B87SAC  \\\n",
       "UserId                                                               \n",
       "#oc-R103C0QSV1DF5E           0           0           0         0.0   \n",
       "#oc-R109MU5OBBZ59U           0           0           0         0.0   \n",
       "#oc-R10LFEMQEW6QGZ           0           0           0         0.0   \n",
       "#oc-R10UA029WVWIUI           0           0           0         0.0   \n",
       "#oc-R115TNMSPFT9I7           0           0           0         0.0   \n",
       "\n",
       "ProductId           B009E7YC54  B009GHI5Q4  B009M2LUEW  B009RB4GO4  \n",
       "UserId                                                              \n",
       "#oc-R103C0QSV1DF5E           0         0.0           0         0.0  \n",
       "#oc-R109MU5OBBZ59U           0         0.0           0         0.0  \n",
       "#oc-R10LFEMQEW6QGZ           0         0.0           0         0.0  \n",
       "#oc-R10UA029WVWIUI           0         0.0           0         0.0  \n",
       "#oc-R115TNMSPFT9I7           0         0.0           0         0.0  \n",
       "\n",
       "[5 rows x 1844 columns]"
      ]
     },
     "execution_count": 121,
     "metadata": {},
     "output_type": "execute_result"
    }
   ],
   "source": [
    "new_df1=new_df\n",
    "ratings_matrix = new_df1.pivot_table(values='Score', index='UserId', columns='ProductId', fill_value=0)\n",
    "ratings_matrix.head()"
   ]
  },
  {
   "cell_type": "code",
   "execution_count": 122,
   "metadata": {},
   "outputs": [
    {
     "data": {
      "text/html": [
       "<div>\n",
       "<style scoped>\n",
       "    .dataframe tbody tr th:only-of-type {\n",
       "        vertical-align: middle;\n",
       "    }\n",
       "\n",
       "    .dataframe tbody tr th {\n",
       "        vertical-align: top;\n",
       "    }\n",
       "\n",
       "    .dataframe thead th {\n",
       "        text-align: right;\n",
       "    }\n",
       "</style>\n",
       "<table border=\"1\" class=\"dataframe\">\n",
       "  <thead>\n",
       "    <tr style=\"text-align: right;\">\n",
       "      <th>UserId</th>\n",
       "      <th>#oc-R103C0QSV1DF5E</th>\n",
       "      <th>#oc-R109MU5OBBZ59U</th>\n",
       "      <th>#oc-R10LFEMQEW6QGZ</th>\n",
       "      <th>#oc-R10UA029WVWIUI</th>\n",
       "      <th>#oc-R115TNMSPFT9I7</th>\n",
       "      <th>#oc-R11D9D7SHXIJB9</th>\n",
       "      <th>#oc-R11D9LKDAN5NQJ</th>\n",
       "      <th>#oc-R11DNU2NBKQ23Z</th>\n",
       "      <th>#oc-R11O5J5ZVQE25C</th>\n",
       "      <th>#oc-R11PW3CFBB4BEP</th>\n",
       "      <th>...</th>\n",
       "      <th>AZZMO52V8WZ68</th>\n",
       "      <th>AZZNK89PXD006</th>\n",
       "      <th>AZZRBWCZF6FQE</th>\n",
       "      <th>AZZRFMUO60L7J</th>\n",
       "      <th>AZZSCO5M3BTZ1</th>\n",
       "      <th>AZZTH6DJ0KSIP</th>\n",
       "      <th>AZZU1VEO8KUXH</th>\n",
       "      <th>AZZU5BA2CHYVF</th>\n",
       "      <th>AZZV61COVM8CA</th>\n",
       "      <th>AZZVNIMTTMJH6</th>\n",
       "    </tr>\n",
       "    <tr>\n",
       "      <th>ProductId</th>\n",
       "      <th></th>\n",
       "      <th></th>\n",
       "      <th></th>\n",
       "      <th></th>\n",
       "      <th></th>\n",
       "      <th></th>\n",
       "      <th></th>\n",
       "      <th></th>\n",
       "      <th></th>\n",
       "      <th></th>\n",
       "      <th></th>\n",
       "      <th></th>\n",
       "      <th></th>\n",
       "      <th></th>\n",
       "      <th></th>\n",
       "      <th></th>\n",
       "      <th></th>\n",
       "      <th></th>\n",
       "      <th></th>\n",
       "      <th></th>\n",
       "      <th></th>\n",
       "    </tr>\n",
       "  </thead>\n",
       "  <tbody>\n",
       "    <tr>\n",
       "      <th>7310172001</th>\n",
       "      <td>0.0</td>\n",
       "      <td>0.0</td>\n",
       "      <td>0.0</td>\n",
       "      <td>0.0</td>\n",
       "      <td>0.0</td>\n",
       "      <td>0.0</td>\n",
       "      <td>0.0</td>\n",
       "      <td>0.0</td>\n",
       "      <td>0.0</td>\n",
       "      <td>0.0</td>\n",
       "      <td>...</td>\n",
       "      <td>0.0</td>\n",
       "      <td>0.0</td>\n",
       "      <td>0.0</td>\n",
       "      <td>0.0</td>\n",
       "      <td>0.0</td>\n",
       "      <td>0.0</td>\n",
       "      <td>0.0</td>\n",
       "      <td>0.0</td>\n",
       "      <td>0.0</td>\n",
       "      <td>0.0</td>\n",
       "    </tr>\n",
       "    <tr>\n",
       "      <th>7310172101</th>\n",
       "      <td>0.0</td>\n",
       "      <td>0.0</td>\n",
       "      <td>0.0</td>\n",
       "      <td>0.0</td>\n",
       "      <td>0.0</td>\n",
       "      <td>0.0</td>\n",
       "      <td>0.0</td>\n",
       "      <td>0.0</td>\n",
       "      <td>0.0</td>\n",
       "      <td>0.0</td>\n",
       "      <td>...</td>\n",
       "      <td>0.0</td>\n",
       "      <td>0.0</td>\n",
       "      <td>0.0</td>\n",
       "      <td>0.0</td>\n",
       "      <td>0.0</td>\n",
       "      <td>0.0</td>\n",
       "      <td>0.0</td>\n",
       "      <td>0.0</td>\n",
       "      <td>0.0</td>\n",
       "      <td>0.0</td>\n",
       "    </tr>\n",
       "    <tr>\n",
       "      <th>B00004CI84</th>\n",
       "      <td>0.0</td>\n",
       "      <td>0.0</td>\n",
       "      <td>0.0</td>\n",
       "      <td>0.0</td>\n",
       "      <td>0.0</td>\n",
       "      <td>0.0</td>\n",
       "      <td>0.0</td>\n",
       "      <td>0.0</td>\n",
       "      <td>0.0</td>\n",
       "      <td>0.0</td>\n",
       "      <td>...</td>\n",
       "      <td>0.0</td>\n",
       "      <td>0.0</td>\n",
       "      <td>0.0</td>\n",
       "      <td>0.0</td>\n",
       "      <td>0.0</td>\n",
       "      <td>0.0</td>\n",
       "      <td>0.0</td>\n",
       "      <td>0.0</td>\n",
       "      <td>0.0</td>\n",
       "      <td>0.0</td>\n",
       "    </tr>\n",
       "    <tr>\n",
       "      <th>B00004CXX9</th>\n",
       "      <td>0.0</td>\n",
       "      <td>0.0</td>\n",
       "      <td>0.0</td>\n",
       "      <td>0.0</td>\n",
       "      <td>0.0</td>\n",
       "      <td>0.0</td>\n",
       "      <td>0.0</td>\n",
       "      <td>0.0</td>\n",
       "      <td>0.0</td>\n",
       "      <td>0.0</td>\n",
       "      <td>...</td>\n",
       "      <td>0.0</td>\n",
       "      <td>0.0</td>\n",
       "      <td>0.0</td>\n",
       "      <td>0.0</td>\n",
       "      <td>0.0</td>\n",
       "      <td>0.0</td>\n",
       "      <td>0.0</td>\n",
       "      <td>0.0</td>\n",
       "      <td>0.0</td>\n",
       "      <td>0.0</td>\n",
       "    </tr>\n",
       "    <tr>\n",
       "      <th>B00004RAMY</th>\n",
       "      <td>0.0</td>\n",
       "      <td>0.0</td>\n",
       "      <td>0.0</td>\n",
       "      <td>0.0</td>\n",
       "      <td>0.0</td>\n",
       "      <td>0.0</td>\n",
       "      <td>0.0</td>\n",
       "      <td>0.0</td>\n",
       "      <td>0.0</td>\n",
       "      <td>0.0</td>\n",
       "      <td>...</td>\n",
       "      <td>0.0</td>\n",
       "      <td>0.0</td>\n",
       "      <td>0.0</td>\n",
       "      <td>0.0</td>\n",
       "      <td>0.0</td>\n",
       "      <td>0.0</td>\n",
       "      <td>0.0</td>\n",
       "      <td>0.0</td>\n",
       "      <td>0.0</td>\n",
       "      <td>0.0</td>\n",
       "    </tr>\n",
       "  </tbody>\n",
       "</table>\n",
       "<p>5 rows × 78768 columns</p>\n",
       "</div>"
      ],
      "text/plain": [
       "UserId      #oc-R103C0QSV1DF5E  #oc-R109MU5OBBZ59U  #oc-R10LFEMQEW6QGZ  \\\n",
       "ProductId                                                                \n",
       "7310172001                 0.0                 0.0                 0.0   \n",
       "7310172101                 0.0                 0.0                 0.0   \n",
       "B00004CI84                 0.0                 0.0                 0.0   \n",
       "B00004CXX9                 0.0                 0.0                 0.0   \n",
       "B00004RAMY                 0.0                 0.0                 0.0   \n",
       "\n",
       "UserId      #oc-R10UA029WVWIUI  #oc-R115TNMSPFT9I7  #oc-R11D9D7SHXIJB9  \\\n",
       "ProductId                                                                \n",
       "7310172001                 0.0                 0.0                 0.0   \n",
       "7310172101                 0.0                 0.0                 0.0   \n",
       "B00004CI84                 0.0                 0.0                 0.0   \n",
       "B00004CXX9                 0.0                 0.0                 0.0   \n",
       "B00004RAMY                 0.0                 0.0                 0.0   \n",
       "\n",
       "UserId      #oc-R11D9LKDAN5NQJ  #oc-R11DNU2NBKQ23Z  #oc-R11O5J5ZVQE25C  \\\n",
       "ProductId                                                                \n",
       "7310172001                 0.0                 0.0                 0.0   \n",
       "7310172101                 0.0                 0.0                 0.0   \n",
       "B00004CI84                 0.0                 0.0                 0.0   \n",
       "B00004CXX9                 0.0                 0.0                 0.0   \n",
       "B00004RAMY                 0.0                 0.0                 0.0   \n",
       "\n",
       "UserId      #oc-R11PW3CFBB4BEP  ...  AZZMO52V8WZ68  AZZNK89PXD006  \\\n",
       "ProductId                       ...                                 \n",
       "7310172001                 0.0  ...            0.0            0.0   \n",
       "7310172101                 0.0  ...            0.0            0.0   \n",
       "B00004CI84                 0.0  ...            0.0            0.0   \n",
       "B00004CXX9                 0.0  ...            0.0            0.0   \n",
       "B00004RAMY                 0.0  ...            0.0            0.0   \n",
       "\n",
       "UserId      AZZRBWCZF6FQE  AZZRFMUO60L7J  AZZSCO5M3BTZ1  AZZTH6DJ0KSIP  \\\n",
       "ProductId                                                                \n",
       "7310172001            0.0            0.0            0.0            0.0   \n",
       "7310172101            0.0            0.0            0.0            0.0   \n",
       "B00004CI84            0.0            0.0            0.0            0.0   \n",
       "B00004CXX9            0.0            0.0            0.0            0.0   \n",
       "B00004RAMY            0.0            0.0            0.0            0.0   \n",
       "\n",
       "UserId      AZZU1VEO8KUXH  AZZU5BA2CHYVF  AZZV61COVM8CA  AZZVNIMTTMJH6  \n",
       "ProductId                                                               \n",
       "7310172001            0.0            0.0            0.0            0.0  \n",
       "7310172101            0.0            0.0            0.0            0.0  \n",
       "B00004CI84            0.0            0.0            0.0            0.0  \n",
       "B00004CXX9            0.0            0.0            0.0            0.0  \n",
       "B00004RAMY            0.0            0.0            0.0            0.0  \n",
       "\n",
       "[5 rows x 78768 columns]"
      ]
     },
     "execution_count": 122,
     "metadata": {},
     "output_type": "execute_result"
    }
   ],
   "source": [
    "X = ratings_matrix.T\n",
    "X.head()"
   ]
  },
  {
   "cell_type": "code",
   "execution_count": 123,
   "metadata": {},
   "outputs": [],
   "source": [
    "X1 = X"
   ]
  },
  {
   "cell_type": "code",
   "execution_count": 124,
   "metadata": {},
   "outputs": [
    {
     "data": {
      "text/plain": [
       "(1844, 10)"
      ]
     },
     "execution_count": 124,
     "metadata": {},
     "output_type": "execute_result"
    }
   ],
   "source": [
    "#Decomposing the Matrix\n",
    "from sklearn.decomposition import TruncatedSVD\n",
    "SVD = TruncatedSVD(n_components=10)\n",
    "decomposed_matrix = SVD.fit_transform(X)\n",
    "decomposed_matrix.shape"
   ]
  },
  {
   "cell_type": "code",
   "execution_count": 125,
   "metadata": {},
   "outputs": [
    {
     "data": {
      "text/plain": [
       "(1844, 1844)"
      ]
     },
     "execution_count": 125,
     "metadata": {},
     "output_type": "execute_result"
    }
   ],
   "source": [
    "#Correlation Matrix\n",
    "\n",
    "correlation_matrix = np.corrcoef(decomposed_matrix)\n",
    "correlation_matrix.shape"
   ]
  },
  {
   "cell_type": "code",
   "execution_count": 130,
   "metadata": {},
   "outputs": [
    {
     "data": {
      "text/plain": [
       "'B0006Z7NOK'"
      ]
     },
     "execution_count": 130,
     "metadata": {},
     "output_type": "execute_result"
    }
   ],
   "source": [
    "X.index[76]"
   ]
  },
  {
   "cell_type": "code",
   "execution_count": 131,
   "metadata": {},
   "outputs": [
    {
     "data": {
      "text/plain": [
       "76"
      ]
     },
     "execution_count": 131,
     "metadata": {},
     "output_type": "execute_result"
    }
   ],
   "source": [
    "i = \"B0006Z7NOK\"\n",
    "\n",
    "product_names = list(X.index)\n",
    "product_ID = product_names.index(i)\n",
    "product_ID"
   ]
  },
  {
   "cell_type": "code",
   "execution_count": 133,
   "metadata": {},
   "outputs": [
    {
     "data": {
      "text/plain": [
       "(1844,)"
      ]
     },
     "execution_count": 133,
     "metadata": {},
     "output_type": "execute_result"
    }
   ],
   "source": [
    "correlation_product_ID = correlation_matrix[product_ID]\n",
    "correlation_product_ID.shape"
   ]
  },
  {
   "cell_type": "code",
   "execution_count": 134,
   "metadata": {},
   "outputs": [
    {
     "data": {
      "text/plain": [
       "['B00064VQNU',\n",
       " 'B00064VQO4',\n",
       " 'B000FFLHU2',\n",
       " 'B000OQ2DJQ',\n",
       " 'B000OQ2DL4',\n",
       " 'B000WV153I',\n",
       " 'B000WVY4PE',\n",
       " 'B000WVYB8Y',\n",
       " 'B00112EUPM',\n",
       " 'B00125ZCWI',\n",
       " 'B0018CIPS8',\n",
       " 'B0019QT66I',\n",
       " 'B001CGTN1I',\n",
       " 'B001E0TBA0',\n",
       " 'B001E18K8S',\n",
       " 'B001L4JH5I',\n",
       " 'B002AQL00G',\n",
       " 'B002LN1ME2',\n",
       " 'B0038AXN30',\n",
       " 'B0038B1EOY',\n",
       " 'B0038B39E2',\n",
       " 'B003B3OOPA',\n",
       " 'B003SSWCJI']"
      ]
     },
     "execution_count": 134,
     "metadata": {},
     "output_type": "execute_result"
    }
   ],
   "source": [
    "Recommend = list(X.index[correlation_product_ID > 0.65])\n",
    "\n",
    "# Removes the item already bought by the customer\n",
    "Recommend.remove(i) \n",
    "\n",
    "Recommend[0:24]"
   ]
  },
  {
   "cell_type": "markdown",
   "metadata": {},
   "source": [
    "# Item Based Collaborative filtering"
   ]
  },
  {
   "cell_type": "code",
   "execution_count": 166,
   "metadata": {},
   "outputs": [
    {
     "name": "stdout",
     "output_type": "stream",
     "text": [
      "/bin/sh: apt-get: command not found\r\n"
     ]
    }
   ],
   "source": [
    "!apt-get install openjdk-8-jdk-headless -qq > /dev/null\n",
    "!wget -q https://downloads.apache.org/spark/spark-2.4.5/spark-2.4.5-bin-hadoop2.7.tgz\n",
    "!tar xf spark-2.4.5-bin-hadoop2.7.tgz\n",
    "!pip install -q findspark"
   ]
  },
  {
   "cell_type": "code",
   "execution_count": null,
   "metadata": {},
   "outputs": [],
   "source": [
    "!pip install -q findspark\n",
    "import os\n",
    "os.environ[\"JAVA_HOME\"] = \"/usr/lib/jvm/java-8-openjdk-amd64\"\n",
    "os.environ[\"SPARK_HOME\"] = \"/content/spark-2.4.5-bin-hadoop2.7\""
   ]
  },
  {
   "cell_type": "code",
   "execution_count": null,
   "metadata": {},
   "outputs": [],
   "source": [
    "import findspark\n",
    "findspark.init()\n",
    "from pyspark.sql import SparkSession\n",
    "spark = SparkSession.builder.master(\"local[*]\").getOrCreate()"
   ]
  },
  {
   "cell_type": "code",
   "execution_count": null,
   "metadata": {},
   "outputs": [],
   "source": [
    "from pyspark.ml.evaluation import RegressionEvaluator\n",
    "from pyspark.ml.recommendation import ALS\n",
    "from pyspark.ml.tuning import TrainValidationSplit, ParamGridBuilder\n",
    "from pyspark.sql import Row"
   ]
  },
  {
   "cell_type": "markdown",
   "metadata": {},
   "source": [
    "# Item based"
   ]
  },
  {
   "cell_type": "code",
   "execution_count": 235,
   "metadata": {},
   "outputs": [],
   "source": [
    "df = pd.read_csv(\"/Users/sujaikarunakaran/Downloads/amazon-fine-food-reviews/Reviews copy.csv\")"
   ]
  },
  {
   "cell_type": "code",
   "execution_count": 236,
   "metadata": {},
   "outputs": [],
   "source": [
    "class Recommender:\n",
    "    def __init__(self, strategy = 'user', neighbours = 10):\n",
    "        self.strategy = strategy\n",
    "        self.num_neighbours = neighbours\n",
    "        if strategy is 'user':\n",
    "            self.columns = ['User_' + str(index) for index in range(1, self.num_neighbours + 1)]\n",
    "        elif strategy is 'item':\n",
    "            self.columns = ['Item_' + str(index) for index in range(1, self.num_neighbours + 1)]\n",
    "        \n",
    "    def fit(self, matrix):\n",
    "        if self.strategy is 'user':\n",
    "            # User - User based collaborative filtering\n",
    "            start_time = time.time()\n",
    "            self.user_item_matrix = matrix\n",
    "            self.mapper_indices = matrix.index\n",
    "            self.user_tree = BallTree(matrix, leaf_size = self.num_neighbours * 2)\n",
    "            time_taken = time.time() - start_time\n",
    "            print('Model built in {} seconds'.format(time_taken))\n",
    "            return self\n",
    "        \n",
    "        elif self.strategy is 'item':\n",
    "            # Item - Item based collaborative filtering\n",
    "            start_time = time.time()\n",
    "            matrix = matrix.T\n",
    "            self.item_user_matrix = matrix\n",
    "            self.mapper_indices = matrix.index\n",
    "            self.item_tree = BallTree(matrix, leaf_size = self.num_neighbours * 2)\n",
    "            time_taken = time.time() - start_time\n",
    "            print('Model built in {} seconds'.format(time_taken))\n",
    "            return self\n",
    "            \n",
    "                    \n",
    "    def predict(self, X_test):\n",
    "        if self.strategy is 'user':\n",
    "            y_pred = pd.Series(index = X_test.index)\n",
    "            \n",
    "            for index in tqdm.tqdm(X_test.index, desc = 'Predicting Ratings'):\n",
    "                row = X_test.loc[index]\n",
    "                target_user = row['UserId']\n",
    "                target_product = row['ProductId']\n",
    "                \n",
    "                if target_user not in self.user_item_matrix.index:\n",
    "                    y_pred[index] = 0\n",
    "                    continue\n",
    "                \n",
    "                user_attributes = self.user_item_matrix.loc[target_user]\n",
    "                _, neighbour_indices = self.user_tree.query(user_attributes.values.reshape(1, -1), k = self.num_neighbours)\n",
    "                \n",
    "                rating = 0\n",
    "                for neighbour_index in neighbour_indices:\n",
    "                    user = self.mapper_indices[neighbour_index]\n",
    "                    if target_product in self.user_item_matrix.loc[user].index:\n",
    "                        rating += self.user_item_matrix.loc[user, target_product]\n",
    "                    else:\n",
    "                        rating += 0\n",
    "                avg_rating = rating/self.num_neighbours\n",
    "                y_pred.loc[index] = avg_rating\n",
    "                \n",
    "            return y_pred.values\n",
    "        \n",
    "        elif self.strategy is 'item':\n",
    "            y_pred = pd.Series(index = X_test.index)\n",
    "            \n",
    "            for index in tqdm.tqdm(X_test.index, desc = 'Predicting Ratings'):\n",
    "                row = X_test.loc[index]\n",
    "                target_user = row['UserId']\n",
    "                target_product = row['ProductId']\n",
    "                \n",
    "                if target_product not in self.item_user_matrix.index:\n",
    "                    y_pred[index] = 0\n",
    "                    continue\n",
    "                \n",
    "                item_attributes = self.item_user_matrix.loc[target_product]\n",
    "                _, neighbour_indices = self.item_tree.query(item_attributes.values.reshape(1, -1), k = self.num_neighbours)\n",
    "                \n",
    "                rating = 0\n",
    "                for neighbour_index in neighbour_indices:\n",
    "                    product = self.mapper_indices[neighbour_index]\n",
    "                    if target_user in self.item_user_matrix.loc[product].index:\n",
    "                        rating += self.item_user_matrix.loc[product, target_user]\n",
    "                    else:\n",
    "                        rating += 0\n",
    "                avg_rating = rating/self.num_neighbours\n",
    "                y_pred.loc[index] = avg_rating\n",
    "                \n",
    "            return y_pred.values\n",
    "        \n",
    "    def recommend_items(self, id, num_recommendations = 10):\n",
    "        if self.strategy is 'user':\n",
    "            user_id = id\n",
    "            \n",
    "            if user_id not in self.user_item_matrix.index:\n",
    "                # New user - We will be looking at this case later on\n",
    "                return None\n",
    "            \n",
    "            user_attributes = self.user_item_matrix.loc[user_id]\n",
    "            distances, neighbour_indices = self.user_tree.query(user_attributes.values.reshape(1, -1), k = self.num_neighbours + 1)\n",
    "            distances = distances[0]\n",
    "            neighbour_indices = neighbour_indices[0]\n",
    "            \n",
    "            # We will be scoring each product by the user's distance from the target user and the \n",
    "            # rating given by the user to the item.\n",
    "            recommendations = pd.DataFrame(columns = ['ProductId', 'Recommendability'])\n",
    "            \n",
    "            for index, neighbour_index in enumerate(neighbour_indices):\n",
    "                user = self.mapper_indices[neighbour_index]\n",
    "                user_similarity = 1 - distances[index]\n",
    "                products_with_ratings = self.user_item_matrix.loc[user]\n",
    "                \n",
    "                for product_id in products_with_ratings.index:\n",
    "                    recommendability = user_similarity * products_with_ratings.loc[product_id]\n",
    "                    recommendation = {'ProductId': product_id, 'Recommendability': recommendability}\n",
    "                    recommendations = recommendations.append(recommendation, ignore_index = True)\n",
    "            \n",
    "            recommendations.sort_values(by = 'Recommendability', ascending = False, inplace = True)\n",
    "            recommendations = recommendations[~recommendations.duplicated('ProductId')]\n",
    "            \n",
    "            max_recommendations = min(num_recommendations, recommendations.shape[0])\n",
    "            return recommendations.iloc[:max_recommendations, :-1]\n",
    "        \n",
    "        elif self.strategy is 'item':\n",
    "            product_id = id\n",
    "            \n",
    "            if product_id not in self.item_user_matrix.index:\n",
    "                # New product - We will be looking at this case later on\n",
    "                return None\n",
    "            \n",
    "            product_attributes = self.item_user_matrix.loc[product_id]\n",
    "            distances, neighbour_indices = self.item_tree.query(product_attributes.values.reshape(1, -1), k = num_recommendations)\n",
    "            distances = distances[0]\n",
    "            neighbour_indices = neighbour_indices[0]\n",
    "            \n",
    "            recommendations = pd.DataFrame(columns = ['ProductId', 'Recommendability'])\n",
    "            \n",
    "            for index, neighbour_index in enumerate(neighbour_indices):\n",
    "                product_id = self.mapper_indices[neighbour_index]\n",
    "                product_similarity = 1 - distances[index]\n",
    "                \n",
    "                recommendation = {'ProductId': product_id, 'Recommendability': product_similarity}\n",
    "                recommendations = recommendations.append(recommendation, ignore_index = True)\n",
    "            \n",
    "            recommendations.sort_values(by = 'Recommendability', ascending = False, inplace = True)\n",
    "            \n",
    "            return recommendations.iloc[1:, :-1]"
   ]
  },
  {
   "cell_type": "code",
   "execution_count": 237,
   "metadata": {},
   "outputs": [],
   "source": [
    "# Let's look at the ratings count of the products\n",
    "gb_product = df.groupby('ProductId').size()\n",
    "gb_product = gb_product.sort_values()"
   ]
  },
  {
   "cell_type": "code",
   "execution_count": 238,
   "metadata": {},
   "outputs": [
    {
     "data": {
      "text/plain": [
       "[<matplotlib.lines.Line2D at 0x1aed64e748>]"
      ]
     },
     "execution_count": 238,
     "metadata": {},
     "output_type": "execute_result"
    },
    {
     "data": {
      "image/png": "[encoded data removed]",
      "text/plain": [
       "<Figure size 432x288 with 1 Axes>"
      ]
     },
     "metadata": {
      "needs_background": "light"
     },
     "output_type": "display_data"
    },
    {
     "data": {
      "text/plain": [
       "[<matplotlib.lines.Line2D at 0x1a39b573c8>]"
      ]
     },
     "execution_count": 238,
     "metadata": {},
     "output_type": "execute_result"
    },
    {
     "name": "stdout",
     "output_type": "stream",
     "text": [
      "29\n"
     ]
    },
    {
     "data": {
      "image/png": "[encoded data removed]",
      "text/plain": [
       "<Figure size 432x288 with 1 Axes>"
      ]
     },
     "metadata": {
      "needs_background": "light"
     },
     "output_type": "display_data"
    }
   ],
   "source": [
    "plt.plot(range(1, gb_product.shape[0] + 1), gb_product.values)\n",
    "plt.show()\n",
    "high_rated_products = gb_product[gb_product >= 500]\n",
    "plt.plot(range(1, high_rated_products.shape[0] + 1), high_rated_products.values)\n",
    "print(high_rated_products.shape[0])"
   ]
  },
  {
   "cell_type": "code",
   "execution_count": 239,
   "metadata": {},
   "outputs": [],
   "source": [
    "data_complete = df.loc[df['ProductId'].isin(high_rated_products.index)]\n",
    "data = data_complete.iloc[:, :-1]"
   ]
  },
  {
   "cell_type": "code",
   "execution_count": 240,
   "metadata": {},
   "outputs": [],
   "source": [
    "user_item_matrix_raw = pd.pivot_table(data_train, index = 'UserId', columns = 'ProductId', values = 'Score', aggfunc = np.sum)"
   ]
  },
  {
   "cell_type": "code",
   "execution_count": 241,
   "metadata": {},
   "outputs": [
    {
     "name": "stdout",
     "output_type": "stream",
     "text": [
      "(5724, 29)\n"
     ]
    },
    {
     "data": {
      "text/html": [
       "<div>\n",
       "<style scoped>\n",
       "    .dataframe tbody tr th:only-of-type {\n",
       "        vertical-align: middle;\n",
       "    }\n",
       "\n",
       "    .dataframe tbody tr th {\n",
       "        vertical-align: top;\n",
       "    }\n",
       "\n",
       "    .dataframe thead th {\n",
       "        text-align: right;\n",
       "    }\n",
       "</style>\n",
       "<table border=\"1\" class=\"dataframe\">\n",
       "  <thead>\n",
       "    <tr style=\"text-align: right;\">\n",
       "      <th>ProductId</th>\n",
       "      <th>B000KV61FC</th>\n",
       "      <th>B000KV7ZGQ</th>\n",
       "      <th>B000NMJWZO</th>\n",
       "      <th>B000UBD88A</th>\n",
       "      <th>B000VK8AVK</th>\n",
       "      <th>B0013A0QXC</th>\n",
       "      <th>B0013NUGDE</th>\n",
       "      <th>B001EO5Q64</th>\n",
       "      <th>B001RVFEP2</th>\n",
       "      <th>B001RVFERK</th>\n",
       "      <th>...</th>\n",
       "      <th>B005K4Q34S</th>\n",
       "      <th>B005K4Q37A</th>\n",
       "      <th>B005K4Q4LK</th>\n",
       "      <th>B005ZBZLT4</th>\n",
       "      <th>B006HYLW32</th>\n",
       "      <th>B007JFMH8M</th>\n",
       "      <th>B007M832YY</th>\n",
       "      <th>B007M83302</th>\n",
       "      <th>B007Y59HVM</th>\n",
       "      <th>B0090X8IPM</th>\n",
       "    </tr>\n",
       "    <tr>\n",
       "      <th>UserId</th>\n",
       "      <th></th>\n",
       "      <th></th>\n",
       "      <th></th>\n",
       "      <th></th>\n",
       "      <th></th>\n",
       "      <th></th>\n",
       "      <th></th>\n",
       "      <th></th>\n",
       "      <th></th>\n",
       "      <th></th>\n",
       "      <th></th>\n",
       "      <th></th>\n",
       "      <th></th>\n",
       "      <th></th>\n",
       "      <th></th>\n",
       "      <th></th>\n",
       "      <th></th>\n",
       "      <th></th>\n",
       "      <th></th>\n",
       "      <th></th>\n",
       "      <th></th>\n",
       "    </tr>\n",
       "  </thead>\n",
       "  <tbody>\n",
       "    <tr>\n",
       "      <th>#oc-R115TNMSPFT9I7</th>\n",
       "      <td>NaN</td>\n",
       "      <td>NaN</td>\n",
       "      <td>NaN</td>\n",
       "      <td>NaN</td>\n",
       "      <td>NaN</td>\n",
       "      <td>NaN</td>\n",
       "      <td>NaN</td>\n",
       "      <td>NaN</td>\n",
       "      <td>NaN</td>\n",
       "      <td>NaN</td>\n",
       "      <td>...</td>\n",
       "      <td>NaN</td>\n",
       "      <td>NaN</td>\n",
       "      <td>NaN</td>\n",
       "      <td>2.0</td>\n",
       "      <td>NaN</td>\n",
       "      <td>NaN</td>\n",
       "      <td>NaN</td>\n",
       "      <td>NaN</td>\n",
       "      <td>2.0</td>\n",
       "      <td>NaN</td>\n",
       "    </tr>\n",
       "    <tr>\n",
       "      <th>#oc-R11DNU2NBKQ23Z</th>\n",
       "      <td>NaN</td>\n",
       "      <td>NaN</td>\n",
       "      <td>NaN</td>\n",
       "      <td>NaN</td>\n",
       "      <td>NaN</td>\n",
       "      <td>NaN</td>\n",
       "      <td>NaN</td>\n",
       "      <td>NaN</td>\n",
       "      <td>NaN</td>\n",
       "      <td>NaN</td>\n",
       "      <td>...</td>\n",
       "      <td>NaN</td>\n",
       "      <td>NaN</td>\n",
       "      <td>NaN</td>\n",
       "      <td>1.0</td>\n",
       "      <td>NaN</td>\n",
       "      <td>NaN</td>\n",
       "      <td>NaN</td>\n",
       "      <td>NaN</td>\n",
       "      <td>1.0</td>\n",
       "      <td>NaN</td>\n",
       "    </tr>\n",
       "    <tr>\n",
       "      <th>#oc-R13EBF129DBX88</th>\n",
       "      <td>NaN</td>\n",
       "      <td>NaN</td>\n",
       "      <td>NaN</td>\n",
       "      <td>NaN</td>\n",
       "      <td>NaN</td>\n",
       "      <td>NaN</td>\n",
       "      <td>NaN</td>\n",
       "      <td>NaN</td>\n",
       "      <td>NaN</td>\n",
       "      <td>NaN</td>\n",
       "      <td>...</td>\n",
       "      <td>NaN</td>\n",
       "      <td>NaN</td>\n",
       "      <td>NaN</td>\n",
       "      <td>2.0</td>\n",
       "      <td>NaN</td>\n",
       "      <td>NaN</td>\n",
       "      <td>NaN</td>\n",
       "      <td>NaN</td>\n",
       "      <td>2.0</td>\n",
       "      <td>NaN</td>\n",
       "    </tr>\n",
       "    <tr>\n",
       "      <th>#oc-R1669TSD0WO7EP</th>\n",
       "      <td>NaN</td>\n",
       "      <td>NaN</td>\n",
       "      <td>NaN</td>\n",
       "      <td>NaN</td>\n",
       "      <td>NaN</td>\n",
       "      <td>NaN</td>\n",
       "      <td>NaN</td>\n",
       "      <td>NaN</td>\n",
       "      <td>NaN</td>\n",
       "      <td>NaN</td>\n",
       "      <td>...</td>\n",
       "      <td>NaN</td>\n",
       "      <td>NaN</td>\n",
       "      <td>NaN</td>\n",
       "      <td>1.0</td>\n",
       "      <td>NaN</td>\n",
       "      <td>NaN</td>\n",
       "      <td>NaN</td>\n",
       "      <td>NaN</td>\n",
       "      <td>NaN</td>\n",
       "      <td>NaN</td>\n",
       "    </tr>\n",
       "  </tbody>\n",
       "</table>\n",
       "<p>4 rows × 29 columns</p>\n",
       "</div>"
      ],
      "text/plain": [
       "ProductId           B000KV61FC  B000KV7ZGQ  B000NMJWZO  B000UBD88A  \\\n",
       "UserId                                                               \n",
       "#oc-R115TNMSPFT9I7         NaN         NaN         NaN         NaN   \n",
       "#oc-R11DNU2NBKQ23Z         NaN         NaN         NaN         NaN   \n",
       "#oc-R13EBF129DBX88         NaN         NaN         NaN         NaN   \n",
       "#oc-R1669TSD0WO7EP         NaN         NaN         NaN         NaN   \n",
       "\n",
       "ProductId           B000VK8AVK  B0013A0QXC  B0013NUGDE  B001EO5Q64  \\\n",
       "UserId                                                               \n",
       "#oc-R115TNMSPFT9I7         NaN         NaN         NaN         NaN   \n",
       "#oc-R11DNU2NBKQ23Z         NaN         NaN         NaN         NaN   \n",
       "#oc-R13EBF129DBX88         NaN         NaN         NaN         NaN   \n",
       "#oc-R1669TSD0WO7EP         NaN         NaN         NaN         NaN   \n",
       "\n",
       "ProductId           B001RVFEP2  B001RVFERK  ...  B005K4Q34S  B005K4Q37A  \\\n",
       "UserId                                      ...                           \n",
       "#oc-R115TNMSPFT9I7         NaN         NaN  ...         NaN         NaN   \n",
       "#oc-R11DNU2NBKQ23Z         NaN         NaN  ...         NaN         NaN   \n",
       "#oc-R13EBF129DBX88         NaN         NaN  ...         NaN         NaN   \n",
       "#oc-R1669TSD0WO7EP         NaN         NaN  ...         NaN         NaN   \n",
       "\n",
       "ProductId           B005K4Q4LK  B005ZBZLT4  B006HYLW32  B007JFMH8M  \\\n",
       "UserId                                                               \n",
       "#oc-R115TNMSPFT9I7         NaN         2.0         NaN         NaN   \n",
       "#oc-R11DNU2NBKQ23Z         NaN         1.0         NaN         NaN   \n",
       "#oc-R13EBF129DBX88         NaN         2.0         NaN         NaN   \n",
       "#oc-R1669TSD0WO7EP         NaN         1.0         NaN         NaN   \n",
       "\n",
       "ProductId           B007M832YY  B007M83302  B007Y59HVM  B0090X8IPM  \n",
       "UserId                                                              \n",
       "#oc-R115TNMSPFT9I7         NaN         NaN         2.0         NaN  \n",
       "#oc-R11DNU2NBKQ23Z         NaN         NaN         1.0         NaN  \n",
       "#oc-R13EBF129DBX88         NaN         NaN         2.0         NaN  \n",
       "#oc-R1669TSD0WO7EP         NaN         NaN         NaN         NaN  \n",
       "\n",
       "[4 rows x 29 columns]"
      ]
     },
     "execution_count": 241,
     "metadata": {},
     "output_type": "execute_result"
    }
   ],
   "source": [
    "print(user_item_matrix_raw.shape)\n",
    "user_item_matrix_raw.head(4)"
   ]
  },
  {
   "cell_type": "code",
   "execution_count": 242,
   "metadata": {},
   "outputs": [
    {
     "name": "stdout",
     "output_type": "stream",
     "text": [
      "The sparsity of the matrix is: 0.920907732716451\n"
     ]
    }
   ],
   "source": [
    "sparsity = np.isnan(user_item_matrix_raw.values).sum()/np.prod(user_item_matrix_raw.shape)\n",
    "print('The sparsity of the matrix is: {}'.format(sparsity))"
   ]
  },
  {
   "cell_type": "code",
   "execution_count": 243,
   "metadata": {},
   "outputs": [
    {
     "data": {
      "text/html": [
       "<div>\n",
       "<style scoped>\n",
       "    .dataframe tbody tr th:only-of-type {\n",
       "        vertical-align: middle;\n",
       "    }\n",
       "\n",
       "    .dataframe tbody tr th {\n",
       "        vertical-align: top;\n",
       "    }\n",
       "\n",
       "    .dataframe thead th {\n",
       "        text-align: right;\n",
       "    }\n",
       "</style>\n",
       "<table border=\"1\" class=\"dataframe\">\n",
       "  <thead>\n",
       "    <tr style=\"text-align: right;\">\n",
       "      <th>ProductId</th>\n",
       "      <th>B000KV61FC</th>\n",
       "      <th>B000KV7ZGQ</th>\n",
       "      <th>B000NMJWZO</th>\n",
       "      <th>B000UBD88A</th>\n",
       "      <th>B000VK8AVK</th>\n",
       "      <th>B0013A0QXC</th>\n",
       "      <th>B0013NUGDE</th>\n",
       "      <th>B001EO5Q64</th>\n",
       "      <th>B001RVFEP2</th>\n",
       "      <th>B001RVFERK</th>\n",
       "      <th>...</th>\n",
       "      <th>B005K4Q34S</th>\n",
       "      <th>B005K4Q37A</th>\n",
       "      <th>B005K4Q4LK</th>\n",
       "      <th>B005ZBZLT4</th>\n",
       "      <th>B006HYLW32</th>\n",
       "      <th>B007JFMH8M</th>\n",
       "      <th>B007M832YY</th>\n",
       "      <th>B007M83302</th>\n",
       "      <th>B007Y59HVM</th>\n",
       "      <th>B0090X8IPM</th>\n",
       "    </tr>\n",
       "    <tr>\n",
       "      <th>UserId</th>\n",
       "      <th></th>\n",
       "      <th></th>\n",
       "      <th></th>\n",
       "      <th></th>\n",
       "      <th></th>\n",
       "      <th></th>\n",
       "      <th></th>\n",
       "      <th></th>\n",
       "      <th></th>\n",
       "      <th></th>\n",
       "      <th></th>\n",
       "      <th></th>\n",
       "      <th></th>\n",
       "      <th></th>\n",
       "      <th></th>\n",
       "      <th></th>\n",
       "      <th></th>\n",
       "      <th></th>\n",
       "      <th></th>\n",
       "      <th></th>\n",
       "      <th></th>\n",
       "    </tr>\n",
       "  </thead>\n",
       "  <tbody>\n",
       "    <tr>\n",
       "      <th>#oc-R115TNMSPFT9I7</th>\n",
       "      <td>3.439825</td>\n",
       "      <td>3.424508</td>\n",
       "      <td>4.866197</td>\n",
       "      <td>4.474178</td>\n",
       "      <td>4.433875</td>\n",
       "      <td>4.542787</td>\n",
       "      <td>4.387892</td>\n",
       "      <td>4.736264</td>\n",
       "      <td>4.402273</td>\n",
       "      <td>4.407925</td>\n",
       "      <td>...</td>\n",
       "      <td>3.945626</td>\n",
       "      <td>3.946387</td>\n",
       "      <td>3.853828</td>\n",
       "      <td>2.0</td>\n",
       "      <td>4.430524</td>\n",
       "      <td>4.565881</td>\n",
       "      <td>4.406742</td>\n",
       "      <td>4.397674</td>\n",
       "      <td>2.000000</td>\n",
       "      <td>3.82069</td>\n",
       "    </tr>\n",
       "    <tr>\n",
       "      <th>#oc-R11DNU2NBKQ23Z</th>\n",
       "      <td>3.439825</td>\n",
       "      <td>3.424508</td>\n",
       "      <td>4.866197</td>\n",
       "      <td>4.474178</td>\n",
       "      <td>4.433875</td>\n",
       "      <td>4.542787</td>\n",
       "      <td>4.387892</td>\n",
       "      <td>4.736264</td>\n",
       "      <td>4.402273</td>\n",
       "      <td>4.407925</td>\n",
       "      <td>...</td>\n",
       "      <td>3.945626</td>\n",
       "      <td>3.946387</td>\n",
       "      <td>3.853828</td>\n",
       "      <td>1.0</td>\n",
       "      <td>4.430524</td>\n",
       "      <td>4.565881</td>\n",
       "      <td>4.406742</td>\n",
       "      <td>4.397674</td>\n",
       "      <td>1.000000</td>\n",
       "      <td>3.82069</td>\n",
       "    </tr>\n",
       "    <tr>\n",
       "      <th>#oc-R13EBF129DBX88</th>\n",
       "      <td>3.439825</td>\n",
       "      <td>3.424508</td>\n",
       "      <td>4.866197</td>\n",
       "      <td>4.474178</td>\n",
       "      <td>4.433875</td>\n",
       "      <td>4.542787</td>\n",
       "      <td>4.387892</td>\n",
       "      <td>4.736264</td>\n",
       "      <td>4.402273</td>\n",
       "      <td>4.407925</td>\n",
       "      <td>...</td>\n",
       "      <td>3.945626</td>\n",
       "      <td>3.946387</td>\n",
       "      <td>3.853828</td>\n",
       "      <td>2.0</td>\n",
       "      <td>4.430524</td>\n",
       "      <td>4.565881</td>\n",
       "      <td>4.406742</td>\n",
       "      <td>4.397674</td>\n",
       "      <td>2.000000</td>\n",
       "      <td>3.82069</td>\n",
       "    </tr>\n",
       "    <tr>\n",
       "      <th>#oc-R1669TSD0WO7EP</th>\n",
       "      <td>3.439825</td>\n",
       "      <td>3.424508</td>\n",
       "      <td>4.866197</td>\n",
       "      <td>4.474178</td>\n",
       "      <td>4.433875</td>\n",
       "      <td>4.542787</td>\n",
       "      <td>4.387892</td>\n",
       "      <td>4.736264</td>\n",
       "      <td>4.402273</td>\n",
       "      <td>4.407925</td>\n",
       "      <td>...</td>\n",
       "      <td>3.945626</td>\n",
       "      <td>3.946387</td>\n",
       "      <td>3.853828</td>\n",
       "      <td>1.0</td>\n",
       "      <td>4.430524</td>\n",
       "      <td>4.565881</td>\n",
       "      <td>4.406742</td>\n",
       "      <td>4.397674</td>\n",
       "      <td>4.358354</td>\n",
       "      <td>3.82069</td>\n",
       "    </tr>\n",
       "  </tbody>\n",
       "</table>\n",
       "<p>4 rows × 29 columns</p>\n",
       "</div>"
      ],
      "text/plain": [
       "ProductId           B000KV61FC  B000KV7ZGQ  B000NMJWZO  B000UBD88A  \\\n",
       "UserId                                                               \n",
       "#oc-R115TNMSPFT9I7    3.439825    3.424508    4.866197    4.474178   \n",
       "#oc-R11DNU2NBKQ23Z    3.439825    3.424508    4.866197    4.474178   \n",
       "#oc-R13EBF129DBX88    3.439825    3.424508    4.866197    4.474178   \n",
       "#oc-R1669TSD0WO7EP    3.439825    3.424508    4.866197    4.474178   \n",
       "\n",
       "ProductId           B000VK8AVK  B0013A0QXC  B0013NUGDE  B001EO5Q64  \\\n",
       "UserId                                                               \n",
       "#oc-R115TNMSPFT9I7    4.433875    4.542787    4.387892    4.736264   \n",
       "#oc-R11DNU2NBKQ23Z    4.433875    4.542787    4.387892    4.736264   \n",
       "#oc-R13EBF129DBX88    4.433875    4.542787    4.387892    4.736264   \n",
       "#oc-R1669TSD0WO7EP    4.433875    4.542787    4.387892    4.736264   \n",
       "\n",
       "ProductId           B001RVFEP2  B001RVFERK  ...  B005K4Q34S  B005K4Q37A  \\\n",
       "UserId                                      ...                           \n",
       "#oc-R115TNMSPFT9I7    4.402273    4.407925  ...    3.945626    3.946387   \n",
       "#oc-R11DNU2NBKQ23Z    4.402273    4.407925  ...    3.945626    3.946387   \n",
       "#oc-R13EBF129DBX88    4.402273    4.407925  ...    3.945626    3.946387   \n",
       "#oc-R1669TSD0WO7EP    4.402273    4.407925  ...    3.945626    3.946387   \n",
       "\n",
       "ProductId           B005K4Q4LK  B005ZBZLT4  B006HYLW32  B007JFMH8M  \\\n",
       "UserId                                                               \n",
       "#oc-R115TNMSPFT9I7    3.853828         2.0    4.430524    4.565881   \n",
       "#oc-R11DNU2NBKQ23Z    3.853828         1.0    4.430524    4.565881   \n",
       "#oc-R13EBF129DBX88    3.853828         2.0    4.430524    4.565881   \n",
       "#oc-R1669TSD0WO7EP    3.853828         1.0    4.430524    4.565881   \n",
       "\n",
       "ProductId           B007M832YY  B007M83302  B007Y59HVM  B0090X8IPM  \n",
       "UserId                                                              \n",
       "#oc-R115TNMSPFT9I7    4.406742    4.397674    2.000000     3.82069  \n",
       "#oc-R11DNU2NBKQ23Z    4.406742    4.397674    1.000000     3.82069  \n",
       "#oc-R13EBF129DBX88    4.406742    4.397674    2.000000     3.82069  \n",
       "#oc-R1669TSD0WO7EP    4.406742    4.397674    4.358354     3.82069  \n",
       "\n",
       "[4 rows x 29 columns]"
      ]
     },
     "execution_count": 243,
     "metadata": {},
     "output_type": "execute_result"
    }
   ],
   "source": [
    "# Filling the NaN values with mean of the column\n",
    "user_item_matrix = user_item_matrix_raw.fillna(user_item_matrix_raw.mean())\n",
    "user_item_matrix.head(4)"
   ]
  },
  {
   "cell_type": "code",
   "execution_count": 244,
   "metadata": {},
   "outputs": [],
   "source": [
    "user_item_matrix_rating = user_item_matrix.apply(lambda row: row - 3)"
   ]
  },
  {
   "cell_type": "code",
   "execution_count": 245,
   "metadata": {},
   "outputs": [
    {
     "name": "stdout",
     "output_type": "stream",
     "text": [
      "Model built in 0.08089900016784668 seconds\n"
     ]
    }
   ],
   "source": [
    "recommender = Recommender().fit(user_item_matrix)"
   ]
  },
  {
   "cell_type": "code",
   "execution_count": 246,
   "metadata": {},
   "outputs": [
    {
     "name": "stdout",
     "output_type": "stream",
     "text": [
      "Model built in 0.08712196350097656 seconds\n"
     ]
    }
   ],
   "source": [
    "recommender_rating = Recommender().fit(user_item_matrix_rating)"
   ]
  },
  {
   "cell_type": "code",
   "execution_count": 247,
   "metadata": {},
   "outputs": [],
   "source": [
    "X_test = data_test.iloc[:, :-1]\n",
    "y_test = data_test.iloc[:, -1]"
   ]
  },
  {
   "cell_type": "code",
   "execution_count": 248,
   "metadata": {},
   "outputs": [],
   "source": [
    "from sklearn.metrics import mean_squared_error"
   ]
  },
  {
   "cell_type": "code",
   "execution_count": 249,
   "metadata": {},
   "outputs": [
    {
     "name": "stderr",
     "output_type": "stream",
     "text": [
      "\n",
      "Predicting Ratings:   0%|          | 0/3337 [00:00<?, ?it/s]\u001b[A\n",
      "Predicting Ratings:   2%|▏         | 62/3337 [00:00<00:05, 617.25it/s]\u001b[A\n",
      "Predicting Ratings:   3%|▎         | 97/3337 [00:00<00:06, 497.82it/s]\u001b[A\n",
      "Predicting Ratings:   4%|▎         | 121/3337 [00:00<00:09, 356.88it/s]\u001b[A\n",
      "Predicting Ratings:   5%|▍         | 154/3337 [00:00<00:09, 346.15it/s]\u001b[A\n",
      "Predicting Ratings:   6%|▌         | 191/3337 [00:00<00:08, 352.62it/s]\u001b[A\n",
      "Predicting Ratings:   7%|▋         | 223/3337 [00:00<00:09, 340.47it/s]\u001b[A\n",
      "Predicting Ratings:   8%|▊         | 258/3337 [00:00<00:09, 341.89it/s]\u001b[A\n",
      "Predicting Ratings:   9%|▊         | 291/3337 [00:00<00:09, 337.76it/s]\u001b[A\n",
      "Predicting Ratings:  10%|▉         | 328/3337 [00:00<00:08, 346.14it/s]\u001b[A\n",
      "Predicting Ratings:  11%|█         | 375/3337 [00:01<00:07, 375.80it/s]\u001b[A\n",
      "Predicting Ratings:  13%|█▎        | 430/3337 [00:01<00:07, 411.52it/s]\u001b[A\n",
      "Predicting Ratings:  14%|█▍        | 477/3337 [00:01<00:06, 426.79it/s]\u001b[A\n",
      "Predicting Ratings:  16%|█▌        | 521/3337 [00:01<00:06, 417.72it/s]\u001b[A\n",
      "Predicting Ratings:  17%|█▋        | 572/3337 [00:01<00:06, 439.12it/s]\u001b[A\n",
      "Predicting Ratings:  19%|█▉        | 630/3337 [00:01<00:05, 473.02it/s]\u001b[A\n",
      "Predicting Ratings:  20%|██        | 679/3337 [00:01<00:05, 449.99it/s]\u001b[A\n",
      "Predicting Ratings:  22%|██▏       | 726/3337 [00:01<00:07, 363.52it/s]\u001b[A\n",
      "Predicting Ratings:  23%|██▎       | 770/3337 [00:01<00:06, 383.02it/s]\u001b[A\n",
      "Predicting Ratings:  24%|██▍       | 815/3337 [00:02<00:06, 400.18it/s]\u001b[A\n",
      "Predicting Ratings:  26%|██▌       | 858/3337 [00:02<00:06, 406.68it/s]\u001b[A\n",
      "Predicting Ratings:  27%|██▋       | 904/3337 [00:02<00:05, 420.70it/s]\u001b[A\n",
      "Predicting Ratings:  28%|██▊       | 948/3337 [00:02<00:05, 411.72it/s]\u001b[A\n",
      "Predicting Ratings:  30%|██▉       | 991/3337 [00:02<00:05, 399.43it/s]\u001b[A\n",
      "Predicting Ratings:  31%|███       | 1042/3337 [00:02<00:05, 421.47it/s]\u001b[A\n",
      "Predicting Ratings:  33%|███▎      | 1085/3337 [00:02<00:05, 401.79it/s]\u001b[A\n",
      "Predicting Ratings:  34%|███▍      | 1133/3337 [00:02<00:05, 420.51it/s]\u001b[A\n",
      "Predicting Ratings:  35%|███▌      | 1176/3337 [00:02<00:05, 415.88it/s]\u001b[A\n",
      "Predicting Ratings:  37%|███▋      | 1221/3337 [00:03<00:04, 423.59it/s]\u001b[A\n",
      "Predicting Ratings:  38%|███▊      | 1264/3337 [00:03<00:05, 387.78it/s]\u001b[A\n",
      "Predicting Ratings:  39%|███▉      | 1304/3337 [00:03<00:06, 331.28it/s]\u001b[A\n",
      "Predicting Ratings:  40%|████      | 1340/3337 [00:03<00:06, 297.61it/s]\u001b[A\n",
      "Predicting Ratings:  41%|████      | 1372/3337 [00:03<00:06, 284.93it/s]\u001b[A\n",
      "Predicting Ratings:  42%|████▏     | 1413/3337 [00:03<00:06, 313.59it/s]\u001b[A\n",
      "Predicting Ratings:  44%|████▎     | 1455/3337 [00:03<00:05, 338.67it/s]\u001b[A\n",
      "Predicting Ratings:  45%|████▍     | 1501/3337 [00:03<00:05, 366.41it/s]\u001b[A\n",
      "Predicting Ratings:  46%|████▋     | 1550/3337 [00:03<00:04, 394.86it/s]\u001b[A\n",
      "Predicting Ratings:  48%|████▊     | 1597/3337 [00:04<00:04, 413.71it/s]\u001b[A\n",
      "Predicting Ratings:  49%|████▉     | 1641/3337 [00:04<00:04, 390.60it/s]\u001b[A\n",
      "Predicting Ratings:  51%|█████     | 1699/3337 [00:04<00:03, 430.52it/s]\u001b[A\n",
      "Predicting Ratings:  52%|█████▏    | 1745/3337 [00:04<00:03, 425.10it/s]\u001b[A\n",
      "Predicting Ratings:  54%|█████▎    | 1790/3337 [00:04<00:03, 404.02it/s]\u001b[A\n",
      "Predicting Ratings:  55%|█████▍    | 1832/3337 [00:04<00:03, 407.64it/s]\u001b[A\n",
      "Predicting Ratings:  56%|█████▌    | 1874/3337 [00:04<00:03, 383.09it/s]\u001b[A\n",
      "Predicting Ratings:  57%|█████▋    | 1914/3337 [00:04<00:03, 367.77it/s]\u001b[A\n",
      "Predicting Ratings:  58%|█████▊    | 1952/3337 [00:05<00:04, 302.31it/s]\u001b[A\n",
      "Predicting Ratings:  59%|█████▉    | 1985/3337 [00:05<00:04, 288.37it/s]\u001b[A\n",
      "Predicting Ratings:  61%|██████    | 2021/3337 [00:05<00:04, 306.30it/s]\u001b[A\n",
      "Predicting Ratings:  62%|██████▏   | 2069/3337 [00:05<00:03, 341.82it/s]\u001b[A\n",
      "Predicting Ratings:  64%|██████▎   | 2124/3337 [00:05<00:03, 385.03it/s]\u001b[A\n",
      "Predicting Ratings:  65%|██████▍   | 2169/3337 [00:05<00:02, 398.95it/s]\u001b[A\n",
      "Predicting Ratings:  66%|██████▋   | 2212/3337 [00:05<00:03, 368.85it/s]\u001b[A\n",
      "Predicting Ratings:  67%|██████▋   | 2252/3337 [00:05<00:02, 369.09it/s]\u001b[A\n",
      "Predicting Ratings:  69%|██████▊   | 2294/3337 [00:05<00:02, 382.83it/s]\u001b[A\n",
      "Predicting Ratings:  70%|██████▉   | 2334/3337 [00:06<00:02, 339.50it/s]\u001b[A\n",
      "Predicting Ratings:  71%|███████▏  | 2383/3337 [00:06<00:02, 373.08it/s]\u001b[A\n",
      "Predicting Ratings:  73%|███████▎  | 2425/3337 [00:06<00:02, 385.32it/s]\u001b[A\n",
      "Predicting Ratings:  74%|███████▍  | 2480/3337 [00:06<00:02, 423.33it/s]\u001b[A\n",
      "Predicting Ratings:  76%|███████▌  | 2538/3337 [00:06<00:01, 459.99it/s]\u001b[A\n",
      "Predicting Ratings:  78%|███████▊  | 2591/3337 [00:06<00:01, 478.81it/s]\u001b[A\n",
      "Predicting Ratings:  79%|███████▉  | 2649/3337 [00:06<00:01, 504.06it/s]\u001b[A\n",
      "Predicting Ratings:  81%|████████  | 2702/3337 [00:06<00:01, 483.05it/s]\u001b[A\n",
      "Predicting Ratings:  82%|████████▏ | 2752/3337 [00:06<00:01, 484.11it/s]\u001b[A\n",
      "Predicting Ratings:  84%|████████▍ | 2810/3337 [00:07<00:01, 507.83it/s]\u001b[A\n",
      "Predicting Ratings:  86%|████████▌ | 2862/3337 [00:07<00:00, 510.26it/s]\u001b[A\n",
      "Predicting Ratings:  87%|████████▋ | 2914/3337 [00:07<00:00, 460.33it/s]\u001b[A\n",
      "Predicting Ratings:  89%|████████▉ | 2967/3337 [00:07<00:00, 477.83it/s]\u001b[A\n",
      "Predicting Ratings:  90%|█████████ | 3016/3337 [00:07<00:00, 422.11it/s]\u001b[A\n",
      "Predicting Ratings:  92%|█████████▏| 3061/3337 [00:07<00:00, 342.54it/s]\u001b[A\n",
      "Predicting Ratings:  93%|█████████▎| 3100/3337 [00:07<00:00, 305.98it/s]\u001b[A\n",
      "Predicting Ratings:  94%|█████████▍| 3135/3337 [00:07<00:00, 298.43it/s]\u001b[A\n",
      "Predicting Ratings:  95%|█████████▍| 3168/3337 [00:08<00:00, 289.55it/s]\u001b[A\n",
      "Predicting Ratings:  96%|█████████▌| 3207/3337 [00:08<00:00, 313.43it/s]\u001b[A\n",
      "Predicting Ratings:  97%|█████████▋| 3252/3337 [00:08<00:00, 343.88it/s]\u001b[A\n",
      "Predicting Ratings:  99%|█████████▊| 3290/3337 [00:08<00:00, 350.25it/s]\u001b[A\n",
      "Predicting Ratings: 100%|██████████| 3337/3337 [00:08<00:00, 388.50it/s]\u001b[A\n",
      "\n",
      "Predicting Ratings:   0%|          | 0/3337 [00:00<?, ?it/s]\u001b[A\n",
      "Predicting Ratings:   2%|▏         | 54/3337 [00:00<00:06, 524.70it/s]\u001b[A\n",
      "Predicting Ratings:   3%|▎         | 89/3337 [00:00<00:07, 455.26it/s]\u001b[A\n",
      "Predicting Ratings:   4%|▎         | 119/3337 [00:00<00:08, 389.64it/s]\u001b[A\n",
      "Predicting Ratings:   4%|▍         | 146/3337 [00:00<00:09, 343.32it/s]\u001b[A\n",
      "Predicting Ratings:   5%|▌         | 173/3337 [00:00<00:10, 312.26it/s]\u001b[A\n",
      "Predicting Ratings:   6%|▌         | 202/3337 [00:00<00:10, 301.49it/s]\u001b[A\n",
      "Predicting Ratings:   7%|▋         | 228/3337 [00:00<00:10, 287.23it/s]\u001b[A\n",
      "Predicting Ratings:   8%|▊         | 254/3337 [00:00<00:12, 237.65it/s]\u001b[A\n",
      "Predicting Ratings:   8%|▊         | 278/3337 [00:00<00:13, 230.15it/s]\u001b[A\n",
      "Predicting Ratings:   9%|▉         | 312/3337 [00:01<00:11, 253.93it/s]\u001b[A\n",
      "Predicting Ratings:  10%|█         | 344/3337 [00:01<00:11, 269.81it/s]\u001b[A\n",
      "Predicting Ratings:  11%|█▏        | 377/3337 [00:01<00:10, 285.31it/s]\u001b[A\n",
      "Predicting Ratings:  12%|█▏        | 417/3337 [00:01<00:09, 308.57it/s]\u001b[A\n",
      "Predicting Ratings:  14%|█▍        | 461/3337 [00:01<00:08, 335.06it/s]\u001b[A\n",
      "Predicting Ratings:  15%|█▌        | 511/3337 [00:01<00:07, 371.04it/s]\u001b[A\n",
      "Predicting Ratings:  17%|█▋        | 555/3337 [00:01<00:07, 387.47it/s]\u001b[A\n",
      "Predicting Ratings:  18%|█▊        | 596/3337 [00:01<00:07, 381.57it/s]\u001b[A\n",
      "Predicting Ratings:  19%|█▉        | 644/3337 [00:01<00:06, 402.66it/s]\u001b[A\n",
      "Predicting Ratings:  21%|██        | 688/3337 [00:02<00:06, 412.60it/s]\u001b[A\n",
      "Predicting Ratings:  22%|██▏       | 736/3337 [00:02<00:06, 430.55it/s]\u001b[A\n",
      "Predicting Ratings:  23%|██▎       | 781/3337 [00:02<00:05, 431.97it/s]\u001b[A\n",
      "Predicting Ratings:  25%|██▍       | 830/3337 [00:02<00:05, 447.47it/s]\u001b[A\n",
      "Predicting Ratings:  27%|██▋       | 889/3337 [00:02<00:05, 481.28it/s]\u001b[A\n",
      "Predicting Ratings:  29%|██▊       | 953/3337 [00:02<00:04, 518.63it/s]\u001b[A\n",
      "Predicting Ratings:  30%|███       | 1011/3337 [00:02<00:04, 535.60it/s]\u001b[A\n",
      "Predicting Ratings:  32%|███▏      | 1066/3337 [00:02<00:04, 531.84it/s]\u001b[A\n",
      "Predicting Ratings:  34%|███▎      | 1121/3337 [00:02<00:04, 509.56it/s]\u001b[A\n",
      "Predicting Ratings:  35%|███▌      | 1173/3337 [00:02<00:04, 496.71it/s]\u001b[A\n",
      "Predicting Ratings:  37%|███▋      | 1224/3337 [00:03<00:04, 455.68it/s]\u001b[A\n",
      "Predicting Ratings:  38%|███▊      | 1278/3337 [00:03<00:04, 474.35it/s]\u001b[A\n",
      "Predicting Ratings:  40%|███▉      | 1327/3337 [00:03<00:04, 453.60it/s]\u001b[A\n",
      "Predicting Ratings:  41%|████▏     | 1378/3337 [00:03<00:04, 467.20it/s]\u001b[A\n",
      "Predicting Ratings:  43%|████▎     | 1426/3337 [00:03<00:04, 445.80it/s]\u001b[A\n",
      "Predicting Ratings:  45%|████▍     | 1487/3337 [00:03<00:03, 481.30it/s]\u001b[A\n",
      "Predicting Ratings:  46%|████▋     | 1549/3337 [00:03<00:03, 515.11it/s]\u001b[A\n",
      "Predicting Ratings:  48%|████▊     | 1603/3337 [00:03<00:03, 519.60it/s]\u001b[A\n",
      "Predicting Ratings:  50%|████▉     | 1666/3337 [00:03<00:03, 546.38it/s]\u001b[A\n",
      "Predicting Ratings:  52%|█████▏    | 1722/3337 [00:04<00:02, 550.17it/s]\u001b[A\n",
      "Predicting Ratings:  53%|█████▎    | 1780/3337 [00:04<00:02, 556.68it/s]\u001b[A\n",
      "Predicting Ratings:  55%|█████▌    | 1837/3337 [00:04<00:02, 501.14it/s]\u001b[A\n",
      "Predicting Ratings:  57%|█████▋    | 1889/3337 [00:04<00:02, 492.19it/s]\u001b[A\n",
      "Predicting Ratings:  58%|█████▊    | 1940/3337 [00:04<00:02, 474.20it/s]\u001b[A\n",
      "Predicting Ratings:  60%|█████▉    | 1989/3337 [00:04<00:02, 457.78it/s]\u001b[A\n",
      "Predicting Ratings:  61%|██████    | 2036/3337 [00:04<00:02, 438.16it/s]\u001b[A\n",
      "Predicting Ratings:  62%|██████▏   | 2081/3337 [00:04<00:03, 418.46it/s]\u001b[A\n",
      "Predicting Ratings:  64%|██████▍   | 2143/3337 [00:04<00:02, 462.87it/s]\u001b[A\n",
      "Predicting Ratings:  66%|██████▌   | 2206/3337 [00:05<00:02, 502.85it/s]\u001b[A\n",
      "Predicting Ratings:  68%|██████▊   | 2259/3337 [00:05<00:02, 501.64it/s]\u001b[A\n",
      "Predicting Ratings:  69%|██████▉   | 2311/3337 [00:05<00:02, 503.00it/s]\u001b[A\n",
      "Predicting Ratings:  71%|███████   | 2372/3337 [00:05<00:01, 529.34it/s]\u001b[A\n",
      "Predicting Ratings:  73%|███████▎  | 2427/3337 [00:05<00:01, 521.08it/s]\u001b[A\n",
      "Predicting Ratings:  75%|███████▍  | 2494/3337 [00:05<00:01, 558.07it/s]\u001b[A\n",
      "Predicting Ratings:  76%|███████▋  | 2552/3337 [00:05<00:01, 555.32it/s]\u001b[A\n",
      "Predicting Ratings:  78%|███████▊  | 2609/3337 [00:05<00:01, 552.39it/s]\u001b[A\n",
      "Predicting Ratings:  80%|████████  | 2673/3337 [00:05<00:01, 575.36it/s]\u001b[A\n",
      "Predicting Ratings:  82%|████████▏ | 2732/3337 [00:05<00:01, 571.07it/s]\u001b[A\n",
      "Predicting Ratings:  84%|████████▎ | 2793/3337 [00:06<00:00, 581.35it/s]\u001b[A\n",
      "Predicting Ratings:  86%|████████▌ | 2860/3337 [00:06<00:00, 604.41it/s]\u001b[A\n",
      "Predicting Ratings:  88%|████████▊ | 2922/3337 [00:06<00:00, 604.81it/s]\u001b[A\n",
      "Predicting Ratings:  89%|████████▉ | 2983/3337 [00:06<00:00, 598.27it/s]\u001b[A\n",
      "Predicting Ratings:  91%|█████████ | 3044/3337 [00:06<00:00, 597.64it/s]\u001b[A\n",
      "Predicting Ratings:  93%|█████████▎| 3104/3337 [00:06<00:00, 451.73it/s]\u001b[A\n",
      "Predicting Ratings:  95%|█████████▍| 3155/3337 [00:06<00:00, 433.52it/s]\u001b[A\n",
      "Predicting Ratings:  96%|█████████▌| 3204/3337 [00:06<00:00, 447.48it/s]\u001b[A\n",
      "Predicting Ratings:  98%|█████████▊| 3267/3337 [00:07<00:00, 489.08it/s]\u001b[A\n",
      "Predicting Ratings: 100%|██████████| 3337/3337 [00:07<00:00, 457.14it/s]\u001b[A\n"
     ]
    },
    {
     "ename": "ValueError",
     "evalue": "could not convert string to float: \"Can't eat just one!\"",
     "output_type": "error",
     "traceback": [
      "\u001b[0;31m---------------------------------------------------------------------------\u001b[0m",
      "\u001b[0;31mValueError\u001b[0m                                Traceback (most recent call last)",
      "\u001b[0;32m<ipython-input-249-cad6cc03520a>\u001b[0m in \u001b[0;36m<module>\u001b[0;34m\u001b[0m\n\u001b[1;32m      5\u001b[0m \u001b[0my_pred_rating\u001b[0m \u001b[0;34m+=\u001b[0m \u001b[0;36m3\u001b[0m\u001b[0;34m\u001b[0m\u001b[0;34m\u001b[0m\u001b[0m\n\u001b[1;32m      6\u001b[0m \u001b[0;34m\u001b[0m\u001b[0m\n\u001b[0;32m----> 7\u001b[0;31m \u001b[0mrmse\u001b[0m \u001b[0;34m=\u001b[0m \u001b[0mnp\u001b[0m\u001b[0;34m.\u001b[0m\u001b[0msqrt\u001b[0m\u001b[0;34m(\u001b[0m\u001b[0mmean_squared_error\u001b[0m\u001b[0;34m(\u001b[0m\u001b[0my_test\u001b[0m\u001b[0;34m,\u001b[0m \u001b[0my_pred\u001b[0m\u001b[0;34m)\u001b[0m\u001b[0;34m)\u001b[0m\u001b[0;34m\u001b[0m\u001b[0;34m\u001b[0m\u001b[0m\n\u001b[0m\u001b[1;32m      8\u001b[0m \u001b[0mrmse_rating\u001b[0m \u001b[0;34m=\u001b[0m \u001b[0mnp\u001b[0m\u001b[0;34m.\u001b[0m\u001b[0msqrt\u001b[0m\u001b[0;34m(\u001b[0m\u001b[0mmean_squared_error\u001b[0m\u001b[0;34m(\u001b[0m\u001b[0my_test\u001b[0m\u001b[0;34m,\u001b[0m \u001b[0my_pred_rating\u001b[0m\u001b[0;34m)\u001b[0m\u001b[0;34m)\u001b[0m\u001b[0;34m\u001b[0m\u001b[0;34m\u001b[0m\u001b[0m\n\u001b[1;32m      9\u001b[0m \u001b[0;34m\u001b[0m\u001b[0m\n",
      "\u001b[0;32m~/anaconda3/lib/python3.7/site-packages/sklearn/metrics/regression.py\u001b[0m in \u001b[0;36mmean_squared_error\u001b[0;34m(y_true, y_pred, sample_weight, multioutput)\u001b[0m\n\u001b[1;32m    239\u001b[0m     \"\"\"\n\u001b[1;32m    240\u001b[0m     y_type, y_true, y_pred, multioutput = _check_reg_targets(\n\u001b[0;32m--> 241\u001b[0;31m         y_true, y_pred, multioutput)\n\u001b[0m\u001b[1;32m    242\u001b[0m     \u001b[0mcheck_consistent_length\u001b[0m\u001b[0;34m(\u001b[0m\u001b[0my_true\u001b[0m\u001b[0;34m,\u001b[0m \u001b[0my_pred\u001b[0m\u001b[0;34m,\u001b[0m \u001b[0msample_weight\u001b[0m\u001b[0;34m)\u001b[0m\u001b[0;34m\u001b[0m\u001b[0;34m\u001b[0m\u001b[0m\n\u001b[1;32m    243\u001b[0m     output_errors = np.average((y_true - y_pred) ** 2, axis=0,\n",
      "\u001b[0;32m~/anaconda3/lib/python3.7/site-packages/sklearn/metrics/regression.py\u001b[0m in \u001b[0;36m_check_reg_targets\u001b[0;34m(y_true, y_pred, multioutput)\u001b[0m\n\u001b[1;32m     76\u001b[0m     \"\"\"\n\u001b[1;32m     77\u001b[0m     \u001b[0mcheck_consistent_length\u001b[0m\u001b[0;34m(\u001b[0m\u001b[0my_true\u001b[0m\u001b[0;34m,\u001b[0m \u001b[0my_pred\u001b[0m\u001b[0;34m)\u001b[0m\u001b[0;34m\u001b[0m\u001b[0;34m\u001b[0m\u001b[0m\n\u001b[0;32m---> 78\u001b[0;31m     \u001b[0my_true\u001b[0m \u001b[0;34m=\u001b[0m \u001b[0mcheck_array\u001b[0m\u001b[0;34m(\u001b[0m\u001b[0my_true\u001b[0m\u001b[0;34m,\u001b[0m \u001b[0mensure_2d\u001b[0m\u001b[0;34m=\u001b[0m\u001b[0;32mFalse\u001b[0m\u001b[0;34m)\u001b[0m\u001b[0;34m\u001b[0m\u001b[0;34m\u001b[0m\u001b[0m\n\u001b[0m\u001b[1;32m     79\u001b[0m     \u001b[0my_pred\u001b[0m \u001b[0;34m=\u001b[0m \u001b[0mcheck_array\u001b[0m\u001b[0;34m(\u001b[0m\u001b[0my_pred\u001b[0m\u001b[0;34m,\u001b[0m \u001b[0mensure_2d\u001b[0m\u001b[0;34m=\u001b[0m\u001b[0;32mFalse\u001b[0m\u001b[0;34m)\u001b[0m\u001b[0;34m\u001b[0m\u001b[0;34m\u001b[0m\u001b[0m\n\u001b[1;32m     80\u001b[0m \u001b[0;34m\u001b[0m\u001b[0m\n",
      "\u001b[0;32m~/anaconda3/lib/python3.7/site-packages/sklearn/utils/validation.py\u001b[0m in \u001b[0;36mcheck_array\u001b[0;34m(array, accept_sparse, accept_large_sparse, dtype, order, copy, force_all_finite, ensure_2d, allow_nd, ensure_min_samples, ensure_min_features, warn_on_dtype, estimator)\u001b[0m\n\u001b[1;32m    494\u001b[0m             \u001b[0;32mtry\u001b[0m\u001b[0;34m:\u001b[0m\u001b[0;34m\u001b[0m\u001b[0;34m\u001b[0m\u001b[0m\n\u001b[1;32m    495\u001b[0m                 \u001b[0mwarnings\u001b[0m\u001b[0;34m.\u001b[0m\u001b[0msimplefilter\u001b[0m\u001b[0;34m(\u001b[0m\u001b[0;34m'error'\u001b[0m\u001b[0;34m,\u001b[0m \u001b[0mComplexWarning\u001b[0m\u001b[0;34m)\u001b[0m\u001b[0;34m\u001b[0m\u001b[0;34m\u001b[0m\u001b[0m\n\u001b[0;32m--> 496\u001b[0;31m                 \u001b[0marray\u001b[0m \u001b[0;34m=\u001b[0m \u001b[0mnp\u001b[0m\u001b[0;34m.\u001b[0m\u001b[0masarray\u001b[0m\u001b[0;34m(\u001b[0m\u001b[0marray\u001b[0m\u001b[0;34m,\u001b[0m \u001b[0mdtype\u001b[0m\u001b[0;34m=\u001b[0m\u001b[0mdtype\u001b[0m\u001b[0;34m,\u001b[0m \u001b[0morder\u001b[0m\u001b[0;34m=\u001b[0m\u001b[0morder\u001b[0m\u001b[0;34m)\u001b[0m\u001b[0;34m\u001b[0m\u001b[0;34m\u001b[0m\u001b[0m\n\u001b[0m\u001b[1;32m    497\u001b[0m             \u001b[0;32mexcept\u001b[0m \u001b[0mComplexWarning\u001b[0m\u001b[0;34m:\u001b[0m\u001b[0;34m\u001b[0m\u001b[0;34m\u001b[0m\u001b[0m\n\u001b[1;32m    498\u001b[0m                 raise ValueError(\"Complex data not supported\\n\"\n",
      "\u001b[0;32m~/.local/lib/python3.7/site-packages/numpy/core/_asarray.py\u001b[0m in \u001b[0;36masarray\u001b[0;34m(a, dtype, order)\u001b[0m\n\u001b[1;32m     83\u001b[0m \u001b[0;34m\u001b[0m\u001b[0m\n\u001b[1;32m     84\u001b[0m     \"\"\"\n\u001b[0;32m---> 85\u001b[0;31m     \u001b[0;32mreturn\u001b[0m \u001b[0marray\u001b[0m\u001b[0;34m(\u001b[0m\u001b[0ma\u001b[0m\u001b[0;34m,\u001b[0m \u001b[0mdtype\u001b[0m\u001b[0;34m,\u001b[0m \u001b[0mcopy\u001b[0m\u001b[0;34m=\u001b[0m\u001b[0;32mFalse\u001b[0m\u001b[0;34m,\u001b[0m \u001b[0morder\u001b[0m\u001b[0;34m=\u001b[0m\u001b[0morder\u001b[0m\u001b[0;34m)\u001b[0m\u001b[0;34m\u001b[0m\u001b[0;34m\u001b[0m\u001b[0m\n\u001b[0m\u001b[1;32m     86\u001b[0m \u001b[0;34m\u001b[0m\u001b[0m\n\u001b[1;32m     87\u001b[0m \u001b[0;34m\u001b[0m\u001b[0m\n",
      "\u001b[0;32m~/anaconda3/lib/python3.7/site-packages/pandas/core/series.py\u001b[0m in \u001b[0;36m__array__\u001b[0;34m(self, dtype)\u001b[0m\n\u001b[1;32m    726\u001b[0m             \u001b[0mwarnings\u001b[0m\u001b[0;34m.\u001b[0m\u001b[0mwarn\u001b[0m\u001b[0;34m(\u001b[0m\u001b[0mmsg\u001b[0m\u001b[0;34m,\u001b[0m \u001b[0mFutureWarning\u001b[0m\u001b[0;34m,\u001b[0m \u001b[0mstacklevel\u001b[0m\u001b[0;34m=\u001b[0m\u001b[0;36m3\u001b[0m\u001b[0;34m)\u001b[0m\u001b[0;34m\u001b[0m\u001b[0;34m\u001b[0m\u001b[0m\n\u001b[1;32m    727\u001b[0m             \u001b[0mdtype\u001b[0m \u001b[0;34m=\u001b[0m \u001b[0;34m'M8[ns]'\u001b[0m\u001b[0;34m\u001b[0m\u001b[0;34m\u001b[0m\u001b[0m\n\u001b[0;32m--> 728\u001b[0;31m         \u001b[0;32mreturn\u001b[0m \u001b[0mnp\u001b[0m\u001b[0;34m.\u001b[0m\u001b[0masarray\u001b[0m\u001b[0;34m(\u001b[0m\u001b[0mself\u001b[0m\u001b[0;34m.\u001b[0m\u001b[0marray\u001b[0m\u001b[0;34m,\u001b[0m \u001b[0mdtype\u001b[0m\u001b[0;34m)\u001b[0m\u001b[0;34m\u001b[0m\u001b[0;34m\u001b[0m\u001b[0m\n\u001b[0m\u001b[1;32m    729\u001b[0m \u001b[0;34m\u001b[0m\u001b[0m\n\u001b[1;32m    730\u001b[0m     \u001b[0;32mdef\u001b[0m \u001b[0m__array_wrap__\u001b[0m\u001b[0;34m(\u001b[0m\u001b[0mself\u001b[0m\u001b[0;34m,\u001b[0m \u001b[0mresult\u001b[0m\u001b[0;34m,\u001b[0m \u001b[0mcontext\u001b[0m\u001b[0;34m=\u001b[0m\u001b[0;32mNone\u001b[0m\u001b[0;34m)\u001b[0m\u001b[0;34m:\u001b[0m\u001b[0;34m\u001b[0m\u001b[0;34m\u001b[0m\u001b[0m\n",
      "\u001b[0;32m~/.local/lib/python3.7/site-packages/numpy/core/_asarray.py\u001b[0m in \u001b[0;36masarray\u001b[0;34m(a, dtype, order)\u001b[0m\n\u001b[1;32m     83\u001b[0m \u001b[0;34m\u001b[0m\u001b[0m\n\u001b[1;32m     84\u001b[0m     \"\"\"\n\u001b[0;32m---> 85\u001b[0;31m     \u001b[0;32mreturn\u001b[0m \u001b[0marray\u001b[0m\u001b[0;34m(\u001b[0m\u001b[0ma\u001b[0m\u001b[0;34m,\u001b[0m \u001b[0mdtype\u001b[0m\u001b[0;34m,\u001b[0m \u001b[0mcopy\u001b[0m\u001b[0;34m=\u001b[0m\u001b[0;32mFalse\u001b[0m\u001b[0;34m,\u001b[0m \u001b[0morder\u001b[0m\u001b[0;34m=\u001b[0m\u001b[0morder\u001b[0m\u001b[0;34m)\u001b[0m\u001b[0;34m\u001b[0m\u001b[0;34m\u001b[0m\u001b[0m\n\u001b[0m\u001b[1;32m     86\u001b[0m \u001b[0;34m\u001b[0m\u001b[0m\n\u001b[1;32m     87\u001b[0m \u001b[0;34m\u001b[0m\u001b[0m\n",
      "\u001b[0;32m~/anaconda3/lib/python3.7/site-packages/pandas/core/arrays/numpy_.py\u001b[0m in \u001b[0;36m__array__\u001b[0;34m(self, dtype)\u001b[0m\n\u001b[1;32m    169\u001b[0m \u001b[0;34m\u001b[0m\u001b[0m\n\u001b[1;32m    170\u001b[0m     \u001b[0;32mdef\u001b[0m \u001b[0m__array__\u001b[0m\u001b[0;34m(\u001b[0m\u001b[0mself\u001b[0m\u001b[0;34m,\u001b[0m \u001b[0mdtype\u001b[0m\u001b[0;34m=\u001b[0m\u001b[0;32mNone\u001b[0m\u001b[0;34m)\u001b[0m\u001b[0;34m:\u001b[0m\u001b[0;34m\u001b[0m\u001b[0;34m\u001b[0m\u001b[0m\n\u001b[0;32m--> 171\u001b[0;31m         \u001b[0;32mreturn\u001b[0m \u001b[0mnp\u001b[0m\u001b[0;34m.\u001b[0m\u001b[0masarray\u001b[0m\u001b[0;34m(\u001b[0m\u001b[0mself\u001b[0m\u001b[0;34m.\u001b[0m\u001b[0m_ndarray\u001b[0m\u001b[0;34m,\u001b[0m \u001b[0mdtype\u001b[0m\u001b[0;34m=\u001b[0m\u001b[0mdtype\u001b[0m\u001b[0;34m)\u001b[0m\u001b[0;34m\u001b[0m\u001b[0;34m\u001b[0m\u001b[0m\n\u001b[0m\u001b[1;32m    172\u001b[0m \u001b[0;34m\u001b[0m\u001b[0m\n\u001b[1;32m    173\u001b[0m     \u001b[0m_HANDLED_TYPES\u001b[0m \u001b[0;34m=\u001b[0m \u001b[0;34m(\u001b[0m\u001b[0mnp\u001b[0m\u001b[0;34m.\u001b[0m\u001b[0mndarray\u001b[0m\u001b[0;34m,\u001b[0m \u001b[0mnumbers\u001b[0m\u001b[0;34m.\u001b[0m\u001b[0mNumber\u001b[0m\u001b[0;34m)\u001b[0m\u001b[0;34m\u001b[0m\u001b[0;34m\u001b[0m\u001b[0m\n",
      "\u001b[0;32m~/.local/lib/python3.7/site-packages/numpy/core/_asarray.py\u001b[0m in \u001b[0;36masarray\u001b[0;34m(a, dtype, order)\u001b[0m\n\u001b[1;32m     83\u001b[0m \u001b[0;34m\u001b[0m\u001b[0m\n\u001b[1;32m     84\u001b[0m     \"\"\"\n\u001b[0;32m---> 85\u001b[0;31m     \u001b[0;32mreturn\u001b[0m \u001b[0marray\u001b[0m\u001b[0;34m(\u001b[0m\u001b[0ma\u001b[0m\u001b[0;34m,\u001b[0m \u001b[0mdtype\u001b[0m\u001b[0;34m,\u001b[0m \u001b[0mcopy\u001b[0m\u001b[0;34m=\u001b[0m\u001b[0;32mFalse\u001b[0m\u001b[0;34m,\u001b[0m \u001b[0morder\u001b[0m\u001b[0;34m=\u001b[0m\u001b[0morder\u001b[0m\u001b[0;34m)\u001b[0m\u001b[0;34m\u001b[0m\u001b[0;34m\u001b[0m\u001b[0m\n\u001b[0m\u001b[1;32m     86\u001b[0m \u001b[0;34m\u001b[0m\u001b[0m\n\u001b[1;32m     87\u001b[0m \u001b[0;34m\u001b[0m\u001b[0m\n",
      "\u001b[0;31mValueError\u001b[0m: could not convert string to float: \"Can't eat just one!\""
     ]
    }
   ],
   "source": [
    "# Predicting using the two recommender models for normal as well as overhead rating \n",
    "y_pred = recommender.predict(X_test)\n",
    "y_pred_rating = recommender_rating.predict(X_test)\n",
    "\n",
    "y_pred_rating += 3\n",
    "\n",
    "rmse = np.sqrt(mean_squared_error(y_test, y_pred))\n",
    "rmse_rating = np.sqrt(mean_squared_error(y_test, y_pred_rating))\n",
    "\n",
    "print('RMSE using first perscpective: {}\\nRMSE using second perspective: {}'.format(rmse, rmse_rating))"
   ]
  },
  {
   "cell_type": "code",
   "execution_count": 198,
   "metadata": {},
   "outputs": [
    {
     "name": "stdout",
     "output_type": "stream",
     "text": [
      "Model built in 0.002318143844604492 seconds\n"
     ]
    }
   ],
   "source": [
    "recommender_item = Recommender(strategy = 'item').fit(user_item_matrix)"
   ]
  },
  {
   "cell_type": "code",
   "execution_count": 190,
   "metadata": {},
   "outputs": [
    {
     "name": "stdout",
     "output_type": "stream",
     "text": [
      "Model built in 0.0014309883117675781 seconds\n"
     ]
    }
   ],
   "source": [
    "recommender_item_rating = Recommender(strategy = 'item').fit(user_item_matrix_rating)"
   ]
  },
  {
   "cell_type": "code",
   "execution_count": 191,
   "metadata": {},
   "outputs": [
    {
     "ename": "TypeError",
     "evalue": "'module' object is not callable",
     "output_type": "error",
     "traceback": [
      "\u001b[0;31m---------------------------------------------------------------------------\u001b[0m",
      "\u001b[0;31mTypeError\u001b[0m                                 Traceback (most recent call last)",
      "\u001b[0;32m<ipython-input-191-f87413b5a3f5>\u001b[0m in \u001b[0;36m<module>\u001b[0;34m\u001b[0m\n\u001b[1;32m      1\u001b[0m \u001b[0;31m# Predicting using the two recommender models for normal as well as overhead rating\u001b[0m\u001b[0;34m\u001b[0m\u001b[0;34m\u001b[0m\u001b[0;34m\u001b[0m\u001b[0m\n\u001b[0;32m----> 2\u001b[0;31m \u001b[0my_item_pred\u001b[0m \u001b[0;34m=\u001b[0m \u001b[0mrecommender_item\u001b[0m\u001b[0;34m.\u001b[0m\u001b[0mpredict\u001b[0m\u001b[0;34m(\u001b[0m\u001b[0mX_test\u001b[0m\u001b[0;34m)\u001b[0m\u001b[0;34m\u001b[0m\u001b[0;34m\u001b[0m\u001b[0m\n\u001b[0m\u001b[1;32m      3\u001b[0m \u001b[0my_item_pred_rating\u001b[0m \u001b[0;34m=\u001b[0m \u001b[0mrecommender_item_rating\u001b[0m\u001b[0;34m.\u001b[0m\u001b[0mpredict\u001b[0m\u001b[0;34m(\u001b[0m\u001b[0mX_test\u001b[0m\u001b[0;34m)\u001b[0m\u001b[0;34m\u001b[0m\u001b[0;34m\u001b[0m\u001b[0m\n\u001b[1;32m      4\u001b[0m \u001b[0;34m\u001b[0m\u001b[0m\n\u001b[1;32m      5\u001b[0m \u001b[0my_item_pred_rating\u001b[0m \u001b[0;34m+=\u001b[0m \u001b[0;36m3\u001b[0m\u001b[0;34m\u001b[0m\u001b[0;34m\u001b[0m\u001b[0m\n",
      "\u001b[0;32m<ipython-input-167-63696d723325>\u001b[0m in \u001b[0;36mpredict\u001b[0;34m(self, X_test)\u001b[0m\n\u001b[1;32m     62\u001b[0m             \u001b[0my_pred\u001b[0m \u001b[0;34m=\u001b[0m \u001b[0mpd\u001b[0m\u001b[0;34m.\u001b[0m\u001b[0mSeries\u001b[0m\u001b[0;34m(\u001b[0m\u001b[0mindex\u001b[0m \u001b[0;34m=\u001b[0m \u001b[0mX_test\u001b[0m\u001b[0;34m.\u001b[0m\u001b[0mindex\u001b[0m\u001b[0;34m)\u001b[0m\u001b[0;34m\u001b[0m\u001b[0;34m\u001b[0m\u001b[0m\n\u001b[1;32m     63\u001b[0m \u001b[0;34m\u001b[0m\u001b[0m\n\u001b[0;32m---> 64\u001b[0;31m             \u001b[0;32mfor\u001b[0m \u001b[0mindex\u001b[0m \u001b[0;32min\u001b[0m \u001b[0mtqdm\u001b[0m\u001b[0;34m(\u001b[0m\u001b[0mX_test\u001b[0m\u001b[0;34m.\u001b[0m\u001b[0mindex\u001b[0m\u001b[0;34m,\u001b[0m \u001b[0mdesc\u001b[0m \u001b[0;34m=\u001b[0m \u001b[0;34m'Predicting Ratings'\u001b[0m\u001b[0;34m)\u001b[0m\u001b[0;34m:\u001b[0m\u001b[0;34m\u001b[0m\u001b[0;34m\u001b[0m\u001b[0m\n\u001b[0m\u001b[1;32m     65\u001b[0m                 \u001b[0mrow\u001b[0m \u001b[0;34m=\u001b[0m \u001b[0mX_test\u001b[0m\u001b[0;34m.\u001b[0m\u001b[0mloc\u001b[0m\u001b[0;34m[\u001b[0m\u001b[0mindex\u001b[0m\u001b[0;34m]\u001b[0m\u001b[0;34m\u001b[0m\u001b[0;34m\u001b[0m\u001b[0m\n\u001b[1;32m     66\u001b[0m                 \u001b[0mtarget_user\u001b[0m \u001b[0;34m=\u001b[0m \u001b[0mrow\u001b[0m\u001b[0;34m[\u001b[0m\u001b[0;34m'UserId'\u001b[0m\u001b[0;34m]\u001b[0m\u001b[0;34m\u001b[0m\u001b[0;34m\u001b[0m\u001b[0m\n",
      "\u001b[0;31mTypeError\u001b[0m: 'module' object is not callable"
     ]
    }
   ],
   "source": [
    "# Predicting using the two recommender models for normal as well as overhead rating \n",
    "y_item_pred = recommender_item.predict(X_test)\n",
    "y_item_pred_rating = recommender_item_rating.predict(X_test)\n",
    "\n",
    "y_item_pred_rating += 3\n",
    "\n",
    "rmse = np.sqrt(mean_squared_error(y_test, y_item_pred))\n",
    "rmse_rating = np.sqrt(mean_squared_error(y_test, y_item_pred_rating))\n",
    "\n",
    "print('RMSE using first perscpective: {}\\nRMSE using second perspective: {}'.format(rmse, rmse_rating))"
   ]
  },
  {
   "cell_type": "code",
   "execution_count": null,
   "metadata": {},
   "outputs": [],
   "source": []
  }
 ],
 "metadata": {
  "kernelspec": {
   "display_name": "Python 3",
   "language": "python",
   "name": "python3"
  },
  "language_info": {
   "codemirror_mode": {
    "name": "ipython",
    "version": 3
   },
   "file_extension": ".py",
   "mimetype": "text/x-python",
   "name": "python",
   "nbconvert_exporter": "python",
   "pygments_lexer": "ipython3",
   "version": "3.7.6"
  }
 },
 "nbformat": 4,
 "nbformat_minor": 2
}
