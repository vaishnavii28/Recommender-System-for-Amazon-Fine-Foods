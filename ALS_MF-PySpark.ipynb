{
 "cells": [
  {
   "cell_type": "code",
   "execution_count": 0,
   "metadata": {
    "colab": {},
    "colab_type": "code",
    "id": "U9Dkq72ecC37"
   },
   "outputs": [],
   "source": [
    "!apt-get install openjdk-8-jdk-headless -qq > /dev/null\n",
    "!wget -q https://downloads.apache.org/spark/spark-2.4.5/spark-2.4.5-bin-hadoop2.7.tgz\n",
    "!tar xf spark-2.4.5-bin-hadoop2.7.tgz\n",
    "!pip install -q findspark"
   ]
  },
  {
   "cell_type": "code",
   "execution_count": 0,
   "metadata": {
    "colab": {},
    "colab_type": "code",
    "id": "WTebIGVacccA"
   },
   "outputs": [],
   "source": [
    "import os\n",
    "os.environ[\"JAVA_HOME\"] = \"/usr/lib/jvm/java-8-openjdk-amd64\"\n",
    "os.environ[\"SPARK_HOME\"] = \"/content/spark-2.4.5-bin-hadoop2.7\""
   ]
  },
  {
   "cell_type": "code",
   "execution_count": 0,
   "metadata": {
    "colab": {},
    "colab_type": "code",
    "id": "4tvTywX2chOx"
   },
   "outputs": [],
   "source": [
    "import findspark\n",
    "findspark.init()\n",
    "from pyspark.sql import SparkSession\n",
    "spark = SparkSession.builder.master(\"local[*]\").getOrCreate()"
   ]
  },
  {
   "cell_type": "code",
   "execution_count": 0,
   "metadata": {
    "colab": {},
    "colab_type": "code",
    "id": "8tGmU63fcm_4"
   },
   "outputs": [],
   "source": [
    "from pyspark.ml.evaluation import RegressionEvaluator\n",
    "from pyspark.ml.recommendation import ALS\n",
    "from pyspark.ml.tuning import TrainValidationSplit, ParamGridBuilder\n",
    "from pyspark.sql import Row"
   ]
  },
  {
   "cell_type": "code",
   "execution_count": 0,
   "metadata": {
    "colab": {},
    "colab_type": "code",
    "id": "qrMlo1AKe2HG"
   },
   "outputs": [],
   "source": [
    "import pandas as pd"
   ]
  },
  {
   "cell_type": "code",
   "execution_count": 0,
   "metadata": {
    "colab": {},
    "colab_type": "code",
    "id": "inV8Ze1Ofhx6"
   },
   "outputs": [],
   "source": [
    "import io"
   ]
  },
  {
   "cell_type": "code",
   "execution_count": 0,
   "metadata": {
    "colab": {},
    "colab_type": "code",
    "id": "HYGlP_w8em2s"
   },
   "outputs": [],
   "source": [
    "df = pd.read_csv('/content/Reviews copy.csv')"
   ]
  },
  {
   "cell_type": "code",
   "execution_count": 0,
   "metadata": {
    "colab": {},
    "colab_type": "code",
    "id": "KmLFV2i6wh4e"
   },
   "outputs": [],
   "source": [
    "ratings = spark.createDataFrame(df_r)"
   ]
  },
  {
   "cell_type": "code",
   "execution_count": 0,
   "metadata": {
    "colab": {},
    "colab_type": "code",
    "id": "cUzf65iFkLkR"
   },
   "outputs": [],
   "source": [
    "from pyspark.ml import Pipeline\n",
    "from pyspark.ml.feature import StringIndexer\n",
    "\n",
    "indexers = [StringIndexer(inputCol=column, outputCol=column+\"_index\").fit(ratings) for column in list(set(ratings.columns)-set(['date'])) ]\n",
    "\n",
    "\n",
    "pipeline = Pipeline(stages=indexers)\n",
    "df_r = pipeline.fit(ratings).transform(ratings)\n"
   ]
  },
  {
   "cell_type": "code",
   "execution_count": 0,
   "metadata": {
    "colab": {
     "base_uri": "https://localhost:8080/",
     "height": 68
    },
    "colab_type": "code",
    "id": "05ucT-xjuoR8",
    "outputId": "5ef16f93-bfa6-4ed0-ce5f-85042da5585e"
   },
   "outputs": [
    {
     "data": {
      "text/plain": [
       "[('Score', 'bigint'),\n",
       " ('ProductId_index', 'double'),\n",
       " ('UserId_index', 'double')]"
      ]
     },
     "execution_count": 83,
     "metadata": {
      "tags": []
     },
     "output_type": "execute_result"
    }
   ],
   "source": [
    "df_r.dtypes"
   ]
  },
  {
   "cell_type": "code",
   "execution_count": 0,
   "metadata": {
    "colab": {},
    "colab_type": "code",
    "id": "hEpUR5OnvVc9"
   },
   "outputs": [],
   "source": [
    "columns_to_drop = [\"Id_index\", \"ProductId\", \"User_Id\", \"Id\", \"Score_index\"]\n",
    "\n",
    "df_r = df_r.drop(*columns_to_drop)"
   ]
  },
  {
   "cell_type": "code",
   "execution_count": 0,
   "metadata": {
    "colab": {},
    "colab_type": "code",
    "id": "XuZHjdAvqL8M"
   },
   "outputs": [],
   "source": [
    "df_r.drop(\"Id\", \"ProductId\", \"UserId\", \"Score_index\").collect()"
   ]
  },
  {
   "cell_type": "code",
   "execution_count": 0,
   "metadata": {
    "colab": {},
    "colab_type": "code",
    "id": "IELaasRsg6l4"
   },
   "outputs": [],
   "source": [
    "# Build the recommendation model using Alternating Least Squares\n",
    "# split training and testing\n",
    "(training, test) = df_r.randomSplit([0.8, 0.2])"
   ]
  },
  {
   "cell_type": "code",
   "execution_count": 0,
   "metadata": {
    "colab": {
     "base_uri": "https://localhost:8080/",
     "height": 34
    },
    "colab_type": "code",
    "id": "PwuchAcChDt0",
    "outputId": "416d91da-4899-4fee-827e-fec96ed6ec19"
   },
   "outputs": [
    {
     "name": "stdout",
     "output_type": "stream",
     "text": [
      "Root-mean-square error = 1.2046699187526728\n"
     ]
    }
   ],
   "source": [
    "# Building the recommendation model by ALS\n",
    "als_old = ALS(userCol=\"UserId_index\", itemCol=\"ProductId_index\", ratingCol=\"Score\", nonnegative=True, coldStartStrategy= \"drop\")\n",
    "model_old = als_old.fit(training)\n",
    "\n",
    "# Evaluate the model by computing the RMSE on the test data\n",
    "predictions_old = model_old.transform(test)\n",
    "evaluator_old = RegressionEvaluator(metricName=\"rmse\", labelCol=\"Score\",\n",
    "                                predictionCol=\"prediction\")\n",
    "\n",
    "rmse_old = evaluator_old.evaluate(predictions_old)\n",
    "print(\"Root-mean-square error = \" + str(rmse_old))"
   ]
  },
  {
   "cell_type": "code",
   "execution_count": 0,
   "metadata": {
    "colab": {},
    "colab_type": "code",
    "id": "XAuXllezzZBM"
   },
   "outputs": [],
   "source": [
    "#Improve the performance of the model by using CROSS VALIDATION and PARAMETER TUNING\n",
    "from pyspark.ml.tuning import TrainValidationSplit, ParamGridBuilder\n",
    "\n",
    "\n",
    "#create a new ALS estimator\n",
    "als = ALS(userCol=\"UserId_index\", itemCol=\"ProductId_index\", ratingCol=\"Score\", coldStartStrategy=\"drop\")\n",
    "#define a grid for both parameters\n",
    "#this will test 9 different combinations of the 2 parameters\n",
    "paramGrid = ParamGridBuilder() \\\n",
    "    .addGrid(als.rank, [1, 5, 10, 25, 50]) \\\n",
    "    .addGrid(als.regParam, [.001,0.1, .01, 1, 10]) \\\n",
    "    .build()\n",
    "\n",
    "\n",
    "\n",
    "trainValSplit = TrainValidationSplit(estimator = als, estimatorParamMaps=paramGrid, \n",
    "                                    evaluator = RegressionEvaluator(metricName=\"rmse\", predictionCol=\"prediction\", labelCol=\"Score\"), \n",
    "                                     trainRatio = 0.9, parallelism = 2)\n",
    "\n",
    "\n",
    "\n",
    "model = trainValSplit.fit(training)\n",
    "\n",
    "\n",
    "# Finally retrieve the best model\n",
    "bestModel = model.bestModel"
   ]
  },
  {
   "cell_type": "code",
   "execution_count": 0,
   "metadata": {
    "colab": {
     "base_uri": "https://localhost:8080/",
     "height": 34
    },
    "colab_type": "code",
    "id": "gE6hBXORIzOB",
    "outputId": "d7536315-58d7-4279-9075-7c23f1cc40f1"
   },
   "outputs": [
    {
     "data": {
      "text/plain": [
       "219736"
      ]
     },
     "execution_count": 89,
     "metadata": {
      "tags": []
     },
     "output_type": "execute_result"
    }
   ],
   "source": [
    "# Generate top 10 movie recommendations for each user\n",
    "userRecs = model_old.recommendForAllUsers(10)\n",
    "userRecs.count()"
   ]
  },
  {
   "cell_type": "code",
   "execution_count": 0,
   "metadata": {
    "colab": {
     "base_uri": "https://localhost:8080/",
     "height": 34
    },
    "colab_type": "code",
    "id": "0Q-_ALpoiw1N",
    "outputId": "d0eaf784-1a40-42d9-e614-fa146bcde7dc"
   },
   "outputs": [
    {
     "data": {
      "text/plain": [
       "DataFrame[UserId_index: int, recommendations: array<struct<ProductId_index:int,rating:float>>]"
      ]
     },
     "execution_count": 100,
     "metadata": {
      "tags": []
     },
     "output_type": "execute_result"
    }
   ],
   "source": [
    "userRecs"
   ]
  },
  {
   "cell_type": "code",
   "execution_count": 0,
   "metadata": {
    "colab": {
     "base_uri": "https://localhost:8080/",
     "height": 283
    },
    "colab_type": "code",
    "id": "xaSSZfZWfpYz",
    "outputId": "ebccb823-8285-4e6c-aa61-89d03a52e4c6"
   },
   "outputs": [
    {
     "ename": "AttributeError",
     "evalue": "ignored",
     "output_type": "error",
     "traceback": [
      "\u001b[0;31m---------------------------------------------------------------------------\u001b[0m",
      "\u001b[0;31mAttributeError\u001b[0m                            Traceback (most recent call last)",
      "\u001b[0;32m<ipython-input-103-a73c99cc60b2>\u001b[0m in \u001b[0;36m<module>\u001b[0;34m()\u001b[0m\n\u001b[0;32m----> 1\u001b[0;31m \u001b[0muserRecs\u001b[0m\u001b[0;34m.\u001b[0m\u001b[0miloc\u001b[0m\u001b[0;34m[\u001b[0m\u001b[0;36m0\u001b[0m\u001b[0;34m]\u001b[0m\u001b[0;34m\u001b[0m\u001b[0;34m\u001b[0m\u001b[0m\n\u001b[0m",
      "\u001b[0;32m/content/spark-2.4.5-bin-hadoop2.7/python/pyspark/sql/dataframe.py\u001b[0m in \u001b[0;36m__getattr__\u001b[0;34m(self, name)\u001b[0m\n\u001b[1;32m   1302\u001b[0m         \u001b[0;32mif\u001b[0m \u001b[0mname\u001b[0m \u001b[0;32mnot\u001b[0m \u001b[0;32min\u001b[0m \u001b[0mself\u001b[0m\u001b[0;34m.\u001b[0m\u001b[0mcolumns\u001b[0m\u001b[0;34m:\u001b[0m\u001b[0;34m\u001b[0m\u001b[0;34m\u001b[0m\u001b[0m\n\u001b[1;32m   1303\u001b[0m             raise AttributeError(\n\u001b[0;32m-> 1304\u001b[0;31m                 \"'%s' object has no attribute '%s'\" % (self.__class__.__name__, name))\n\u001b[0m\u001b[1;32m   1305\u001b[0m         \u001b[0mjc\u001b[0m \u001b[0;34m=\u001b[0m \u001b[0mself\u001b[0m\u001b[0;34m.\u001b[0m\u001b[0m_jdf\u001b[0m\u001b[0;34m.\u001b[0m\u001b[0mapply\u001b[0m\u001b[0;34m(\u001b[0m\u001b[0mname\u001b[0m\u001b[0;34m)\u001b[0m\u001b[0;34m\u001b[0m\u001b[0;34m\u001b[0m\u001b[0m\n\u001b[1;32m   1306\u001b[0m         \u001b[0;32mreturn\u001b[0m \u001b[0mColumn\u001b[0m\u001b[0;34m(\u001b[0m\u001b[0mjc\u001b[0m\u001b[0;34m)\u001b[0m\u001b[0;34m\u001b[0m\u001b[0;34m\u001b[0m\u001b[0m\n",
      "\u001b[0;31mAttributeError\u001b[0m: 'DataFrame' object has no attribute 'iloc'"
     ]
    }
   ],
   "source": [
    "userRecs.iloc[0,0]"
   ]
  }
 ],
 "metadata": {
  "colab": {
   "name": "Untitled1.ipynb",
   "provenance": []
  },
  "kernelspec": {
   "display_name": "Python 3",
   "language": "python",
   "name": "python3"
  },
  "language_info": {
   "codemirror_mode": {
    "name": "ipython",
    "version": 3
   },
   "file_extension": ".py",
   "mimetype": "text/x-python",
   "name": "python",
   "nbconvert_exporter": "python",
   "pygments_lexer": "ipython3",
   "version": "3.7.6"
  }
 },
 "nbformat": 4,
 "nbformat_minor": 1
}
